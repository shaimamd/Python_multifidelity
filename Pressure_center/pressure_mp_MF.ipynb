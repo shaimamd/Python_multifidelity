{
  "cells": [
    {
      "cell_type": "code",
      "execution_count": null,
      "metadata": {
        "colab": {
          "base_uri": "https://localhost:8080/"
        },
        "id": "UyW-SYQLqfuH",
        "outputId": "5abdfdc1-dba1-47e7-cad8-0f4d1ed0dd5b"
      },
      "outputs": [
        {
          "output_type": "stream",
          "name": "stdout",
          "text": [
            "Looking in indexes: https://pypi.org/simple, https://us-python.pkg.dev/colab-wheels/public/simple/\n",
            "Collecting emukit\n",
            "  Downloading emukit-0.4.10.tar.gz (170 kB)\n",
            "\u001b[2K     \u001b[90m━━━━━━━━━━━━━━━━━━━━━━━━━━━━━━━━━━━━━━━\u001b[0m \u001b[32m170.5/170.5 kB\u001b[0m \u001b[31m7.8 MB/s\u001b[0m eta \u001b[36m0:00:00\u001b[0m\n",
            "\u001b[?25h  Installing build dependencies ... \u001b[?25l\u001b[?25hdone\n",
            "  Getting requirements to build wheel ... \u001b[?25l\u001b[?25hdone\n",
            "  Preparing metadata (pyproject.toml) ... \u001b[?25l\u001b[?25hdone\n",
            "Requirement already satisfied: setuptools>=40.8.0 in /usr/local/lib/python3.10/dist-packages (from emukit) (67.7.2)\n",
            "Requirement already satisfied: numpy>=1.14.5 in /usr/local/lib/python3.10/dist-packages (from emukit) (1.22.4)\n",
            "Collecting GPy[plotting]>=1.10.0 (from emukit)\n",
            "  Downloading GPy-1.10.0.tar.gz (959 kB)\n",
            "\u001b[2K     \u001b[90m━━━━━━━━━━━━━━━━━━━━━━━━━━━━━━━━━━━━━━\u001b[0m \u001b[32m959.4/959.4 kB\u001b[0m \u001b[31m22.3 MB/s\u001b[0m eta \u001b[36m0:00:00\u001b[0m\n",
            "\u001b[?25h  Preparing metadata (setup.py) ... \u001b[?25l\u001b[?25hdone\n",
            "Collecting emcee>=2.2.1 (from emukit)\n",
            "  Downloading emcee-3.1.4-py2.py3-none-any.whl (46 kB)\n",
            "\u001b[2K     \u001b[90m━━━━━━━━━━━━━━━━━━━━━━━━━━━━━━━━━━━━━━━━\u001b[0m \u001b[32m46.2/46.2 kB\u001b[0m \u001b[31m6.0 MB/s\u001b[0m eta \u001b[36m0:00:00\u001b[0m\n",
            "\u001b[?25hRequirement already satisfied: scipy>=1.1.0 in /usr/local/lib/python3.10/dist-packages (from emukit) (1.10.1)\n",
            "Requirement already satisfied: six in /usr/local/lib/python3.10/dist-packages (from GPy[plotting]>=1.10.0->emukit) (1.16.0)\n",
            "Collecting paramz>=0.9.0 (from GPy[plotting]>=1.10.0->emukit)\n",
            "  Downloading paramz-0.9.5.tar.gz (71 kB)\n",
            "\u001b[2K     \u001b[90m━━━━━━━━━━━━━━━━━━━━━━━━━━━━━━━━━━━━━━━━\u001b[0m \u001b[32m71.3/71.3 kB\u001b[0m \u001b[31m9.0 MB/s\u001b[0m eta \u001b[36m0:00:00\u001b[0m\n",
            "\u001b[?25h  Preparing metadata (setup.py) ... \u001b[?25l\u001b[?25hdone\n",
            "Requirement already satisfied: cython>=0.29 in /usr/local/lib/python3.10/dist-packages (from GPy[plotting]>=1.10.0->emukit) (0.29.34)\n",
            "Requirement already satisfied: matplotlib>=3.0 in /usr/local/lib/python3.10/dist-packages (from GPy[plotting]>=1.10.0->emukit) (3.7.1)\n",
            "Requirement already satisfied: plotly>=1.8.6 in /usr/local/lib/python3.10/dist-packages (from GPy[plotting]>=1.10.0->emukit) (5.13.1)\n",
            "Requirement already satisfied: contourpy>=1.0.1 in /usr/local/lib/python3.10/dist-packages (from matplotlib>=3.0->GPy[plotting]>=1.10.0->emukit) (1.0.7)\n",
            "Requirement already satisfied: cycler>=0.10 in /usr/local/lib/python3.10/dist-packages (from matplotlib>=3.0->GPy[plotting]>=1.10.0->emukit) (0.11.0)\n",
            "Requirement already satisfied: fonttools>=4.22.0 in /usr/local/lib/python3.10/dist-packages (from matplotlib>=3.0->GPy[plotting]>=1.10.0->emukit) (4.39.3)\n",
            "Requirement already satisfied: kiwisolver>=1.0.1 in /usr/local/lib/python3.10/dist-packages (from matplotlib>=3.0->GPy[plotting]>=1.10.0->emukit) (1.4.4)\n",
            "Requirement already satisfied: packaging>=20.0 in /usr/local/lib/python3.10/dist-packages (from matplotlib>=3.0->GPy[plotting]>=1.10.0->emukit) (23.1)\n",
            "Requirement already satisfied: pillow>=6.2.0 in /usr/local/lib/python3.10/dist-packages (from matplotlib>=3.0->GPy[plotting]>=1.10.0->emukit) (8.4.0)\n",
            "Requirement already satisfied: pyparsing>=2.3.1 in /usr/local/lib/python3.10/dist-packages (from matplotlib>=3.0->GPy[plotting]>=1.10.0->emukit) (3.0.9)\n",
            "Requirement already satisfied: python-dateutil>=2.7 in /usr/local/lib/python3.10/dist-packages (from matplotlib>=3.0->GPy[plotting]>=1.10.0->emukit) (2.8.2)\n",
            "Requirement already satisfied: decorator>=4.0.10 in /usr/local/lib/python3.10/dist-packages (from paramz>=0.9.0->GPy[plotting]>=1.10.0->emukit) (4.4.2)\n",
            "Requirement already satisfied: tenacity>=6.2.0 in /usr/local/lib/python3.10/dist-packages (from plotly>=1.8.6->GPy[plotting]>=1.10.0->emukit) (8.2.2)\n",
            "Building wheels for collected packages: emukit, paramz, GPy\n",
            "  Building wheel for emukit (pyproject.toml) ... \u001b[?25l\u001b[?25hdone\n",
            "  Created wheel for emukit: filename=emukit-0.4.10-py3-none-any.whl size=257056 sha256=798c38faeb960fb672402004f8fc2176c9282bae141a168e828185c4fcc1bb0f\n",
            "  Stored in directory: /root/.cache/pip/wheels/30/d1/af/64ddede19b5eb77bd70362edebf9d393bf77dc34d354c11292\n",
            "  Building wheel for paramz (setup.py) ... \u001b[?25l\u001b[?25hdone\n",
            "  Created wheel for paramz: filename=paramz-0.9.5-py3-none-any.whl size=102548 sha256=81af1ec51ee57dffc8a55f9ab53ac7ffb985382203d7674df6caa45c079ea413\n",
            "  Stored in directory: /root/.cache/pip/wheels/d2/ef/9c/da9ceef7d0ff5287c24365844fc394852c2b79ac3fcf33bf8b\n",
            "  Building wheel for GPy (setup.py) ... \u001b[?25l\u001b[?25hdone\n",
            "  Created wheel for GPy: filename=GPy-1.10.0-cp310-cp310-linux_x86_64.whl size=3297000 sha256=7bbe54859ec9b2e7e68192df49afa69cfc3cd4c86754724cadd2fef5055deee4\n",
            "  Stored in directory: /root/.cache/pip/wheels/27/bd/9f/82ab4216eae088cba864ca0dc1d75699bd4bf6823790fb2f77\n",
            "Successfully built emukit paramz GPy\n",
            "Installing collected packages: emcee, paramz, GPy, emukit\n",
            "Successfully installed GPy-1.10.0 emcee-3.1.4 emukit-0.4.10 paramz-0.9.5\n"
          ]
        }
      ],
      "source": [
        "pip install emukit\n"
      ]
    },
    {
      "cell_type": "code",
      "source": [],
      "metadata": {
        "id": "9UBrgU6sGBOD"
      },
      "execution_count": null,
      "outputs": []
    },
    {
      "cell_type": "code",
      "execution_count": null,
      "metadata": {
        "id": "QRIHdEPh1bra"
      },
      "outputs": [],
      "source": []
    },
    {
      "cell_type": "code",
      "execution_count": null,
      "metadata": {
        "id": "Iqa4CkVcrfFz"
      },
      "outputs": [],
      "source": [
        "import GPy\n",
        "import emukit.multi_fidelity\n",
        "import emukit.test_functions\n",
        "from emukit.model_wrappers.gpy_model_wrappers import GPyMultiOutputWrapper\n",
        "from emukit.multi_fidelity.models import GPyLinearMultiFidelityModel\n",
        "import numpy as np\n",
        "import matplotlib.pyplot as plt\n",
        "from matplotlib import colors as mcolors\n",
        "colors = dict(mcolors.BASE_COLORS, **mcolors.CSS4_COLORS)\n",
        "%matplotlib inline"
      ]
    },
    {
      "cell_type": "code",
      "execution_count": null,
      "metadata": {
        "colab": {
          "base_uri": "https://localhost:8080/"
        },
        "id": "HcHC-XZQrKRL",
        "outputId": "dc4c9dfb-d157-4579-8326-8b1f16a3d092"
      },
      "outputs": [
        {
          "output_type": "stream",
          "name": "stdout",
          "text": [
            "Looking in indexes: https://pypi.org/simple, https://us-python.pkg.dev/colab-wheels/public/simple/\n",
            "Requirement already satisfied: GPy in /usr/local/lib/python3.10/dist-packages (1.10.0)\n",
            "Requirement already satisfied: numpy>=1.7 in /usr/local/lib/python3.10/dist-packages (from GPy) (1.22.4)\n",
            "Requirement already satisfied: six in /usr/local/lib/python3.10/dist-packages (from GPy) (1.16.0)\n",
            "Requirement already satisfied: paramz>=0.9.0 in /usr/local/lib/python3.10/dist-packages (from GPy) (0.9.5)\n",
            "Requirement already satisfied: cython>=0.29 in /usr/local/lib/python3.10/dist-packages (from GPy) (0.29.34)\n",
            "Requirement already satisfied: scipy>=1.3.0 in /usr/local/lib/python3.10/dist-packages (from GPy) (1.10.1)\n",
            "Requirement already satisfied: decorator>=4.0.10 in /usr/local/lib/python3.10/dist-packages (from paramz>=0.9.0->GPy) (4.4.2)\n"
          ]
        }
      ],
      "source": [
        "pip install GPy"
      ]
    },
    {
      "cell_type": "code",
      "execution_count": null,
      "metadata": {
        "id": "a_ARJ-ycgkir",
        "colab": {
          "base_uri": "https://localhost:8080/"
        },
        "outputId": "5e34362b-d660-434a-9a6a-986090a72f19"
      },
      "outputs": [
        {
          "output_type": "stream",
          "name": "stdout",
          "text": [
            "Mounted at /content/drive\n"
          ]
        }
      ],
      "source": [
        "from google.colab import drive\n",
        "drive.mount('/content/drive')\n",
        "import pandas as pd\n",
        "# DNS_data=pd.read_csv('/content/drive/MyDrive/ColabNotebooks/Linewssdns_short.csv')\n",
        "# RANS_data=pd.read_csv('/content/drive/MyDrive/ColabNotebooks/Linewssfullrans_short.csv')\n",
        "\n",
        "DNS_data=pd.read_csv('/content/drive/MyDrive/ColabNotebooks/pressDNS.csv')\n",
        "RANS_data=pd.read_csv('/content/drive/MyDrive/ColabNotebooks/pressRANS.csv')\n",
        "\n"
      ]
    },
    {
      "cell_type": "code",
      "source": [
        "# DNS_data=DNS_data*1000\n",
        "# RANS_data=RANS_data*1000\n"
      ],
      "metadata": {
        "id": "w_IpJSFN1lhx"
      },
      "execution_count": null,
      "outputs": []
    },
    {
      "cell_type": "code",
      "execution_count": null,
      "metadata": {
        "id": "QBnpzkCZrjuG",
        "colab": {
          "base_uri": "https://localhost:8080/"
        },
        "outputId": "56665574-1989-426a-e7d9-5f5d504315df"
      },
      "outputs": [
        {
          "output_type": "stream",
          "name": "stdout",
          "text": [
            "(6, 260)\n",
            "(20, 260)\n"
          ]
        }
      ],
      "source": [
        "# Generate sample data\n",
        "\n",
        "x_train_l =  np.array([[70,100],[70,80],[70,50],[70,30],[70,0],[60,100],[60,80],[60,50],[60,30],[60,0],[50,100],[50,80],[50,50],[50,30],[50,0],[40,100],[40,80],[40,50],[40,30],[40,0]])\n",
        "x_train_h = np.array([[70,100],[70,0],[60,80],[50,50],[40,100],[40,0]])\n",
        "\n",
        "DNS_full=DNS_data.dropna(axis=1)\n",
        "DNS_full=DNS_full.values\n",
        "DNS=DNS_full[:,[0,2,3,7,8,10]]\n",
        "DNS=DNS[0:260,:]\n",
        "\n",
        "DNS_test=DNS_full[:,[1,4,5,6,9]]\n",
        "DNS_test=DNS_test[0:260,:]\n",
        "\n",
        "RANS=RANS_data.dropna(axis=1)\n",
        "RANS_full=RANS.values\n",
        "\n",
        "RANS_test=RANS_full[:,[0,1,3,4,5,6,7,10,12,13,14,15,16,17,19]]\n",
        "RANS=RANS_full[0:260,:]\n",
        "RANS_test=RANS_test[0:260,:]\n",
        "#D_70_100=np.array(DNS_data['70_100'])\n",
        "#D_70_100=D_70_100.reshape(-1,1)\n",
        "#np.stack(())\n",
        "#print(column_values.shape)\n",
        "\n",
        "DNS_full=np.transpose(DNS_full)\n",
        "y_train_h=np.transpose(DNS)\n",
        "y_train_l=np.transpose(RANS)\n",
        "\n",
        "\n",
        "print(np.shape(y_train_h))\n",
        "print(np.shape(y_train_l))"
      ]
    },
    {
      "cell_type": "code",
      "source": [
        "# CI = np.ones(c[1])*1.96*hf_std_lin_mf_model[i,:].reshape(-1,1)\n",
        "# CI=CI.T\n",
        "# print(CI.shape)\n"
      ],
      "metadata": {
        "id": "G4Qr1YhYx1sq"
      },
      "execution_count": null,
      "outputs": []
    },
    {
      "cell_type": "code",
      "execution_count": null,
      "metadata": {
        "id": "1oG3xCaxrmTK",
        "colab": {
          "base_uri": "https://localhost:8080/"
        },
        "outputId": "83c9bd49-bb7e-455c-e5ca-7a9e99d31987"
      },
      "outputs": [
        {
          "output_type": "stream",
          "name": "stdout",
          "text": [
            "(26, 3)\n",
            "(26, 260)\n",
            "[[ 70. 100.   0.]\n",
            " [ 70.  80.   0.]\n",
            " [ 70.  50.   0.]\n",
            " [ 70.  30.   0.]\n",
            " [ 70.   0.   0.]\n",
            " [ 60. 100.   0.]\n",
            " [ 60.  80.   0.]\n",
            " [ 60.  50.   0.]\n",
            " [ 60.  30.   0.]\n",
            " [ 60.   0.   0.]\n",
            " [ 50. 100.   0.]\n",
            " [ 50.  80.   0.]\n",
            " [ 50.  50.   0.]\n",
            " [ 50.  30.   0.]\n",
            " [ 50.   0.   0.]\n",
            " [ 40. 100.   0.]\n",
            " [ 40.  80.   0.]\n",
            " [ 40.  50.   0.]\n",
            " [ 40.  30.   0.]\n",
            " [ 40.   0.   0.]\n",
            " [ 70. 100.   1.]\n",
            " [ 70.   0.   1.]\n",
            " [ 60.  80.   1.]\n",
            " [ 50.  50.   1.]\n",
            " [ 40. 100.   1.]\n",
            " [ 40.   0.   1.]]\n"
          ]
        }
      ],
      "source": [
        "# x_train_l=np.c_[ x_train_l, np.zeros(len(x_train_l)) ]\n",
        "# x_train_h=np.c_[ x_train_h, np.ones(len(x_train_h)) ]\n",
        "# X_train=np.append(x_train_l,x_train_h,axis=0)\n",
        "#\n",
        "from emukit.multi_fidelity.convert_lists_to_array import convert_x_list_to_array, convert_xy_lists_to_arrays\n",
        "\n",
        "# Y_train=np.append(y_train_h,y_train_l,axis=0)\n",
        "X_train, Y_train = convert_xy_lists_to_arrays([x_train_l, x_train_h], [y_train_l, y_train_h])\n",
        "print(X_train.shape)\n",
        "print(Y_train.shape)\n",
        "\n",
        "print(X_train)"
      ]
    },
    {
      "cell_type": "code",
      "execution_count": null,
      "metadata": {
        "id": "oS1y6WTz33d2",
        "colab": {
          "base_uri": "https://localhost:8080/"
        },
        "outputId": "5d3fc44a-0098-49c8-e417-08fa65711623"
      },
      "outputs": [
        {
          "output_type": "stream",
          "name": "stderr",
          "text": [
            "WARNING:lengthscale:reconstraining parameters ExpQuad.lengthscale\n",
            "WARNING:variance:reconstraining parameters ExpQuad.variance\n"
          ]
        },
        {
          "output_type": "stream",
          "name": "stdout",
          "text": [
            "Optimization restart 1/100, f = 2163.485480039765\n",
            "Optimization restart 2/100, f = 2163.485480039551\n",
            "Optimization restart 3/100, f = 3344.0629632424843\n",
            "Optimization restart 4/100, f = 2163.485480041903\n",
            "Optimization restart 5/100, f = 2163.4854800395133\n",
            "Optimization restart 6/100, f = 2163.4854800780986\n",
            "Optimization restart 7/100, f = 2163.4854800527773\n",
            "Optimization restart 8/100, f = 2163.485480153171\n",
            "Optimization restart 9/100, f = 2163.485480040362\n",
            "Optimization restart 10/100, f = 2163.4854800395406\n",
            "Optimization restart 11/100, f = 2163.4854800644393\n",
            "Optimization restart 12/100, f = 2163.485480060205\n",
            "Optimization restart 13/100, f = 3312.2233966051754\n",
            "Optimization restart 14/100, f = 2163.4854800397156\n",
            "Optimization restart 15/100, f = 2163.485480071232\n",
            "Optimization restart 16/100, f = 2163.485480061359\n",
            "Optimization restart 17/100, f = 2163.4854800395497\n",
            "Optimization restart 18/100, f = 2163.4854800408584\n",
            "Optimization restart 19/100, f = 3312.2233972161816\n",
            "Optimization restart 20/100, f = 2163.485480039507\n",
            "Optimization restart 21/100, f = 2163.485480039525\n",
            "Optimization restart 22/100, f = 2163.485480068829\n",
            "Optimization restart 23/100, f = 2163.4854800616977\n",
            "Optimization restart 24/100, f = 3344.0629777278255\n",
            "Optimization restart 25/100, f = 2163.4854800408466\n",
            "Optimization restart 26/100, f = 2163.485480044962\n",
            "Optimization restart 27/100, f = 2163.4854800553494\n",
            "Optimization restart 28/100, f = 3312.2233972162367\n",
            "Optimization restart 29/100, f = 3312.223397217799\n",
            "Optimization restart 30/100, f = 2163.4854800395233\n",
            "Optimization restart 31/100, f = 2163.485480039883\n",
            "Optimization restart 32/100, f = 2163.4854800411185\n",
            "Optimization restart 33/100, f = 3344.0629777278264\n",
            "Optimization restart 34/100, f = 2163.4854800395433\n",
            "Optimization restart 35/100, f = 2163.4854800399194\n",
            "Optimization restart 36/100, f = 2685.8817696183696\n",
            "Optimization restart 37/100, f = 2163.4854800425232\n",
            "Optimization restart 38/100, f = 2163.4854800397216\n",
            "Optimization restart 39/100, f = 2163.485480043917\n",
            "Optimization restart 40/100, f = 2163.4854800395206\n",
            "Optimization restart 41/100, f = 2163.4854800530265\n",
            "Optimization restart 42/100, f = 2163.4854800397525\n",
            "Optimization restart 43/100, f = 2163.485480042719\n",
            "Optimization restart 44/100, f = 2163.4854800405915\n",
            "Optimization restart 45/100, f = 2163.485480039585\n",
            "Optimization restart 46/100, f = 2163.4854815738217\n",
            "Optimization restart 47/100, f = 3312.223397216023\n",
            "Optimization restart 48/100, f = 2163.4854805161276\n",
            "Optimization restart 49/100, f = 2163.485480053742\n",
            "Optimization restart 50/100, f = 2163.4854800457215\n",
            "Optimization restart 51/100, f = 2163.4854800395124\n",
            "Optimization restart 52/100, f = 2685.867654899234\n",
            "Optimization restart 53/100, f = 3312.223397216565\n",
            "Optimization restart 54/100, f = 2163.485480046491\n",
            "Optimization restart 55/100, f = 2163.4854800395315\n",
            "Optimization restart 56/100, f = 2163.485480123981\n",
            "Optimization restart 57/100, f = 2685.881769617421\n",
            "Optimization restart 58/100, f = 2163.4854800399207\n",
            "Optimization restart 59/100, f = 3312.223397216147\n",
            "Optimization restart 60/100, f = 2163.4854800395347\n",
            "Optimization restart 61/100, f = 2163.485480062216\n",
            "Optimization restart 62/100, f = 2163.485480083481\n",
            "Optimization restart 63/100, f = 2163.485480100206\n",
            "Optimization restart 64/100, f = 2685.881769618606\n",
            "Optimization restart 65/100, f = 3344.0629777278396\n",
            "Optimization restart 66/100, f = 2163.485480047171\n",
            "Optimization restart 67/100, f = 3312.2233972160184\n",
            "Optimization restart 68/100, f = 2163.4854800398366\n",
            "Optimization restart 69/100, f = 2163.485480050411\n",
            "Optimization restart 70/100, f = 2163.485480060496\n",
            "Optimization restart 71/100, f = 2163.485480059488\n",
            "Optimization restart 72/100, f = 2163.4854800402622\n",
            "Optimization restart 73/100, f = 2163.4854800400058\n",
            "Optimization restart 74/100, f = 3312.2199373341637\n",
            "Optimization restart 75/100, f = 2163.4854800406\n",
            "Optimization restart 76/100, f = 3312.2233972160893\n",
            "Optimization restart 77/100, f = 2163.4854800425765\n",
            "Optimization restart 78/100, f = 2163.4854800447415\n",
            "Optimization restart 79/100, f = 2163.4854800396392\n",
            "Optimization restart 80/100, f = 2163.485480039485\n",
            "Optimization restart 81/100, f = 2163.48548004198\n",
            "Optimization restart 82/100, f = 2685.8817696174356\n",
            "Optimization restart 83/100, f = 2163.485480060215\n",
            "Optimization restart 84/100, f = 2163.4854800401795\n",
            "Optimization restart 85/100, f = 2163.485480039638\n",
            "Optimization restart 86/100, f = 2163.4854800422786\n",
            "Optimization restart 87/100, f = 2685.881769616977\n",
            "Optimization restart 88/100, f = 2163.4854800652975\n",
            "Optimization restart 89/100, f = 2163.485480040972\n",
            "Optimization restart 90/100, f = 3312.2233972306176\n",
            "Optimization restart 91/100, f = 2163.4854800738785\n",
            "Optimization restart 92/100, f = 2163.485480039725\n",
            "Optimization restart 93/100, f = 2163.485480065944\n",
            "Optimization restart 94/100, f = 2163.4854801961706\n",
            "Optimization restart 95/100, f = 2163.485480039608\n",
            "Optimization restart 96/100, f = 2163.485480039517\n",
            "Optimization restart 97/100, f = 2163.485480039806\n",
            "Optimization restart 98/100, f = 2163.4854803154244\n",
            "Optimization restart 99/100, f = 2163.485480039532\n",
            "Optimization restart 100/100, f = 2163.485480040614\n"
          ]
        },
        {
          "output_type": "execute_result",
          "data": {
            "text/plain": [
              "[<paramz.optimization.optimization.opt_lbfgsb at 0x7ff236739f90>,\n",
              " <paramz.optimization.optimization.opt_lbfgsb at 0x7ff236739990>,\n",
              " <paramz.optimization.optimization.opt_lbfgsb at 0x7ff23673a2f0>,\n",
              " <paramz.optimization.optimization.opt_lbfgsb at 0x7ff236739540>,\n",
              " <paramz.optimization.optimization.opt_lbfgsb at 0x7ff2367398a0>,\n",
              " <paramz.optimization.optimization.opt_lbfgsb at 0x7ff236739450>,\n",
              " <paramz.optimization.optimization.opt_lbfgsb at 0x7ff23673b010>,\n",
              " <paramz.optimization.optimization.opt_lbfgsb at 0x7ff236663eb0>,\n",
              " <paramz.optimization.optimization.opt_lbfgsb at 0x7ff23690dbd0>,\n",
              " <paramz.optimization.optimization.opt_lbfgsb at 0x7ff236872ec0>,\n",
              " <paramz.optimization.optimization.opt_lbfgsb at 0x7ff23673ae90>,\n",
              " <paramz.optimization.optimization.opt_lbfgsb at 0x7ff23673aad0>,\n",
              " <paramz.optimization.optimization.opt_lbfgsb at 0x7ff23673b100>,\n",
              " <paramz.optimization.optimization.opt_lbfgsb at 0x7ff23673b2b0>,\n",
              " <paramz.optimization.optimization.opt_lbfgsb at 0x7ff23673b040>,\n",
              " <paramz.optimization.optimization.opt_lbfgsb at 0x7ff236739270>,\n",
              " <paramz.optimization.optimization.opt_lbfgsb at 0x7ff236739570>,\n",
              " <paramz.optimization.optimization.opt_lbfgsb at 0x7ff23673bca0>,\n",
              " <paramz.optimization.optimization.opt_lbfgsb at 0x7ff236739660>,\n",
              " <paramz.optimization.optimization.opt_lbfgsb at 0x7ff23673bbe0>,\n",
              " <paramz.optimization.optimization.opt_lbfgsb at 0x7ff2367077c0>,\n",
              " <paramz.optimization.optimization.opt_lbfgsb at 0x7ff23673ba60>,\n",
              " <paramz.optimization.optimization.opt_lbfgsb at 0x7ff27272abc0>,\n",
              " <paramz.optimization.optimization.opt_lbfgsb at 0x7ff23674d210>,\n",
              " <paramz.optimization.optimization.opt_lbfgsb at 0x7ff236738790>,\n",
              " <paramz.optimization.optimization.opt_lbfgsb at 0x7ff2367394b0>,\n",
              " <paramz.optimization.optimization.opt_lbfgsb at 0x7ff23674caf0>,\n",
              " <paramz.optimization.optimization.opt_lbfgsb at 0x7ff23674c6d0>,\n",
              " <paramz.optimization.optimization.opt_lbfgsb at 0x7ff23674d300>,\n",
              " <paramz.optimization.optimization.opt_lbfgsb at 0x7ff23674c3d0>,\n",
              " <paramz.optimization.optimization.opt_lbfgsb at 0x7ff23674df60>,\n",
              " <paramz.optimization.optimization.opt_lbfgsb at 0x7ff23674e6b0>,\n",
              " <paramz.optimization.optimization.opt_lbfgsb at 0x7ff23674e6e0>,\n",
              " <paramz.optimization.optimization.opt_lbfgsb at 0x7ff23674e740>,\n",
              " <paramz.optimization.optimization.opt_lbfgsb at 0x7ff2366e3e80>,\n",
              " <paramz.optimization.optimization.opt_lbfgsb at 0x7ff2366e3eb0>,\n",
              " <paramz.optimization.optimization.opt_lbfgsb at 0x7ff2366e2020>,\n",
              " <paramz.optimization.optimization.opt_lbfgsb at 0x7ff2366e24d0>,\n",
              " <paramz.optimization.optimization.opt_lbfgsb at 0x7ff2366e16c0>,\n",
              " <paramz.optimization.optimization.opt_lbfgsb at 0x7ff2366e17e0>,\n",
              " <paramz.optimization.optimization.opt_lbfgsb at 0x7ff23673a770>,\n",
              " <paramz.optimization.optimization.opt_lbfgsb at 0x7ff23673ada0>,\n",
              " <paramz.optimization.optimization.opt_lbfgsb at 0x7ff23673b370>,\n",
              " <paramz.optimization.optimization.opt_lbfgsb at 0x7ff2367399f0>,\n",
              " <paramz.optimization.optimization.opt_lbfgsb at 0x7ff23673ba00>,\n",
              " <paramz.optimization.optimization.opt_lbfgsb at 0x7ff23673ad10>,\n",
              " <paramz.optimization.optimization.opt_lbfgsb at 0x7ff23673b910>,\n",
              " <paramz.optimization.optimization.opt_lbfgsb at 0x7ff23673b9a0>,\n",
              " <paramz.optimization.optimization.opt_lbfgsb at 0x7ff23673b310>,\n",
              " <paramz.optimization.optimization.opt_lbfgsb at 0x7ff23673ba90>,\n",
              " <paramz.optimization.optimization.opt_lbfgsb at 0x7ff23674e5f0>,\n",
              " <paramz.optimization.optimization.opt_lbfgsb at 0x7ff23674ded0>,\n",
              " <paramz.optimization.optimization.opt_lbfgsb at 0x7ff23673b1f0>,\n",
              " <paramz.optimization.optimization.opt_lbfgsb at 0x7ff23673a980>,\n",
              " <paramz.optimization.optimization.opt_lbfgsb at 0x7ff23673af20>,\n",
              " <paramz.optimization.optimization.opt_lbfgsb at 0x7ff23674cca0>,\n",
              " <paramz.optimization.optimization.opt_lbfgsb at 0x7ff23674c8b0>,\n",
              " <paramz.optimization.optimization.opt_lbfgsb at 0x7ff23674c130>,\n",
              " <paramz.optimization.optimization.opt_lbfgsb at 0x7ff23674d0f0>,\n",
              " <paramz.optimization.optimization.opt_lbfgsb at 0x7ff23674cdf0>,\n",
              " <paramz.optimization.optimization.opt_lbfgsb at 0x7ff23674d570>,\n",
              " <paramz.optimization.optimization.opt_lbfgsb at 0x7ff23674d900>,\n",
              " <paramz.optimization.optimization.opt_lbfgsb at 0x7ff23673b550>,\n",
              " <paramz.optimization.optimization.opt_lbfgsb at 0x7ff23673a0e0>,\n",
              " <paramz.optimization.optimization.opt_lbfgsb at 0x7ff23673b340>,\n",
              " <paramz.optimization.optimization.opt_lbfgsb at 0x7ff23673b730>,\n",
              " <paramz.optimization.optimization.opt_lbfgsb at 0x7ff23673b880>,\n",
              " <paramz.optimization.optimization.opt_lbfgsb at 0x7ff23673a470>,\n",
              " <paramz.optimization.optimization.opt_lbfgsb at 0x7ff23673b700>,\n",
              " <paramz.optimization.optimization.opt_lbfgsb at 0x7ff236739750>,\n",
              " <paramz.optimization.optimization.opt_lbfgsb at 0x7ff236738760>,\n",
              " <paramz.optimization.optimization.opt_lbfgsb at 0x7ff23673bdc0>,\n",
              " <paramz.optimization.optimization.opt_lbfgsb at 0x7ff23673b1c0>,\n",
              " <paramz.optimization.optimization.opt_lbfgsb at 0x7ff2367386d0>,\n",
              " <paramz.optimization.optimization.opt_lbfgsb at 0x7ff23673a7d0>,\n",
              " <paramz.optimization.optimization.opt_lbfgsb at 0x7ff236738400>,\n",
              " <paramz.optimization.optimization.opt_lbfgsb at 0x7ff2367383d0>,\n",
              " <paramz.optimization.optimization.opt_lbfgsb at 0x7ff23674d0c0>,\n",
              " <paramz.optimization.optimization.opt_lbfgsb at 0x7ff23674cc40>,\n",
              " <paramz.optimization.optimization.opt_lbfgsb at 0x7ff23674d090>,\n",
              " <paramz.optimization.optimization.opt_lbfgsb at 0x7ff23674ccd0>,\n",
              " <paramz.optimization.optimization.opt_lbfgsb at 0x7ff23674d8d0>,\n",
              " <paramz.optimization.optimization.opt_lbfgsb at 0x7ff23674c790>,\n",
              " <paramz.optimization.optimization.opt_lbfgsb at 0x7ff23674e1a0>,\n",
              " <paramz.optimization.optimization.opt_lbfgsb at 0x7ff23674ca60>,\n",
              " <paramz.optimization.optimization.opt_lbfgsb at 0x7ff23674dcf0>,\n",
              " <paramz.optimization.optimization.opt_lbfgsb at 0x7ff23674e560>,\n",
              " <paramz.optimization.optimization.opt_lbfgsb at 0x7ff23673a350>,\n",
              " <paramz.optimization.optimization.opt_lbfgsb at 0x7ff23673be20>,\n",
              " <paramz.optimization.optimization.opt_lbfgsb at 0x7ff23673ab30>,\n",
              " <paramz.optimization.optimization.opt_lbfgsb at 0x7ff23673bfd0>,\n",
              " <paramz.optimization.optimization.opt_lbfgsb at 0x7ff236739360>,\n",
              " <paramz.optimization.optimization.opt_lbfgsb at 0x7ff236739840>,\n",
              " <paramz.optimization.optimization.opt_lbfgsb at 0x7ff23673bf40>,\n",
              " <paramz.optimization.optimization.opt_lbfgsb at 0x7ff23673a920>,\n",
              " <paramz.optimization.optimization.opt_lbfgsb at 0x7ff23673b430>,\n",
              " <paramz.optimization.optimization.opt_lbfgsb at 0x7ff23673bfa0>,\n",
              " <paramz.optimization.optimization.opt_lbfgsb at 0x7ff23673a6b0>,\n",
              " <paramz.optimization.optimization.opt_lbfgsb at 0x7ff23673b220>,\n",
              " <paramz.optimization.optimization.opt_lbfgsb at 0x7ff23673bd90>]"
            ]
          },
          "metadata": {},
          "execution_count": 102
        }
      ],
      "source": [
        "## Create standard GP model using only high-fidelity data\n",
        "x_train_DNS=x_train_h\n",
        "y_train_DNS=y_train_h\n",
        "kernelDNS = GPy.kern.ExpQuad(input_dim=2,lengthscale=[100,100],variance=0.0001, ARD=True)\n",
        "kernelDNS.lengthscale.constrain_bounded(0,1000)\n",
        "kernelDNS.variance.constrain_bounded(0,10)\n",
        "high_gp_model = GPy.models.GPRegression(x_train_DNS, y_train_DNS, kernelDNS)\n",
        "high_gp_model.Gaussian_noise.fix(0.0001)\n",
        "\n",
        "## Fit the GP model\n",
        "\n",
        "high_gp_model.optimize_restarts(100)\n"
      ]
    },
    {
      "cell_type": "code",
      "source": [
        "print(high_gp_model.ExpQuad.lengthscale[0])\n",
        "print(high_gp_model.ExpQuad.lengthscale[1])\n",
        "print(high_gp_model.ExpQuad.variance)\n",
        "print(high_gp_model.gradient)\n",
        "# Get the gradients of optimization\n",
        "gradients_dns = high_gp_model.gradient\n",
        "\n",
        "# Get the names of the model's parameters\n",
        "parameter_dns = high_gp_model.parameter_names()\n",
        "\n",
        "# Print the gradients along with the parameter names\n",
        "print(\"Gradients of Optimization:\")\n",
        "for i in range(len(parameter_dns)):\n",
        "    print(f\"Parameter: {parameter_dns[i]} - Gradient: {gradients_dns[i]}\")\n"
      ],
      "metadata": {
        "id": "TVFPtiqBiUjd",
        "colab": {
          "base_uri": "https://localhost:8080/"
        },
        "outputId": "0f712a8b-b8d2-4534-f67b-2005dfccc16c"
      },
      "execution_count": null,
      "outputs": [
        {
          "output_type": "stream",
          "name": "stdout",
          "text": [
            "18.386214293434232\n",
            "384.7481714691388\n",
            "  \u001b[1mindex\u001b[0;0m  |  GP_regression.ExpQuad.variance  |  constraints  |  priors\n",
            "  \u001b[1m[0]  \u001b[0;0m  |                      6.59156899  |   0.0,10.0    |        \n",
            "[-1.46150840e-06  2.00576356e-07  1.14030466e-08  3.09705627e+03]\n",
            "Gradients of Optimization:\n",
            "Parameter: ExpQuad.variance - Gradient: -1.4615084019517277e-06\n",
            "Parameter: ExpQuad.lengthscale - Gradient: 2.0057635552461091e-07\n",
            "Parameter: Gaussian_noise.variance - Gradient: 1.1403046636505644e-08\n"
          ]
        }
      ]
    },
    {
      "cell_type": "code",
      "execution_count": null,
      "metadata": {
        "id": "yb4i1OXc4YgJ",
        "colab": {
          "base_uri": "https://localhost:8080/"
        },
        "outputId": "f3e2a2e5-28ad-4f2a-ca80-91859e7f58a4"
      },
      "outputs": [
        {
          "output_type": "stream",
          "name": "stdout",
          "text": [
            "(15, 260)\n"
          ]
        }
      ],
      "source": [
        "## Create standard GP model using only low-fidelity data\n",
        "\n",
        "x_train_RANS= np.array([[70,100],[70,80],[70,30],[70,0],[60,100],[60,80],[60,50],[50,100],[50,50],[50,30],[50,0],[40,100],[40,80],[40,50],[40,0]])\n",
        "\n",
        "y_train_RANS=np.transpose(RANS_test)\n",
        "print(y_train_RANS.shape)"
      ]
    },
    {
      "cell_type": "markdown",
      "source": [],
      "metadata": {
        "id": "XALWdBltXbUS"
      }
    },
    {
      "cell_type": "code",
      "source": [
        "# Perform sensitivity analysis using Sobol indices\n",
        "sensitivity = high_gp_model.input_sensitivity()\n",
        "\n",
        "# Calculate the sum of sensitivity indices\n",
        "sensitivity_sum = sum(sensitivity)\n",
        "\n",
        "# Normalize the sensitivity indices\n",
        "normalized_sensitivity = [index / sensitivity_sum for index in sensitivity]\n",
        "\n",
        "# Calculate the total Sobol indices\n",
        "total_sobol_indices = [index ** 2 for index in normalized_sensitivity]\n",
        "\n",
        "# Normalize the total Sobol indices\n",
        "total_sobol_sum = sum(total_sobol_indices)\n",
        "normalized_total_sobol_indices = [index / total_sobol_sum for index in total_sobol_indices]\n",
        "\n",
        "# Print the normalized total Sobol indices\n",
        "print(\"Normalized Total Sobol Indices:\")\n",
        "for i, sobol_index in enumerate(normalized_total_sobol_indices):\n",
        "    print(f\"Variable {i+1}: {sobol_index}\")\n"
      ],
      "metadata": {
        "colab": {
          "base_uri": "https://localhost:8080/"
        },
        "id": "eiKAA9Ie-BCK",
        "outputId": "bda51d33-96f6-47b1-e529-2dd0efb9b0d8"
      },
      "execution_count": null,
      "outputs": [
        {
          "output_type": "stream",
          "name": "stdout",
          "text": [
            "Normalized Total Sobol Indices:\n",
            "Variable 1: 0.9999947849227332\n",
            "Variable 2: 5.2150772668132666e-06\n"
          ]
        }
      ]
    },
    {
      "cell_type": "code",
      "source": [
        "# Perform sensitivity analysis using Sobol indices\n",
        "sensitivity = high_gp_model.input_sensitivity()\n",
        "\n",
        "# Normalize the sensitivity indices\n",
        "sensitivity_sum = sum(sensitivity)\n",
        "normalized_sensitivity = [index / sensitivity_sum for index in sensitivity]\n",
        "\n",
        "# Print the normalized sensitivity indices\n",
        "print(\"Normalized Sensitivity Indices:\")\n",
        "for i, sensitivity_index in enumerate(normalized_sensitivity):\n",
        "    print(f\"Variable {i+1}: {sensitivity_index}\")"
      ],
      "metadata": {
        "colab": {
          "base_uri": "https://localhost:8080/"
        },
        "id": "FJQEXm0V-Evh",
        "outputId": "c6a67097-d6ba-411c-8e29-de1c6c66b5d6"
      },
      "execution_count": null,
      "outputs": [
        {
          "output_type": "stream",
          "name": "stdout",
          "text": [
            "Normalized Sensitivity Indices:\n",
            "Variable 1: 0.9977215429005738\n",
            "Variable 2: 0.002278457099426166\n"
          ]
        }
      ]
    },
    {
      "cell_type": "markdown",
      "source": [],
      "metadata": {
        "id": "s67_xv3nXZoi"
      }
    },
    {
      "cell_type": "code",
      "execution_count": null,
      "metadata": {
        "id": "DQrM35nwabE9",
        "colab": {
          "base_uri": "https://localhost:8080/"
        },
        "outputId": "4d38710f-2311-4573-86b0-2dd010c7cc01"
      },
      "outputs": [
        {
          "output_type": "stream",
          "name": "stderr",
          "text": [
            "WARNING:lengthscale:reconstraining parameters ExpQuad.lengthscale\n",
            "WARNING:variance:reconstraining parameters ExpQuad.variance\n"
          ]
        },
        {
          "output_type": "stream",
          "name": "stdout",
          "text": [
            "Optimization restart 1/100, f = 1950.671683721177\n",
            "Optimization restart 2/100, f = 1950.6716837239069\n",
            "Optimization restart 3/100, f = 1950.6716837203608\n",
            "Optimization restart 4/100, f = 1950.671683725561\n",
            "Optimization restart 5/100, f = 1950.6716837214276\n",
            "Optimization restart 6/100, f = 1950.6716863178872\n",
            "Optimization restart 7/100, f = 1950.6716837197628\n",
            "Optimization restart 8/100, f = 1950.6716837307963\n",
            "Optimization restart 9/100, f = 1950.6716837201818\n",
            "Optimization restart 10/100, f = 1950.6716837263157\n",
            "Optimization restart 11/100, f = 1950.6716837209306\n",
            "Optimization restart 12/100, f = 1950.6716840687616\n",
            "Optimization restart 13/100, f = 1950.671684473757\n",
            "Optimization restart 14/100, f = 1950.6716837519864\n",
            "Optimization restart 15/100, f = 1950.6716837197418\n",
            "Optimization restart 16/100, f = 2825.360472591964\n",
            "Optimization restart 17/100, f = 1950.6716851760393\n",
            "Optimization restart 18/100, f = 1950.6716837196816\n",
            "Optimization restart 19/100, f = 1953.2468766843804\n",
            "Optimization restart 20/100, f = 1950.6716837953559\n",
            "Optimization restart 21/100, f = 1950.6716837276128\n",
            "Optimization restart 22/100, f = 1950.6716837200083\n",
            "Optimization restart 23/100, f = 1950.6716837444392\n",
            "Optimization restart 24/100, f = 1950.6716837870372\n",
            "Optimization restart 25/100, f = 1950.6716837586428\n",
            "Optimization restart 26/100, f = 1950.6716837197582\n",
            "Optimization restart 27/100, f = 1950.6716837200938\n",
            "Optimization restart 28/100, f = 1950.671683720133\n",
            "Optimization restart 29/100, f = 1953.248349002311\n",
            "Optimization restart 30/100, f = 1950.6716837221666\n",
            "Optimization restart 31/100, f = 1950.6716837198935\n",
            "Optimization restart 32/100, f = 1950.6716837900271\n",
            "Optimization restart 33/100, f = 1950.6716837200088\n",
            "Optimization restart 34/100, f = 1950.671683737754\n",
            "Optimization restart 35/100, f = 3030.396370650835\n",
            "Optimization restart 36/100, f = 3087.756983826727\n",
            "Optimization restart 37/100, f = 3030.396180291641\n",
            "Optimization restart 38/100, f = 1950.6717126599083\n",
            "Optimization restart 39/100, f = 1950.6716837256977\n",
            "Optimization restart 40/100, f = 1950.671683967992\n",
            "Optimization restart 41/100, f = 1950.6716837197064\n",
            "Optimization restart 42/100, f = 1950.6716837208378\n",
            "Optimization restart 43/100, f = 1950.671683731528\n",
            "Optimization restart 44/100, f = 3087.7569838193426\n",
            "Optimization restart 45/100, f = 3030.3957147080987\n",
            "Optimization restart 46/100, f = 1950.6716950550067\n",
            "Optimization restart 47/100, f = 1950.6716837231093\n",
            "Optimization restart 48/100, f = 2825.9509687833724\n",
            "Optimization restart 49/100, f = 1950.6716840076208\n",
            "Optimization restart 50/100, f = 1950.6717787276646\n",
            "Optimization restart 51/100, f = 1950.6716837246527\n",
            "Optimization restart 52/100, f = 1950.6716837203576\n",
            "Optimization restart 53/100, f = 1950.6716837196686\n",
            "Optimization restart 54/100, f = 1950.671683730266\n",
            "Optimization restart 55/100, f = 1950.6716837423264\n",
            "Optimization restart 56/100, f = 1950.6716837825836\n",
            "Optimization restart 57/100, f = 1950.6716837644105\n",
            "Optimization restart 58/100, f = 1950.6716837367271\n",
            "Optimization restart 59/100, f = 1950.6716839853664\n",
            "Optimization restart 60/100, f = 1950.6716837768709\n",
            "Optimization restart 61/100, f = 1950.6716839545925\n",
            "Optimization restart 62/100, f = 1951.6241096390922\n",
            "Optimization restart 63/100, f = 1950.6716907137316\n",
            "Optimization restart 64/100, f = 1950.6716840907338\n",
            "Optimization restart 65/100, f = 1950.6716837250522\n",
            "Optimization restart 66/100, f = 1950.6716837197832\n",
            "Optimization restart 67/100, f = 1950.6716837565268\n",
            "Optimization restart 68/100, f = 1950.6716837269555\n",
            "Optimization restart 69/100, f = 1951.6241045339796\n",
            "Optimization restart 70/100, f = 2845.606185954954\n",
            "Optimization restart 71/100, f = 1950.6716837429017\n",
            "Optimization restart 72/100, f = 1950.6716837891684\n",
            "Optimization restart 73/100, f = 1950.671683732227\n",
            "Optimization restart 74/100, f = 1950.6716848074211\n",
            "Optimization restart 75/100, f = 1950.671683747824\n",
            "Optimization restart 76/100, f = 1950.6716837209897\n",
            "Optimization restart 77/100, f = 1950.6716837204854\n",
            "Optimization restart 78/100, f = 1950.6716837345002\n",
            "Optimization restart 79/100, f = 1950.6716847219836\n",
            "Optimization restart 80/100, f = 1950.6716837210738\n",
            "Optimization restart 81/100, f = 1950.671683722624\n",
            "Optimization restart 82/100, f = 1950.671683740382\n",
            "Optimization restart 83/100, f = 1950.6716837224958\n",
            "Optimization restart 84/100, f = 1950.6716839620294\n",
            "Optimization restart 85/100, f = 1950.6716837582621\n",
            "Optimization restart 86/100, f = 1950.671683720615\n",
            "Optimization restart 87/100, f = 1950.671684065995\n",
            "Optimization restart 88/100, f = 1950.6716837385277\n",
            "Optimization restart 89/100, f = 1950.6716837442348\n",
            "Optimization restart 90/100, f = 1950.6716839656117\n",
            "Optimization restart 91/100, f = 1950.6716837221327\n",
            "Optimization restart 92/100, f = 1950.6716837196955\n",
            "Optimization restart 93/100, f = 1950.6716837197598\n",
            "Optimization restart 94/100, f = 1950.6716837221652\n",
            "Optimization restart 95/100, f = 1950.6716837215035\n",
            "Optimization restart 96/100, f = 1950.6716842062035\n",
            "Optimization restart 97/100, f = 1950.6716837198892\n",
            "Optimization restart 98/100, f = 1950.6717918974073\n",
            "Optimization restart 99/100, f = 1950.671683815642\n",
            "Optimization restart 100/100, f = 1950.6716837216977\n"
          ]
        },
        {
          "output_type": "execute_result",
          "data": {
            "text/plain": [
              "[<paramz.optimization.optimization.opt_lbfgsb at 0x7ff23640b4f0>,\n",
              " <paramz.optimization.optimization.opt_lbfgsb at 0x7ff23640a620>,\n",
              " <paramz.optimization.optimization.opt_lbfgsb at 0x7ff23640b5e0>,\n",
              " <paramz.optimization.optimization.opt_lbfgsb at 0x7ff23640a5c0>,\n",
              " <paramz.optimization.optimization.opt_lbfgsb at 0x7ff2365ee290>,\n",
              " <paramz.optimization.optimization.opt_lbfgsb at 0x7ff2365ef6a0>,\n",
              " <paramz.optimization.optimization.opt_lbfgsb at 0x7ff236651e70>,\n",
              " <paramz.optimization.optimization.opt_lbfgsb at 0x7ff23640a0b0>,\n",
              " <paramz.optimization.optimization.opt_lbfgsb at 0x7ff236650d60>,\n",
              " <paramz.optimization.optimization.opt_lbfgsb at 0x7ff23640bd60>,\n",
              " <paramz.optimization.optimization.opt_lbfgsb at 0x7ff236409720>,\n",
              " <paramz.optimization.optimization.opt_lbfgsb at 0x7ff23640a920>,\n",
              " <paramz.optimization.optimization.opt_lbfgsb at 0x7ff236430f70>,\n",
              " <paramz.optimization.optimization.opt_lbfgsb at 0x7ff236430e20>,\n",
              " <paramz.optimization.optimization.opt_lbfgsb at 0x7ff236431090>,\n",
              " <paramz.optimization.optimization.opt_lbfgsb at 0x7ff236430d00>,\n",
              " <paramz.optimization.optimization.opt_lbfgsb at 0x7ff236431630>,\n",
              " <paramz.optimization.optimization.opt_lbfgsb at 0x7ff236431e40>,\n",
              " <paramz.optimization.optimization.opt_lbfgsb at 0x7ff2364099f0>,\n",
              " <paramz.optimization.optimization.opt_lbfgsb at 0x7ff23640bf70>,\n",
              " <paramz.optimization.optimization.opt_lbfgsb at 0x7ff23640bd30>,\n",
              " <paramz.optimization.optimization.opt_lbfgsb at 0x7ff23640bfa0>,\n",
              " <paramz.optimization.optimization.opt_lbfgsb at 0x7ff23640bf40>,\n",
              " <paramz.optimization.optimization.opt_lbfgsb at 0x7ff23640bfd0>,\n",
              " <paramz.optimization.optimization.opt_lbfgsb at 0x7ff23640a6e0>,\n",
              " <paramz.optimization.optimization.opt_lbfgsb at 0x7ff23640be80>,\n",
              " <paramz.optimization.optimization.opt_lbfgsb at 0x7ff236408370>,\n",
              " <paramz.optimization.optimization.opt_lbfgsb at 0x7ff236408730>,\n",
              " <paramz.optimization.optimization.opt_lbfgsb at 0x7ff23640bf10>,\n",
              " <paramz.optimization.optimization.opt_lbfgsb at 0x7ff236431150>,\n",
              " <paramz.optimization.optimization.opt_lbfgsb at 0x7ff2364314b0>,\n",
              " <paramz.optimization.optimization.opt_lbfgsb at 0x7ff23640b070>,\n",
              " <paramz.optimization.optimization.opt_lbfgsb at 0x7ff23640b730>,\n",
              " <paramz.optimization.optimization.opt_lbfgsb at 0x7ff23640b5b0>,\n",
              " <paramz.optimization.optimization.opt_lbfgsb at 0x7ff236430820>,\n",
              " <paramz.optimization.optimization.opt_lbfgsb at 0x7ff236430400>,\n",
              " <paramz.optimization.optimization.opt_lbfgsb at 0x7ff2364306a0>,\n",
              " <paramz.optimization.optimization.opt_lbfgsb at 0x7ff2364301c0>,\n",
              " <paramz.optimization.optimization.opt_lbfgsb at 0x7ff236430f40>,\n",
              " <paramz.optimization.optimization.opt_lbfgsb at 0x7ff236432770>,\n",
              " <paramz.optimization.optimization.opt_lbfgsb at 0x7ff236432bc0>,\n",
              " <paramz.optimization.optimization.opt_lbfgsb at 0x7ff23640b760>,\n",
              " <paramz.optimization.optimization.opt_lbfgsb at 0x7ff23640a680>,\n",
              " <paramz.optimization.optimization.opt_lbfgsb at 0x7ff23640a200>,\n",
              " <paramz.optimization.optimization.opt_lbfgsb at 0x7ff23640be20>,\n",
              " <paramz.optimization.optimization.opt_lbfgsb at 0x7ff23640a740>,\n",
              " <paramz.optimization.optimization.opt_lbfgsb at 0x7ff236409ab0>,\n",
              " <paramz.optimization.optimization.opt_lbfgsb at 0x7ff236409360>,\n",
              " <paramz.optimization.optimization.opt_lbfgsb at 0x7ff23640a0e0>,\n",
              " <paramz.optimization.optimization.opt_lbfgsb at 0x7ff23640beb0>,\n",
              " <paramz.optimization.optimization.opt_lbfgsb at 0x7ff236409f60>,\n",
              " <paramz.optimization.optimization.opt_lbfgsb at 0x7ff236408e20>,\n",
              " <paramz.optimization.optimization.opt_lbfgsb at 0x7ff23640a1a0>,\n",
              " <paramz.optimization.optimization.opt_lbfgsb at 0x7ff236430b20>,\n",
              " <paramz.optimization.optimization.opt_lbfgsb at 0x7ff236430790>,\n",
              " <paramz.optimization.optimization.opt_lbfgsb at 0x7ff2364302e0>,\n",
              " <paramz.optimization.optimization.opt_lbfgsb at 0x7ff236430550>,\n",
              " <paramz.optimization.optimization.opt_lbfgsb at 0x7ff236430220>,\n",
              " <paramz.optimization.optimization.opt_lbfgsb at 0x7ff236431240>,\n",
              " <paramz.optimization.optimization.opt_lbfgsb at 0x7ff236430d90>,\n",
              " <paramz.optimization.optimization.opt_lbfgsb at 0x7ff236431780>,\n",
              " <paramz.optimization.optimization.opt_lbfgsb at 0x7ff2364303d0>,\n",
              " <paramz.optimization.optimization.opt_lbfgsb at 0x7ff2364321d0>,\n",
              " <paramz.optimization.optimization.opt_lbfgsb at 0x7ff236431d50>,\n",
              " <paramz.optimization.optimization.opt_lbfgsb at 0x7ff236431ed0>,\n",
              " <paramz.optimization.optimization.opt_lbfgsb at 0x7ff236432260>,\n",
              " <paramz.optimization.optimization.opt_lbfgsb at 0x7ff23640b010>,\n",
              " <paramz.optimization.optimization.opt_lbfgsb at 0x7ff236408460>,\n",
              " <paramz.optimization.optimization.opt_lbfgsb at 0x7ff23640a890>,\n",
              " <paramz.optimization.optimization.opt_lbfgsb at 0x7ff23640bee0>,\n",
              " <paramz.optimization.optimization.opt_lbfgsb at 0x7ff23640a110>,\n",
              " <paramz.optimization.optimization.opt_lbfgsb at 0x7ff23640afb0>,\n",
              " <paramz.optimization.optimization.opt_lbfgsb at 0x7ff23640be50>,\n",
              " <paramz.optimization.optimization.opt_lbfgsb at 0x7ff23640a410>,\n",
              " <paramz.optimization.optimization.opt_lbfgsb at 0x7ff23640a3e0>,\n",
              " <paramz.optimization.optimization.opt_lbfgsb at 0x7ff236430760>,\n",
              " <paramz.optimization.optimization.opt_lbfgsb at 0x7ff236431ae0>,\n",
              " <paramz.optimization.optimization.opt_lbfgsb at 0x7ff236431570>,\n",
              " <paramz.optimization.optimization.opt_lbfgsb at 0x7ff2364315d0>,\n",
              " <paramz.optimization.optimization.opt_lbfgsb at 0x7ff2364315a0>,\n",
              " <paramz.optimization.optimization.opt_lbfgsb at 0x7ff2364310c0>,\n",
              " <paramz.optimization.optimization.opt_lbfgsb at 0x7ff2364305e0>,\n",
              " <paramz.optimization.optimization.opt_lbfgsb at 0x7ff236430ee0>,\n",
              " <paramz.optimization.optimization.opt_lbfgsb at 0x7ff236432410>,\n",
              " <paramz.optimization.optimization.opt_lbfgsb at 0x7ff2364300d0>,\n",
              " <paramz.optimization.optimization.opt_lbfgsb at 0x7ff236432c20>,\n",
              " <paramz.optimization.optimization.opt_lbfgsb at 0x7ff236430eb0>,\n",
              " <paramz.optimization.optimization.opt_lbfgsb at 0x7ff236432d40>,\n",
              " <paramz.optimization.optimization.opt_lbfgsb at 0x7ff236432b60>,\n",
              " <paramz.optimization.optimization.opt_lbfgsb at 0x7ff236432b90>,\n",
              " <paramz.optimization.optimization.opt_lbfgsb at 0x7ff236430580>,\n",
              " <paramz.optimization.optimization.opt_lbfgsb at 0x7ff236433fa0>,\n",
              " <paramz.optimization.optimization.opt_lbfgsb at 0x7ff236433310>,\n",
              " <paramz.optimization.optimization.opt_lbfgsb at 0x7ff23640af80>,\n",
              " <paramz.optimization.optimization.opt_lbfgsb at 0x7ff236433370>,\n",
              " <paramz.optimization.optimization.opt_lbfgsb at 0x7ff236432ad0>,\n",
              " <paramz.optimization.optimization.opt_lbfgsb at 0x7ff236432f80>,\n",
              " <paramz.optimization.optimization.opt_lbfgsb at 0x7ff2364333a0>,\n",
              " <paramz.optimization.optimization.opt_lbfgsb at 0x7ff2364304f0>,\n",
              " <paramz.optimization.optimization.opt_lbfgsb at 0x7ff236433f10>]"
            ]
          },
          "metadata": {},
          "execution_count": 124
        }
      ],
      "source": [
        "kernelRANS = GPy.kern.ExpQuad(input_dim=2,lengthscale=[10,10],variance=0.05, ARD=True)\n",
        "kernelRANS.lengthscale.constrain_bounded(0,1000)\n",
        "kernelRANS.variance.constrain_bounded(0,10)\n",
        "low_gp_model = GPy.models.GPRegression(x_train_RANS, y_train_RANS, kernelRANS)\n",
        "low_gp_model.Gaussian_noise.fix(0.1)\n",
        "\n",
        "## Fit the GP model\n",
        "\n",
        "\n",
        "low_gp_model.optimize_restarts(100)"
      ]
    },
    {
      "cell_type": "code",
      "source": [
        "print(low_gp_model.ExpQuad.lengthscale[0])\n",
        "print(low_gp_model.ExpQuad.lengthscale[1])\n",
        "print(low_gp_model.ExpQuad.variance)\n",
        "\n",
        "# Get the gradients of optimization\n",
        "gradients_rans = low_gp_model.gradient\n",
        "\n",
        "# Get the names of the model's parameters\n",
        "parameter_rans = low_gp_model.parameter_names()\n",
        "\n",
        "# Print the gradients along with the parameter names\n",
        "print(\"Gradients of Optimization:\")\n",
        "for i in range(len(parameter_rans)):\n",
        "    print(f\"Parameter: {parameter_rans[i]} - Gradient: {gradients_rans[i]}\")\n"
      ],
      "metadata": {
        "id": "ZvtbDujziXtf",
        "colab": {
          "base_uri": "https://localhost:8080/"
        },
        "outputId": "550f867c-5a9a-47b6-dc8a-d1aca16f3a95"
      },
      "execution_count": null,
      "outputs": [
        {
          "output_type": "stream",
          "name": "stdout",
          "text": [
            "18.49056969915354\n",
            "239.16576798808435\n",
            "  \u001b[1mindex\u001b[0;0m  |  GP_regression.ExpQuad.variance  |  constraints  |  priors\n",
            "  \u001b[1m[0]  \u001b[0;0m  |                      6.96948274  |   0.0,10.0    |        \n",
            "Gradients of Optimization:\n",
            "Parameter: ExpQuad.variance - Gradient: -0.0002458536832189429\n",
            "Parameter: ExpQuad.lengthscale - Gradient: 8.334852448738048e-05\n",
            "Parameter: Gaussian_noise.variance - Gradient: 1.1622869497380268e-05\n"
          ]
        }
      ]
    },
    {
      "cell_type": "code",
      "source": [
        "# Perform sensitivity analysis using Sobol indices\n",
        "sensitivity = low_gp_model.input_sensitivity()\n",
        "\n",
        "# Normalize the sensitivity indices\n",
        "sensitivity_sum = sum(sensitivity)\n",
        "normalized_sensitivity = [index / sensitivity_sum for index in sensitivity]\n",
        "\n",
        "# Print the normalized sensitivity indices\n",
        "print(\"Normalized Sensitivity Indices:\")\n",
        "for i, sensitivity_index in enumerate(normalized_sensitivity):\n",
        "    print(f\"Variable {i+1}: {sensitivity_index}\")"
      ],
      "metadata": {
        "colab": {
          "base_uri": "https://localhost:8080/"
        },
        "id": "efh0oYHuXtCu",
        "outputId": "25c0e6b3-6c9e-4bc3-baec-9bd0740b16ae"
      },
      "execution_count": null,
      "outputs": [
        {
          "output_type": "stream",
          "name": "stdout",
          "text": [
            "Normalized Sensitivity Indices:\n",
            "Variable 1: 0.9940582499220897\n",
            "Variable 2: 0.005941750077910382\n"
          ]
        }
      ]
    },
    {
      "cell_type": "code",
      "source": [
        "# Perform sensitivity analysis using Sobol indices\n",
        "sensitivity = low_gp_model.input_sensitivity()\n",
        "\n",
        "# Calculate the sum of sensitivity indices\n",
        "sensitivity_sum = sum(sensitivity)\n",
        "\n",
        "# Normalize the sensitivity indices\n",
        "normalized_sensitivity = [index / sensitivity_sum for index in sensitivity]\n",
        "\n",
        "# Calculate the total Sobol indices\n",
        "total_sobol_indices = [index ** 2 for index in normalized_sensitivity]\n",
        "\n",
        "# Normalize the total Sobol indices\n",
        "total_sobol_sum = sum(total_sobol_indices)\n",
        "normalized_total_sobol_indices = [index / total_sobol_sum for index in total_sobol_indices]\n",
        "\n",
        "# Print the normalized total Sobol indices\n",
        "print(\"Normalized Total Sobol Indices:\")\n",
        "for i, sobol_index in enumerate(normalized_total_sobol_indices):\n",
        "    print(f\"Variable {i+1}: {sobol_index}\")\n"
      ],
      "metadata": {
        "colab": {
          "base_uri": "https://localhost:8080/"
        },
        "id": "92wClmrSYQmn",
        "outputId": "121cd676-2e03-4caf-a960-10a6557d8d0e"
      },
      "execution_count": null,
      "outputs": [
        {
          "output_type": "stream",
          "name": "stdout",
          "text": [
            "Normalized Total Sobol Indices:\n",
            "Variable 1: 0.9999642735736178\n",
            "Variable 2: 3.572642638216178e-05\n"
          ]
        }
      ]
    },
    {
      "cell_type": "code",
      "source": [
        "# Print the interaction terms\n",
        "print(\"Interaction Terms:\")\n",
        "for i in range(len(sensitivity)):\n",
        "    for j in range(i+1, len(sensitivity)):\n",
        "        interaction = sensitivity[i] * sensitivity[j]\n",
        "        print(f\"Variable {i+1} x Variable {j+1}: {interaction}\")\n"
      ],
      "metadata": {
        "colab": {
          "base_uri": "https://localhost:8080/"
        },
        "id": "TckgP3mCZyu8",
        "outputId": "d2d1d245-a430-4dba-eebf-df7fc42a7868"
      },
      "execution_count": null,
      "outputs": [
        {
          "output_type": "stream",
          "name": "stdout",
          "text": [
            "Interaction Terms:\n",
            "Variable 1 x Variable 2: 2.483719067454097e-06\n"
          ]
        }
      ]
    },
    {
      "cell_type": "code",
      "execution_count": null,
      "metadata": {
        "id": "2ZB6GXYau8ua",
        "colab": {
          "base_uri": "https://localhost:8080/"
        },
        "outputId": "83d16e78-cf9e-4dec-db05-834c6e88d33d"
      },
      "outputs": [
        {
          "output_type": "stream",
          "name": "stderr",
          "text": [
            "WARNING:lengthscale:reconstraining parameters ExpQuad.lengthscale\n",
            "WARNING:variance:reconstraining parameters ExpQuad.variance\n",
            "WARNING:lengthscale:reconstraining parameters ExpQuad.lengthscale\n",
            "WARNING:variance:reconstraining parameters ExpQuad.variance\n"
          ]
        },
        {
          "output_type": "stream",
          "name": "stdout",
          "text": [
            "Optimization restart 1/50, f = 1266.5514921050012\n",
            "Optimization restart 2/50, f = 1266.5514913982315\n",
            "Optimization restart 3/50, f = 1266.5514921588033\n",
            "Optimization restart 4/50, f = 1599.3399906532104\n",
            "Optimization restart 5/50, f = 1266.5514916336015\n",
            "Optimization restart 6/50, f = 1266.551496740717\n",
            "Optimization restart 7/50, f = 1771.0285926676224\n",
            "Optimization restart 8/50, f = 1266.5514914184873\n",
            "Optimization restart 9/50, f = 1266.5514920846508\n",
            "Optimization restart 10/50, f = 1266.5514914176365\n",
            "Optimization restart 11/50, f = 1266.5514917215664\n",
            "Optimization restart 12/50, f = 1599.340044517241\n",
            "Optimization restart 13/50, f = 3640.012311258295\n",
            "Optimization restart 14/50, f = 1266.5515022680238\n",
            "Optimization restart 15/50, f = 1266.5514924195222\n",
            "Optimization restart 16/50, f = 1266.5514929338178\n",
            "Optimization restart 17/50, f = 1439.0478308121155\n",
            "Optimization restart 18/50, f = 1266.5514914424725\n",
            "Optimization restart 19/50, f = 1266.5514913773532\n",
            "Optimization restart 20/50, f = 1599.3400462608734\n",
            "Optimization restart 21/50, f = 1266.5514915724575\n",
            "Optimization restart 22/50, f = 1266.5514914713326\n",
            "Optimization restart 23/50, f = 1771.027780164436\n",
            "Optimization restart 24/50, f = 4213.931589884477\n",
            "Optimization restart 25/50, f = 1266.5514913788975\n",
            "Optimization restart 26/50, f = 1266.551491379471\n",
            "Optimization restart 27/50, f = 1599.3400116960033\n",
            "Optimization restart 28/50, f = 1266.5514913971037\n",
            "Optimization restart 29/50, f = 1439.0478310807766\n",
            "Optimization restart 30/50, f = 1266.5514939828072\n",
            "Optimization restart 31/50, f = 1266.5514913816005\n",
            "Optimization restart 32/50, f = 1266.5514915264844\n",
            "Optimization restart 33/50, f = 1266.5514913861562\n",
            "Optimization restart 34/50, f = 1599.3400475764656\n",
            "Optimization restart 35/50, f = 1266.551492159715\n",
            "Optimization restart 36/50, f = 1266.551491423566\n",
            "Optimization restart 37/50, f = 1266.5514913848874\n",
            "Optimization restart 38/50, f = 1266.5514946273747\n",
            "Optimization restart 39/50, f = 1599.340044417967\n",
            "Optimization restart 40/50, f = 1266.5514913808342\n",
            "Optimization restart 41/50, f = 11562.173988334984\n",
            "Optimization restart 42/50, f = 1407.7727408341934\n",
            "Optimization restart 43/50, f = 1266.5514972173437\n",
            "Optimization restart 44/50, f = 1266.551493427899\n",
            "Optimization restart 45/50, f = 1266.5514914496594\n",
            "Optimization restart 46/50, f = 1266.5514913894945\n",
            "Optimization restart 47/50, f = 1266.5514916517932\n",
            "Optimization restart 48/50, f = 1266.5514952484923\n",
            "Optimization restart 49/50, f = 1771.0285116376226\n",
            "Optimization restart 50/50, f = 1266.5514985562422\n"
          ]
        }
      ],
      "source": [
        "kernels = [GPy.kern.ExpQuad(input_dim=2,lengthscale=[10,10],variance=0.005, ARD=True),GPy.kern.ExpQuad(input_dim=2,lengthscale=[10,10],variance=0.005, ARD=True)]\n",
        "# for kernel in kernels:\n",
        "#     kernel.lengthscale.constrain_bounded(0, 50)\n",
        "#     kernel.variance.constrain_bounded(0, 10)\n",
        "for i, kernel in enumerate(kernels):\n",
        "    if i == 0:  # First fidelity\n",
        "        kernel.lengthscale.constrain_bounded(0,1000)\n",
        "        kernel.variance.constrain_bounded(0, 5)\n",
        "    elif i == 1:  # Second fidelity\n",
        "        kernel.lengthscale.constrain_bounded(0, 1000)\n",
        "        kernel.variance.constrain_bounded(0, 10)\n",
        "lin_mf_kernel = emukit.multi_fidelity.kernels.LinearMultiFidelityKernel(kernels)\n",
        "\n",
        "gpy_lin_mf_model = GPyLinearMultiFidelityModel(X_train, Y_train, lin_mf_kernel, n_fidelities=2)\n",
        "\n",
        "gpy_lin_mf_model.mixed_noise.Gaussian_noise.fix(0.0001)\n",
        "gpy_lin_mf_model.mixed_noise.Gaussian_noise_1.fix(0.0001)\n",
        "\n",
        "lin_mf_model =model=GPyMultiOutputWrapper(gpy_lin_mf_model, 2, n_optimization_restarts=50)\n",
        "\n",
        "## Fit the model\n",
        "\n",
        "lin_mf_model.optimize()"
      ]
    },
    {
      "cell_type": "code",
      "source": [
        " print(gpy_lin_mf_model)"
      ],
      "metadata": {
        "colab": {
          "base_uri": "https://localhost:8080/"
        },
        "id": "m3MCFay2iY0K",
        "outputId": "88e34925-d64c-47b6-dd87-53bf802d224c"
      },
      "execution_count": null,
      "outputs": [
        {
          "output_type": "stream",
          "name": "stdout",
          "text": [
            "\n",
            "Name : gp\n",
            "Objective : 1266.5514913773532\n",
            "Number of Parameters : 9\n",
            "Number of Optimization Parameters : 7\n",
            "Updates : True\n",
            "Parameters:\n",
            "  \u001b[1mgp.                                  \u001b[0;0m  |                 value  |  constraints  |  priors\n",
            "  \u001b[1mmultifidelity.ExpQuad.variance       \u001b[0;0m  |    1.9989219523727377  |    0.0,5.0    |        \n",
            "  \u001b[1mmultifidelity.ExpQuad.lengthscale    \u001b[0;0m  |                  (2,)  |  0.0,1000.0   |        \n",
            "  \u001b[1mmultifidelity.ExpQuad_1.variance     \u001b[0;0m  |  0.009657841425361533  |   0.0,10.0    |        \n",
            "  \u001b[1mmultifidelity.ExpQuad_1.lengthscale  \u001b[0;0m  |                  (2,)  |  0.0,1000.0   |        \n",
            "  \u001b[1mmultifidelity.scale                  \u001b[0;0m  |    1.0162367426791399  |               |        \n",
            "  \u001b[1mmixed_noise.Gaussian_noise.variance  \u001b[0;0m  |                0.0001  |   +ve fixed   |        \n",
            "  \u001b[1mmixed_noise.Gaussian_noise_1.variance\u001b[0;0m  |                0.0001  |   +ve fixed   |        \n"
          ]
        }
      ]
    },
    {
      "cell_type": "code",
      "execution_count": null,
      "metadata": {
        "id": "YCANLkr5aaao",
        "colab": {
          "base_uri": "https://localhost:8080/"
        },
        "outputId": "100473c0-bbfa-4142-ac79-b98d43d17246"
      },
      "outputs": [
        {
          "output_type": "stream",
          "name": "stdout",
          "text": [
            "  \u001b[1mindex\u001b[0;0m  |  gp.multifidelity.ExpQuad.variance  |  constraints  |  priors\n",
            "  \u001b[1m[0]  \u001b[0;0m  |                         1.99892195  |    0.0,5.0    |        \n",
            "  \u001b[1mindex\u001b[0;0m  |  gp.multifidelity.ExpQuad_1.variance  |  constraints  |  priors\n",
            "  \u001b[1m[0]  \u001b[0;0m  |                           0.00965784  |   0.0,10.0    |        \n",
            "  \u001b[1mindex\u001b[0;0m  |  gp.multifidelity.ExpQuad.lengthscale  |  constraints  |  priors\n",
            "  \u001b[1m[0]  \u001b[0;0m  |                            7.89813156  |  0.0,1000.0   |        \n",
            "  \u001b[1m[1]  \u001b[0;0m  |                           52.17442060  |  0.0,1000.0   |        \n",
            "  \u001b[1mindex\u001b[0;0m  |  gp.multifidelity.ExpQuad_1.lengthscale  |  constraints  |  priors\n",
            "  \u001b[1m[0]  \u001b[0;0m  |                             13.63974962  |  0.0,1000.0   |        \n",
            "  \u001b[1m[1]  \u001b[0;0m  |                             51.96106689  |  0.0,1000.0   |        \n"
          ]
        }
      ],
      "source": [
        "  print(gpy_lin_mf_model.multifidelity.ExpQuad.variance)\n",
        "  print(gpy_lin_mf_model.multifidelity.ExpQuad_1.variance)\n",
        "  print(gpy_lin_mf_model.multifidelity.ExpQuad.lengthscale)\n",
        "  print(gpy_lin_mf_model.multifidelity.ExpQuad_1.lengthscale)"
      ]
    },
    {
      "cell_type": "code",
      "execution_count": null,
      "metadata": {
        "id": "PgkblPSFxB5b",
        "colab": {
          "base_uri": "https://localhost:8080/"
        },
        "outputId": "5e559988-5c33-4ed7-bc5c-6a56812e48ad"
      },
      "outputs": [
        {
          "output_type": "stream",
          "name": "stdout",
          "text": [
            "Gradients of Optimization:\n",
            "Parameter: ExpQuad.variance - Gradient: -0.0006545808553903504\n",
            "Parameter: ExpQuad.lengthscale - Gradient: 0.00024268670542152278\n",
            "Parameter: ExpQuad_1.variance - Gradient: 1.5052167530409212e-05\n",
            "Parameter: ExpQuad_1.lengthscale - Gradient: -0.010836062385815158\n",
            "Parameter: scale - Gradient: -9.996131298958853e-05\n"
          ]
        }
      ],
      "source": [
        "# Get the gradients of optimization\n",
        "gradients_mf = gpy_lin_mf_model.multifidelity.gradient\n",
        "\n",
        "# Get the names of the model's parameters\n",
        "parameter_mf = gpy_lin_mf_model.multifidelity.parameter_names()\n",
        "\n",
        "# Print the gradients along with the parameter names\n",
        "print(\"Gradients of Optimization:\")\n",
        "for i in range(len(parameter_mf)):\n",
        "    print(f\"Parameter: {parameter_mf[i]} - Gradient: {gradients_mf[i]}\")"
      ]
    },
    {
      "cell_type": "code",
      "execution_count": null,
      "metadata": {
        "id": "KicGZ-2sqcAJ"
      },
      "outputs": [],
      "source": [
        "\n",
        "#x_plot=np.reshape(x,[10000,2])\n",
        "x_plot=np.array([[70,50],[60,30],[60,0],[50,80],[40,30]])\n",
        "X_plot_l=np.c_[ x_plot, np.zeros(len(x_plot)) ]\n",
        "X_plot_h=np.c_[ x_plot, np.ones(len(x_plot)) ]"
      ]
    },
    {
      "cell_type": "code",
      "execution_count": null,
      "metadata": {
        "id": "bMLsVgQ7qduc"
      },
      "outputs": [],
      "source": [
        "hf_mean_lin_mf_model, hf_var_lin_mf_model = lin_mf_model.predict(X_plot_h)\n",
        "\n",
        "hf_std_lin_mf_model = np.sqrt(hf_var_lin_mf_model)\n",
        "hf_mean_high_gp_model, hf_var_high_gp_model  = high_gp_model.predict(X_plot_h)\n",
        "lf_mean_low_gp_model, lf_var_low_gp_model  = low_gp_model.predict(X_plot_h)"
      ]
    },
    {
      "cell_type": "markdown",
      "metadata": {
        "id": "OvSIrOpqu-UY"
      },
      "source": []
    },
    {
      "cell_type": "code",
      "execution_count": null,
      "metadata": {
        "id": "n9JAj_hKrUye",
        "colab": {
          "base_uri": "https://localhost:8080/"
        },
        "outputId": "5fb63bf4-f30c-40e0-f308-1bb197e753ff"
      },
      "outputs": [
        {
          "output_type": "stream",
          "name": "stdout",
          "text": [
            "[[0.10556517]\n",
            " [0.08851918]\n",
            " [0.10661364]\n",
            " [0.05931721]\n",
            " [0.07519834]]\n",
            "[[0.0645258 ]\n",
            " [0.24116747]\n",
            " [0.38345716]\n",
            " [0.14769687]\n",
            " [0.05588979]]\n",
            "[[0.49210228]\n",
            " [0.48639158]\n",
            " [0.51804879]\n",
            " [0.47733723]\n",
            " [0.49956231]]\n"
          ]
        }
      ],
      "source": [
        "# print(np.amax(hf_mean_lin_mf_model))\n",
        "print((np.sqrt(hf_var_lin_mf_model))*1.96)\n",
        "print((np.sqrt(hf_var_high_gp_model))*1.96)\n",
        "print((np.sqrt(lf_var_low_gp_model))*1.96)\n",
        "# c=(hf_mean_lin_mf_model.shape)\n",
        "# print(c)\n",
        "\n"
      ]
    },
    {
      "cell_type": "code",
      "source": [
        "print(hf_var_lin_mf_model)\n",
        "print(hf_var_high_gp_model)\n",
        "print(lf_var_low_gp_model)"
      ],
      "metadata": {
        "colab": {
          "base_uri": "https://localhost:8080/"
        },
        "id": "655e01cELzni",
        "outputId": "93f49f89-c0ef-497b-82a3-3bca69e30dd3"
      },
      "execution_count": null,
      "outputs": [
        {
          "output_type": "stream",
          "name": "stdout",
          "text": [
            "[[0.00292246]\n",
            " [0.00205779]\n",
            " [0.00298058]\n",
            " [0.00092805]\n",
            " [0.00148737]]\n",
            "[[0.00109041]\n",
            " [0.0151646 ]\n",
            " [0.0383147 ]\n",
            " [0.00569354]\n",
            " [0.00081883]]\n",
            "[[0.12325196]\n",
            " [0.12121467]\n",
            " [0.13272222]\n",
            " [0.11801932]\n",
            " [0.12593891]]\n"
          ]
        }
      ]
    },
    {
      "cell_type": "code",
      "execution_count": null,
      "metadata": {
        "id": "MJw-V-_UerG0",
        "colab": {
          "base_uri": "https://localhost:8080/"
        },
        "outputId": "3e9d88d5-e501-4d6a-965e-3ac64f0078cc"
      },
      "outputs": [
        {
          "output_type": "stream",
          "name": "stdout",
          "text": [
            "[[ 4.00670903  4.00634151  4.00596473 ... -1.91283843 -1.91314561\n",
            "  -1.91352161]\n",
            " [ 2.00337936  2.00305963  2.00277604 ... -1.16823917 -1.16859841\n",
            "  -1.16892655]\n",
            " [ 1.85153239  1.85124207  1.85094372 ... -1.36603236 -1.36667055\n",
            "  -1.36741245]\n",
            " [ 1.35972326  1.35938766  1.35905719 ... -0.67622303 -0.67465682\n",
            "  -0.67304897]\n",
            " [ 0.6734134   0.67311725  0.67277006 ... -0.32000014 -0.31858053\n",
            "  -0.31719968]]\n",
            "[[ 4.14222626  4.1418734   4.14157093 ... -2.07052485 -2.07465661\n",
            "  -2.07873793]\n",
            " [ 1.93688301  1.93661549  1.93631673 ... -1.23775918 -1.23449519\n",
            "  -1.23117302]\n",
            " [ 1.65162364  1.65137767  1.65108198 ... -1.26776963 -1.26257475\n",
            "  -1.25734698]\n",
            " [ 1.36659113  1.36628611  1.36598468 ... -0.66587517 -0.66679477\n",
            "  -0.66770323]\n",
            " [ 0.68406794  0.68375868  0.68345359 ... -0.32499399 -0.32346344\n",
            "  -0.32193613]]\n",
            "[[ 3.98305139  3.98285488  3.98265671 ... -1.65671676 -1.64446441\n",
            "  -1.63225921]\n",
            " [ 2.00061177  2.00042738  2.00012421 ... -0.91108077 -0.89968923\n",
            "  -0.88827244]\n",
            " [ 1.86735466  1.86716975  1.86684949 ... -1.0143465  -1.00440408\n",
            "  -0.99438499]\n",
            " [ 1.31767327  1.31752822  1.31726145 ... -0.47034897 -0.46168113\n",
            "  -0.45302444]\n",
            " [ 0.57543165  0.57524182  0.57499851 ... -0.33157674 -0.32874017\n",
            "  -0.32589601]]\n"
          ]
        }
      ],
      "source": [
        "print(hf_mean_lin_mf_model)\n",
        "print(hf_mean_high_gp_model)\n",
        "print(lf_mean_low_gp_model)"
      ]
    },
    {
      "cell_type": "code",
      "source": [
        "print(ytrain.shape)"
      ],
      "metadata": {
        "colab": {
          "base_uri": "https://localhost:8080/",
          "height": 168
        },
        "id": "y8g_inD1X5II",
        "outputId": "04689d79-58f9-4514-94c4-865a39e52660"
      },
      "execution_count": null,
      "outputs": [
        {
          "output_type": "error",
          "ename": "NameError",
          "evalue": "ignored",
          "traceback": [
            "\u001b[0;31m---------------------------------------------------------------------------\u001b[0m",
            "\u001b[0;31mNameError\u001b[0m                                 Traceback (most recent call last)",
            "\u001b[0;32m<ipython-input-116-0380d03c0b75>\u001b[0m in \u001b[0;36m<cell line: 1>\u001b[0;34m()\u001b[0m\n\u001b[0;32m----> 1\u001b[0;31m \u001b[0mprint\u001b[0m\u001b[0;34m(\u001b[0m\u001b[0mytrain\u001b[0m\u001b[0;34m.\u001b[0m\u001b[0mshape\u001b[0m\u001b[0;34m)\u001b[0m\u001b[0;34m\u001b[0m\u001b[0;34m\u001b[0m\u001b[0m\n\u001b[0m",
            "\u001b[0;31mNameError\u001b[0m: name 'ytrain' is not defined"
          ]
        }
      ]
    },
    {
      "cell_type": "code",
      "execution_count": null,
      "metadata": {
        "id": "12TfZ5N3ZhyK",
        "colab": {
          "base_uri": "https://localhost:8080/",
          "height": 484
        },
        "outputId": "536748e8-2492-425a-da14-5cd053f985eb"
      },
      "outputs": [
        {
          "output_type": "stream",
          "name": "stdout",
          "text": [
            "(260, 1)\n",
            "(260, 1)\n"
          ]
        },
        {
          "output_type": "display_data",
          "data": {
            "text/plain": [
              "<Figure size 640x480 with 1 Axes>"
            ],
            "image/png": "[encoded data removed]"
          },
          "metadata": {}
        }
      ],
      "source": [
        "# import matplotlib.pyplot as plt\n",
        "# from matplotlib import colors as mcolors\n",
        "# colors = dict(mcolors.BASE_COLORS, **mcolors.CSS4_COLORS)\n",
        "# fig,ax=plt.subplots()\n",
        "# #DNS_test.shape[0]\n",
        "# i=3\n",
        "\n",
        "# x_pred = np.linspace(0,259,260).reshape(-1, 1)\n",
        "# # Calculate upper and lower confidence bounds\n",
        "# confidence = 1.96 # 95% confidence interval (approximate)\n",
        "# lower_bound = hf_mean_lin_mf_model[i]- confidence * np.sqrt(hf_var_lin_mf_model[i])\n",
        "# upper_bound = hf_mean_lin_mf_model[i]+ confidence * np.sqrt(hf_var_lin_mf_model[i])\n",
        "# ax.plot(hf_mean_lin_mf_model[i],color='r',label='Prediction')\n",
        "# ax.fill_between(x_pred.flatten(), lower_bound.flatten(), upper_bound.flatten(), color='red', alpha=0.5, label='C.I-MF')\n",
        "\n",
        "\n",
        "\n",
        "# #for i in range(1):\n",
        "# # ax.fill_between((hf_mean_lin_mf_model[0] - 1.96*hf_std_lin_mf_model[0]).flatten(),\n",
        "# #(hf_mean_lin_mf_model[0] + 1.96*hf_std_lin_mf_model[0]).flatten(), color='r', alpha=0.3)\n",
        "# # ax.plot(RANS_test[:,i],color='k',linestyle='dotted',label='RANS')\n",
        "# ax.plot(hf_mean_high_gp_model[i],color='black',linestyle='--',label='DNS GP')\n",
        "# lower_bound_dns = hf_mean_high_gp_model[i]- confidence * np.sqrt(hf_var_high_gp_model[i])\n",
        "# upper_bound_dns = hf_mean_high_gp_model[i]+ confidence * np.sqrt(hf_var_high_gp_model[i])\n",
        "# ax.fill_between(x_pred.flatten(), lower_bound_dns.flatten(), upper_bound_dns.flatten(), color='gray', alpha=0.3, label='C.I-DNS')\n",
        "# ax.plot(lf_mean_low_gp_model[i],color='green',label='RANS GP')\n",
        "# lower_bound_rans = lf_mean_low_gp_model[i]- confidence * np.sqrt(lf_var_low_gp_model[i])\n",
        "# upper_bound_rans = lf_mean_low_gp_model[i]+ confidence * np.sqrt(lf_var_low_gp_model[i])\n",
        "# ax.fill_between(x_pred.flatten(), lower_bound_rans.flatten(), upper_bound_rans.flatten(), color='green', alpha=0.3, label='C.I-RANS')\n",
        "# ax.plot(DNS_test[:,i],color='b',linestyle='--',label='TRUTH')\n",
        "# ax.set_xlabel('X')\n",
        "# ax.set_ylabel('Y')\n",
        "# ax.legend()\n",
        "\n",
        "\n",
        "# x_data=x_pred\n",
        "# y_truth=DNS_test[:,i].reshape(-1,1)\n",
        "\n",
        "# print(y_truth.shape)\n",
        "# print(x_data.shape)\n",
        "# write_truth = np.stack((x_data,y_truth), axis = 1).reshape(-1,2)\n",
        "\n",
        "\n",
        "# e= \"streamwise WSS\"\n",
        "# hdrtxt='# xpoints','#ypoints'\n",
        "# np.savetxt('/content/drive/MyDrive/ColabNotebooks/Truth_50_e80Press.dat', write_truth, delimiter='  ', header='Position\\tMean', comments='' )\n"
      ]
    },
    {
      "cell_type": "code",
      "source": [],
      "metadata": {
        "id": "BUOrNcNzGMoV"
      },
      "execution_count": null,
      "outputs": []
    },
    {
      "cell_type": "code",
      "source": [
        "print(np.sqrt(hf_var_high_gp_model[i]))\n",
        "# print(x_pred)\n",
        "print(lf_var_low_gp_model)\n",
        "print(hf_var_high_gp_model)\n",
        "print(hf_var_lin_mf_model)"
      ],
      "metadata": {
        "id": "8ZjWntuusi4A"
      },
      "execution_count": null,
      "outputs": []
    },
    {
      "cell_type": "code",
      "execution_count": null,
      "metadata": {
        "id": "AQqCjHCOY5fB",
        "colab": {
          "base_uri": "https://localhost:8080/"
        },
        "outputId": "fd545094-e890-4ea2-84a4-0bb56f95d2d8"
      },
      "outputs": [
        {
          "output_type": "stream",
          "name": "stdout",
          "text": [
            "(260, 1)\n",
            "(260, 1)\n",
            "(260, 2)\n"
          ]
        }
      ],
      "source": [
        "# CI = np.ones(c[1])*1.96*hf_std_lin_mf_model[i,:].reshape(-1,1)\n",
        "# CI=CI.T\n",
        "# print(CI.shape)\n",
        "# i=4\n",
        "# x_data=x_pred\n",
        "# y_data=hf_mean_lin_mf_model[i].reshape(-1,1)\n",
        "\n",
        "# y_hf=hf_mean_high_gp_model[i].reshape(-1,1)\n",
        "\n",
        "# y_lf=lf_mean_low_gp_model[i].reshape(-1,1)\n",
        "\n",
        "# print(y_data.shape)\n",
        "# print(x_data.shape)\n",
        "# write_mf = np.stack((x_data,y_data), axis = 1).reshape(-1,2)\n",
        "# write_lf = np.stack((x_data,y_lf), axis = 1).reshape(-1,2)\n",
        "# write_hf = np.stack((x_data,y_hf), axis = 1).reshape(-1,2)\n",
        "# print(write_hf.shape)\n",
        "\n",
        "# e= \"streamwise WSS\"\n",
        "# hdrtxt='# xpoints','#ypoints'\n",
        "# np.savetxt('/content/drive/MyDrive/ColabNotebooks/MF_40_e30Press.dat', write_mf, delimiter='  ', header='Position\\tMean', comments='' )\n",
        "# np.savetxt('/content/drive/MyDrive/ColabNotebooks/LF_40_e30Press.dat', write_lf, delimiter='  ', header='Position\\tMean', comments='' )\n",
        "# np.savetxt('/content/drive/MyDrive/ColabNotebooks/HF_40_e30Press.dat', write_hf, delimiter='  ', header='Position\\tMean', comments='' )"
      ]
    },
    {
      "cell_type": "code",
      "source": [
        "\n"
      ],
      "metadata": {
        "id": "6A0lcaiJS3VH"
      },
      "execution_count": null,
      "outputs": []
    },
    {
      "cell_type": "code",
      "source": [
        "# # Define the range of x values for prediction\n",
        "# x_pred = np.linspace(0,50, 50).reshape(-1, 1)\n",
        "\n",
        "# # Predict mean and variance at the given x values\n",
        "# mean, var = model.predict(x_pred)\n",
        "\n",
        "# # Calculate upper and lower confidence bounds\n",
        "# confidence = 1.96  # 95% confidence interval (approximate)\n",
        "# lower_bound = mean - confidence * np.sqrt(var)\n",
        "# upper_bound = mean + confidence * np.sqrt(var)\n",
        "\n",
        "# # Plot the data points, mean, and confidence interval\n",
        "# plt.scatter(X_train, Y_train, color='red', label='Training data')\n",
        "# plt.plot(x_pred, mean, color='blue', label='Mean')\n",
        "# plt.fill_between(x_pred.flatten(), lower_bound.flatten(), upper_bound.flatten(), color='gray', alpha=0.3, label='Confidence interval')\n",
        "# plt.xlabel('X')\n",
        "# plt.ylabel('Y')\n",
        "# plt.title('GPy Model Predictions with Confidence Interval')\n",
        "# plt.legend()\n",
        "# plt.show()"
      ],
      "metadata": {
        "id": "KFtgFv9poPvP"
      },
      "execution_count": null,
      "outputs": []
    },
    {
      "cell_type": "code",
      "execution_count": null,
      "metadata": {
        "id": "6V3W84GqrbOw"
      },
      "outputs": [],
      "source": [
        "fig,ax=plt.subplots()\n",
        "for i in range(hf_mean_lin_mf_model.shape[0]):\n",
        "   ax.plot(hf_mean_lin_mf_model[i])\n",
        "ax.set_xlabel('X')\n",
        "ax.set_ylabel('Y')\n"
      ]
    },
    {
      "cell_type": "code",
      "execution_count": null,
      "metadata": {
        "id": "ppTC7kKaSl_L"
      },
      "outputs": [],
      "source": [
        "# i=0\n",
        "# y_true=DNS_test[:,i].reshape(-1,1)\n",
        "# # y_rans=RANS_test[:,i].reshape(-1,1)\n",
        "\n",
        "\n",
        "# write_truth = np.stack((x_data,y_true), axis = 1).reshape(-1,2)\n",
        "# # write_rans = np.stack((x_data,y_rans), axis = 1).reshape(-1,2)\n",
        "\n",
        "\n",
        "# np.savetxt('/content/drive/MyDrive/ColabNotebooks/Truth_70_e50ZL.dat', write_truth, delimiter='  ' )\n",
        "# # np.savetxt('/content/drive/MyDrive/ColabNotebooks/RANS_70_e50.dat', write_rans, delimiter='   ' )\n"
      ]
    },
    {
      "cell_type": "code",
      "execution_count": null,
      "metadata": {
        "id": "ceCQ2pjuSmH6"
      },
      "outputs": [],
      "source": [
        "print(lf_var_low_gp_model)\n",
        "print(hf_var_high_gp_model)\n",
        "print(hf_var_lin_mf_model)"
      ]
    },
    {
      "cell_type": "code",
      "execution_count": null,
      "metadata": {
        "id": "lIVZibQJsM1z"
      },
      "outputs": [],
      "source": []
    },
    {
      "cell_type": "code",
      "execution_count": null,
      "metadata": {
        "id": "LD4VvLdztM9h"
      },
      "outputs": [],
      "source": [
        "\n"
      ]
    },
    {
      "cell_type": "code",
      "execution_count": null,
      "metadata": {
        "id": "P3m-eQSDtYWO"
      },
      "outputs": [],
      "source": []
    },
    {
      "cell_type": "code",
      "execution_count": null,
      "metadata": {
        "id": "DNUwug11umCQ"
      },
      "outputs": [],
      "source": [
        "\n"
      ]
    },
    {
      "cell_type": "code",
      "execution_count": null,
      "metadata": {
        "id": "ZM89dI9zdFlu"
      },
      "outputs": [],
      "source": []
    },
    {
      "cell_type": "code",
      "execution_count": null,
      "metadata": {
        "id": "mtIksI4cV5Y2"
      },
      "outputs": [],
      "source": []
    },
    {
      "cell_type": "code",
      "execution_count": null,
      "metadata": {
        "id": "T0XTMYf96PcF"
      },
      "outputs": [],
      "source": [
        "\n",
        "\n",
        "\n"
      ]
    },
    {
      "cell_type": "code",
      "execution_count": null,
      "metadata": {
        "id": "WGel-Hhc7z16"
      },
      "outputs": [],
      "source": [
        "\n"
      ]
    },
    {
      "cell_type": "code",
      "execution_count": null,
      "metadata": {
        "id": "R3i7xgF17tZz"
      },
      "outputs": [],
      "source": []
    },
    {
      "cell_type": "code",
      "execution_count": null,
      "metadata": {
        "id": "IMwvLYWpycQp"
      },
      "outputs": [],
      "source": []
    },
    {
      "cell_type": "code",
      "execution_count": null,
      "metadata": {
        "id": "gqi7yo33zTiI"
      },
      "outputs": [],
      "source": []
    }
  ],
  "metadata": {
    "accelerator": "GPU",
    "colab": {
      "provenance": []
    },
    "gpuClass": "standard",
    "kernelspec": {
      "display_name": "Python 3",
      "name": "python3"
    },
    "language_info": {
      "name": "python"
    }
  },
  "nbformat": 4,
  "nbformat_minor": 0
}