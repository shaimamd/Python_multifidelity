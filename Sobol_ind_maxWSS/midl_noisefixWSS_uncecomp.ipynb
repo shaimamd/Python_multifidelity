{
  "cells": [
    {
      "cell_type": "code",
      "execution_count": null,
      "metadata": {
        "colab": {
          "base_uri": "https://localhost:8080/"
        },
        "id": "UyW-SYQLqfuH",
        "outputId": "3b6e0d96-6e3a-4756-cbe0-3d51d17e27ea"
      },
      "outputs": [
        {
          "output_type": "stream",
          "name": "stdout",
          "text": [
            "Looking in indexes: https://pypi.org/simple, https://us-python.pkg.dev/colab-wheels/public/simple/\n",
            "Collecting emukit\n",
            "  Downloading emukit-0.4.10.tar.gz (170 kB)\n",
            "\u001b[2K     \u001b[90m━━━━━━━━━━━━━━━━━━━━━━━━━━━━━━━━━━━━━━━\u001b[0m \u001b[32m170.5/170.5 kB\u001b[0m \u001b[31m5.2 MB/s\u001b[0m eta \u001b[36m0:00:00\u001b[0m\n",
            "\u001b[?25h  Installing build dependencies ... \u001b[?25l\u001b[?25hdone\n",
            "  Getting requirements to build wheel ... \u001b[?25l\u001b[?25hdone\n",
            "  Preparing metadata (pyproject.toml) ... \u001b[?25l\u001b[?25hdone\n",
            "Requirement already satisfied: setuptools>=40.8.0 in /usr/local/lib/python3.10/dist-packages (from emukit) (67.7.2)\n",
            "Requirement already satisfied: numpy>=1.14.5 in /usr/local/lib/python3.10/dist-packages (from emukit) (1.22.4)\n",
            "Collecting GPy[plotting]>=1.10.0 (from emukit)\n",
            "  Downloading GPy-1.10.0.tar.gz (959 kB)\n",
            "\u001b[2K     \u001b[90m━━━━━━━━━━━━━━━━━━━━━━━━━━━━━━━━━━━━━━\u001b[0m \u001b[32m959.4/959.4 kB\u001b[0m \u001b[31m53.7 MB/s\u001b[0m eta \u001b[36m0:00:00\u001b[0m\n",
            "\u001b[?25h  Preparing metadata (setup.py) ... \u001b[?25l\u001b[?25hdone\n",
            "Collecting emcee>=2.2.1 (from emukit)\n",
            "  Downloading emcee-3.1.4-py2.py3-none-any.whl (46 kB)\n",
            "\u001b[2K     \u001b[90m━━━━━━━━━━━━━━━━━━━━━━━━━━━━━━━━━━━━━━━━\u001b[0m \u001b[32m46.2/46.2 kB\u001b[0m \u001b[31m6.0 MB/s\u001b[0m eta \u001b[36m0:00:00\u001b[0m\n",
            "\u001b[?25hRequirement already satisfied: scipy>=1.1.0 in /usr/local/lib/python3.10/dist-packages (from emukit) (1.10.1)\n",
            "Requirement already satisfied: six in /usr/local/lib/python3.10/dist-packages (from GPy[plotting]>=1.10.0->emukit) (1.16.0)\n",
            "Collecting paramz>=0.9.0 (from GPy[plotting]>=1.10.0->emukit)\n",
            "  Downloading paramz-0.9.5.tar.gz (71 kB)\n",
            "\u001b[2K     \u001b[90m━━━━━━━━━━━━━━━━━━━━━━━━━━━━━━━━━━━━━━━━\u001b[0m \u001b[32m71.3/71.3 kB\u001b[0m \u001b[31m9.3 MB/s\u001b[0m eta \u001b[36m0:00:00\u001b[0m\n",
            "\u001b[?25h  Preparing metadata (setup.py) ... \u001b[?25l\u001b[?25hdone\n",
            "Requirement already satisfied: cython>=0.29 in /usr/local/lib/python3.10/dist-packages (from GPy[plotting]>=1.10.0->emukit) (0.29.34)\n",
            "Requirement already satisfied: matplotlib>=3.0 in /usr/local/lib/python3.10/dist-packages (from GPy[plotting]>=1.10.0->emukit) (3.7.1)\n",
            "Requirement already satisfied: plotly>=1.8.6 in /usr/local/lib/python3.10/dist-packages (from GPy[plotting]>=1.10.0->emukit) (5.13.1)\n",
            "Requirement already satisfied: contourpy>=1.0.1 in /usr/local/lib/python3.10/dist-packages (from matplotlib>=3.0->GPy[plotting]>=1.10.0->emukit) (1.0.7)\n",
            "Requirement already satisfied: cycler>=0.10 in /usr/local/lib/python3.10/dist-packages (from matplotlib>=3.0->GPy[plotting]>=1.10.0->emukit) (0.11.0)\n",
            "Requirement already satisfied: fonttools>=4.22.0 in /usr/local/lib/python3.10/dist-packages (from matplotlib>=3.0->GPy[plotting]>=1.10.0->emukit) (4.39.3)\n",
            "Requirement already satisfied: kiwisolver>=1.0.1 in /usr/local/lib/python3.10/dist-packages (from matplotlib>=3.0->GPy[plotting]>=1.10.0->emukit) (1.4.4)\n",
            "Requirement already satisfied: packaging>=20.0 in /usr/local/lib/python3.10/dist-packages (from matplotlib>=3.0->GPy[plotting]>=1.10.0->emukit) (23.1)\n",
            "Requirement already satisfied: pillow>=6.2.0 in /usr/local/lib/python3.10/dist-packages (from matplotlib>=3.0->GPy[plotting]>=1.10.0->emukit) (8.4.0)\n",
            "Requirement already satisfied: pyparsing>=2.3.1 in /usr/local/lib/python3.10/dist-packages (from matplotlib>=3.0->GPy[plotting]>=1.10.0->emukit) (3.0.9)\n",
            "Requirement already satisfied: python-dateutil>=2.7 in /usr/local/lib/python3.10/dist-packages (from matplotlib>=3.0->GPy[plotting]>=1.10.0->emukit) (2.8.2)\n",
            "Requirement already satisfied: decorator>=4.0.10 in /usr/local/lib/python3.10/dist-packages (from paramz>=0.9.0->GPy[plotting]>=1.10.0->emukit) (4.4.2)\n",
            "Requirement already satisfied: tenacity>=6.2.0 in /usr/local/lib/python3.10/dist-packages (from plotly>=1.8.6->GPy[plotting]>=1.10.0->emukit) (8.2.2)\n",
            "Building wheels for collected packages: emukit, paramz, GPy\n",
            "  Building wheel for emukit (pyproject.toml) ... \u001b[?25l\u001b[?25hdone\n",
            "  Created wheel for emukit: filename=emukit-0.4.10-py3-none-any.whl size=257056 sha256=9cefd98737b57e2bfd56a56f312fc0fa07efb55850cb7ad28697cf66cb6b0f5e\n",
            "  Stored in directory: /root/.cache/pip/wheels/30/d1/af/64ddede19b5eb77bd70362edebf9d393bf77dc34d354c11292\n",
            "  Building wheel for paramz (setup.py) ... \u001b[?25l\u001b[?25hdone\n",
            "  Created wheel for paramz: filename=paramz-0.9.5-py3-none-any.whl size=102548 sha256=71397476a82c6771a4b4935499257a7d923e34339d0b47ea6284a8fdb0240a66\n",
            "  Stored in directory: /root/.cache/pip/wheels/d2/ef/9c/da9ceef7d0ff5287c24365844fc394852c2b79ac3fcf33bf8b\n",
            "  Building wheel for GPy (setup.py) ... \u001b[?25l\u001b[?25hcanceled\n",
            "\u001b[31mERROR: Operation cancelled by user\u001b[0m\u001b[31m\n",
            "\u001b[0m"
          ]
        }
      ],
      "source": [
        "pip install emukit\n"
      ]
    },
    {
      "cell_type": "code",
      "source": [],
      "metadata": {
        "id": "9UBrgU6sGBOD"
      },
      "execution_count": null,
      "outputs": []
    },
    {
      "cell_type": "code",
      "execution_count": null,
      "metadata": {
        "id": "QRIHdEPh1bra"
      },
      "outputs": [],
      "source": []
    },
    {
      "cell_type": "code",
      "execution_count": null,
      "metadata": {
        "id": "Iqa4CkVcrfFz"
      },
      "outputs": [],
      "source": [
        "import GPy\n",
        "import emukit.multi_fidelity\n",
        "import emukit.test_functions\n",
        "from emukit.model_wrappers.gpy_model_wrappers import GPyMultiOutputWrapper\n",
        "from emukit.multi_fidelity.models import GPyLinearMultiFidelityModel\n",
        "import numpy as np\n",
        "import matplotlib.pyplot as plt\n",
        "from matplotlib import colors as mcolors\n",
        "colors = dict(mcolors.BASE_COLORS, **mcolors.CSS4_COLORS)\n",
        "%matplotlib inline"
      ]
    },
    {
      "cell_type": "code",
      "execution_count": null,
      "metadata": {
        "colab": {
          "base_uri": "https://localhost:8080/"
        },
        "id": "HcHC-XZQrKRL",
        "outputId": "d4c091f0-4379-46d6-f9bf-3e944247f460"
      },
      "outputs": [
        {
          "output_type": "stream",
          "name": "stdout",
          "text": [
            "Looking in indexes: https://pypi.org/simple, https://us-python.pkg.dev/colab-wheels/public/simple/\n",
            "Requirement already satisfied: GPy in /usr/local/lib/python3.10/dist-packages (1.10.0)\n",
            "Requirement already satisfied: numpy>=1.7 in /usr/local/lib/python3.10/dist-packages (from GPy) (1.22.4)\n",
            "Requirement already satisfied: six in /usr/local/lib/python3.10/dist-packages (from GPy) (1.16.0)\n",
            "Requirement already satisfied: paramz>=0.9.0 in /usr/local/lib/python3.10/dist-packages (from GPy) (0.9.5)\n",
            "Requirement already satisfied: cython>=0.29 in /usr/local/lib/python3.10/dist-packages (from GPy) (0.29.34)\n",
            "Requirement already satisfied: scipy>=1.3.0 in /usr/local/lib/python3.10/dist-packages (from GPy) (1.10.1)\n",
            "Requirement already satisfied: decorator>=4.0.10 in /usr/local/lib/python3.10/dist-packages (from paramz>=0.9.0->GPy) (4.4.2)\n"
          ]
        }
      ],
      "source": [
        "pip install GPy"
      ]
    },
    {
      "cell_type": "code",
      "execution_count": null,
      "metadata": {
        "id": "a_ARJ-ycgkir",
        "colab": {
          "base_uri": "https://localhost:8080/"
        },
        "outputId": "12ce8e72-1116-4ce1-ecb8-66b6feed7838"
      },
      "outputs": [
        {
          "output_type": "stream",
          "name": "stdout",
          "text": [
            "Drive already mounted at /content/drive; to attempt to forcibly remount, call drive.mount(\"/content/drive\", force_remount=True).\n"
          ]
        }
      ],
      "source": [
        "from google.colab import drive\n",
        "drive.mount('/content/drive')\n",
        "import pandas as pd\n",
        "# DNS_data=pd.read_csv('/content/drive/MyDrive/ColabNotebooks/Linewssdns_short.csv')\n",
        "# RANS_data=pd.read_csv('/content/drive/MyDrive/ColabNotebooks/Linewssfullrans_short.csv')\n",
        "\n",
        "DNS_data=pd.read_csv('/content/drive/MyDrive/ColabNotebooks/wss_uncecomp_zeroDNS.csv')\n",
        "RANS_data=pd.read_csv('/content/drive/MyDrive/ColabNotebooks/wss_uncecomp_zeroRANS.csv')\n",
        "\n"
      ]
    },
    {
      "cell_type": "code",
      "source": [
        "DNS_data=DNS_data*1000\n",
        "RANS_data=RANS_data*1000\n"
      ],
      "metadata": {
        "id": "w_IpJSFN1lhx"
      },
      "execution_count": null,
      "outputs": []
    },
    {
      "cell_type": "code",
      "execution_count": null,
      "metadata": {
        "id": "QBnpzkCZrjuG",
        "colab": {
          "base_uri": "https://localhost:8080/"
        },
        "outputId": "7244f7d5-bfd4-4359-d433-851460af6d19"
      },
      "outputs": [
        {
          "output_type": "stream",
          "name": "stdout",
          "text": [
            "(6, 50)\n",
            "(20, 50)\n"
          ]
        }
      ],
      "source": [
        "# Generate sample data\n",
        "\n",
        "x_train_l =  np.array([[70,100],[70,80],[70,50],[70,30],[70,0],[60,100],[60,80],[60,50],[60,30],[60,0],[50,100],[50,80],[50,50],[50,30],[50,0],[40,100],[40,80],[40,50],[40,30],[40,0]])\n",
        "x_train_h = np.array([[70,100],[70,0],[60,80],[50,50],[40,100],[40,0]])\n",
        "\n",
        "DNS_full=DNS_data.dropna(axis=1)\n",
        "DNS_full=DNS_full.values\n",
        "DNS=DNS_full[:,[0,2,3,7,8,10]]\n",
        "DNS=DNS[50:100,:]\n",
        "\n",
        "DNS_test=DNS_full[:,[1,4,5,6,9]]\n",
        "DNS_test=DNS_test[50:100,:]\n",
        "\n",
        "RANS=RANS_data.dropna(axis=1)\n",
        "RANS_full=RANS.values\n",
        "\n",
        "RANS_test=RANS_full[:,[0,1,3,4,5,6,7,10,12,13,14,15,16,17,19]]\n",
        "RANS=RANS_full[50:100,:]\n",
        "RANS_test=RANS_test[50:100,:]\n",
        "#D_70_100=np.array(DNS_data['70_100'])\n",
        "#D_70_100=D_70_100.reshape(-1,1)\n",
        "#np.stack(())\n",
        "#print(column_values.shape)\n",
        "\n",
        "DNS_full=np.transpose(DNS_full)\n",
        "y_train_h=np.transpose(DNS)\n",
        "y_train_l=np.transpose(RANS)\n",
        "\n",
        "\n",
        "print(np.shape(y_train_h))\n",
        "print(np.shape(y_train_l))"
      ]
    },
    {
      "cell_type": "code",
      "source": [
        "# CI = np.ones(c[1])*1.96*hf_std_lin_mf_model[i,:].reshape(-1,1)\n",
        "# CI=CI.T\n",
        "# print(CI.shape)\n"
      ],
      "metadata": {
        "id": "G4Qr1YhYx1sq"
      },
      "execution_count": null,
      "outputs": []
    },
    {
      "cell_type": "code",
      "execution_count": null,
      "metadata": {
        "id": "1oG3xCaxrmTK",
        "colab": {
          "base_uri": "https://localhost:8080/"
        },
        "outputId": "a16734bd-4010-4245-a84c-51eacd9cf7bc"
      },
      "outputs": [
        {
          "output_type": "stream",
          "name": "stdout",
          "text": [
            "(26, 3)\n",
            "(26, 50)\n",
            "[[ 70. 100.   0.]\n",
            " [ 70.  80.   0.]\n",
            " [ 70.  50.   0.]\n",
            " [ 70.  30.   0.]\n",
            " [ 70.   0.   0.]\n",
            " [ 60. 100.   0.]\n",
            " [ 60.  80.   0.]\n",
            " [ 60.  50.   0.]\n",
            " [ 60.  30.   0.]\n",
            " [ 60.   0.   0.]\n",
            " [ 50. 100.   0.]\n",
            " [ 50.  80.   0.]\n",
            " [ 50.  50.   0.]\n",
            " [ 50.  30.   0.]\n",
            " [ 50.   0.   0.]\n",
            " [ 40. 100.   0.]\n",
            " [ 40.  80.   0.]\n",
            " [ 40.  50.   0.]\n",
            " [ 40.  30.   0.]\n",
            " [ 40.   0.   0.]\n",
            " [ 70. 100.   1.]\n",
            " [ 70.   0.   1.]\n",
            " [ 60.  80.   1.]\n",
            " [ 50.  50.   1.]\n",
            " [ 40. 100.   1.]\n",
            " [ 40.   0.   1.]]\n"
          ]
        }
      ],
      "source": [
        "# x_train_l=np.c_[ x_train_l, np.zeros(len(x_train_l)) ]\n",
        "# x_train_h=np.c_[ x_train_h, np.ones(len(x_train_h)) ]\n",
        "# X_train=np.append(x_train_l,x_train_h,axis=0)\n",
        "#\n",
        "from emukit.multi_fidelity.convert_lists_to_array import convert_x_list_to_array, convert_xy_lists_to_arrays\n",
        "\n",
        "# Y_train=np.append(y_train_h,y_train_l,axis=0)\n",
        "X_train, Y_train = convert_xy_lists_to_arrays([x_train_l, x_train_h], [y_train_l, y_train_h])\n",
        "print(X_train.shape)\n",
        "print(Y_train.shape)\n",
        "\n",
        "print(X_train)"
      ]
    },
    {
      "cell_type": "code",
      "execution_count": null,
      "metadata": {
        "id": "oS1y6WTz33d2",
        "colab": {
          "base_uri": "https://localhost:8080/"
        },
        "outputId": "5b6459bc-b269-42ec-ff7a-c1b8eec9cb3a"
      },
      "outputs": [
        {
          "output_type": "stream",
          "name": "stderr",
          "text": [
            "WARNING:lengthscale:reconstraining parameters ExpQuad.lengthscale\n",
            "WARNING:variance:reconstraining parameters ExpQuad.variance\n"
          ]
        },
        {
          "output_type": "stream",
          "name": "stdout",
          "text": [
            "Optimization restart 1/100, f = 1632.5420698040778\n",
            "Optimization restart 2/100, f = 1315.268745283234\n",
            "Optimization restart 3/100, f = 1315.273205219534\n",
            "Optimization restart 4/100, f = 1315.2687420247094\n",
            "Optimization restart 5/100, f = 1634.2372671255023\n",
            "Optimization restart 6/100, f = 1634.23699863298\n",
            "Optimization restart 7/100, f = 1634.236963013187\n",
            "Optimization restart 8/100, f = 1315.2687393711867\n",
            "Optimization restart 9/100, f = 1632.7317884113527\n",
            "Optimization restart 10/100, f = 1634.236960997908\n",
            "Optimization restart 11/100, f = 1634.2369604191308\n",
            "Optimization restart 12/100, f = 1315.2687371279308\n",
            "Optimization restart 13/100, f = 1634.236966022209\n",
            "Optimization restart 14/100, f = 1315.2687421534256\n",
            "Optimization restart 15/100, f = 1315.2687399814693\n",
            "Optimization restart 16/100, f = 1315.2687469714447\n",
            "Optimization restart 17/100, f = 1633.9138190677647\n",
            "Optimization restart 18/100, f = 1634.2373131946524\n",
            "Optimization restart 19/100, f = 1634.2031792171554\n",
            "Optimization restart 20/100, f = 1634.2369846180536\n",
            "Optimization restart 21/100, f = 1634.2369624806197\n",
            "Optimization restart 22/100, f = 1634.2090532709105\n",
            "Optimization restart 23/100, f = 1315.2687459454849\n",
            "Optimization restart 24/100, f = 1634.2369643965717\n",
            "Optimization restart 25/100, f = 1315.2687386857874\n",
            "Optimization restart 26/100, f = 1632.542060481684\n",
            "Optimization restart 27/100, f = 1634.236958603743\n",
            "Optimization restart 28/100, f = 1315.268745180529\n",
            "Optimization restart 29/100, f = 1315.2687673539167\n",
            "Optimization restart 30/100, f = 1315.2687403744953\n",
            "Optimization restart 31/100, f = 1315.268768641788\n",
            "Optimization restart 32/100, f = 1634.2369665119636\n",
            "Optimization restart 33/100, f = 1634.2369620284817\n",
            "Optimization restart 34/100, f = 1634.236956527884\n",
            "Optimization restart 35/100, f = 1634.238236556448\n",
            "Optimization restart 36/100, f = 1634.2369560712818\n",
            "Optimization restart 37/100, f = 1634.238603769807\n",
            "Optimization restart 38/100, f = 1634.2369579474794\n",
            "Optimization restart 39/100, f = 1633.9138190011724\n",
            "Optimization restart 40/100, f = 1315.268751544827\n",
            "Optimization restart 41/100, f = 1315.268742444728\n",
            "Optimization restart 42/100, f = 1634.2369607829978\n",
            "Optimization restart 43/100, f = 1315.2691936398164\n",
            "Optimization restart 44/100, f = 1315.2687600818101\n",
            "Optimization restart 45/100, f = 1315.2687467461951\n",
            "Optimization restart 46/100, f = 1634.236722933134\n",
            "Optimization restart 47/100, f = 1315.2739805211922\n",
            "Optimization restart 48/100, f = 1315.2687537516936\n",
            "Optimization restart 49/100, f = 1315.2687399276783\n",
            "Optimization restart 50/100, f = 1632.5420662258884\n",
            "Optimization restart 51/100, f = 1315.2687459677159\n",
            "Optimization restart 52/100, f = 1634.2369612597265\n",
            "Optimization restart 53/100, f = 1634.2338103842098\n",
            "Optimization restart 54/100, f = 1634.2386037522838\n",
            "Optimization restart 55/100, f = 1632.9194387273187\n",
            "Optimization restart 56/100, f = 1315.268736879921\n",
            "Optimization restart 57/100, f = 1315.2689299053065\n",
            "Optimization restart 58/100, f = 1315.2687387242022\n",
            "Optimization restart 59/100, f = 1634.236888437114\n",
            "Optimization restart 60/100, f = 1315.2687478485377\n",
            "Optimization restart 61/100, f = 1315.2687425439717\n",
            "Optimization restart 62/100, f = 1634.2369632010164\n",
            "Optimization restart 63/100, f = 1634.2369641710509\n",
            "Optimization restart 64/100, f = 1634.2386038252744\n",
            "Optimization restart 65/100, f = 1315.2687389605223\n",
            "Optimization restart 66/100, f = 1315.268759082322\n",
            "Optimization restart 67/100, f = 1315.2687524860594\n",
            "Optimization restart 68/100, f = 1315.2687465819263\n",
            "Optimization restart 69/100, f = 1315.269103051922\n",
            "Optimization restart 70/100, f = 1634.2369878928876\n",
            "Optimization restart 71/100, f = 1634.2369628564634\n",
            "Optimization restart 72/100, f = 1315.2687393605147\n",
            "Optimization restart 73/100, f = 1315.2688010001036\n",
            "Optimization restart 74/100, f = 1634.236964342661\n",
            "Optimization restart 75/100, f = 1315.269935387239\n",
            "Optimization restart 76/100, f = 1315.2687420112811\n",
            "Optimization restart 77/100, f = 1634.2369622554234\n",
            "Optimization restart 78/100, f = 1634.2369692834052\n",
            "Optimization restart 79/100, f = 1634.2369846226024\n",
            "Optimization restart 80/100, f = 1634.236952888899\n",
            "Optimization restart 81/100, f = 1634.2369610403023\n",
            "Optimization restart 82/100, f = 1634.2369651384838\n",
            "Optimization restart 83/100, f = 1634.2363922894103\n",
            "Optimization restart 84/100, f = 1315.268747531159\n",
            "Optimization restart 85/100, f = 1634.2369665450497\n",
            "Optimization restart 86/100, f = 1315.2687383841592\n",
            "Optimization restart 87/100, f = 1634.2369621119285\n",
            "Optimization restart 88/100, f = 1315.2687384616042\n",
            "Optimization restart 89/100, f = 1634.2369635308614\n",
            "Optimization restart 90/100, f = 1315.2687947425952\n",
            "Optimization restart 91/100, f = 1634.240073228512\n",
            "Optimization restart 92/100, f = 1315.274553714513\n",
            "Optimization restart 93/100, f = 1315.2687531373294\n",
            "Optimization restart 94/100, f = 1634.2369599863632\n",
            "Optimization restart 95/100, f = 1634.2369915989414\n",
            "Optimization restart 96/100, f = 1315.2689518186846\n",
            "Optimization restart 97/100, f = 1315.2687392492583\n",
            "Optimization restart 98/100, f = 1634.2369660872728\n",
            "Optimization restart 99/100, f = 1315.2687434625486\n",
            "Optimization restart 100/100, f = 1315.2687392662813\n"
          ]
        },
        {
          "output_type": "execute_result",
          "data": {
            "text/plain": [
              "[<paramz.optimization.optimization.opt_lbfgsb at 0x7fb6a56ca5f0>,\n",
              " <paramz.optimization.optimization.opt_lbfgsb at 0x7fb6a577a2f0>,\n",
              " <paramz.optimization.optimization.opt_lbfgsb at 0x7fb6a567e7d0>,\n",
              " <paramz.optimization.optimization.opt_lbfgsb at 0x7fb6a577a3e0>,\n",
              " <paramz.optimization.optimization.opt_lbfgsb at 0x7fb6a57b7400>,\n",
              " <paramz.optimization.optimization.opt_lbfgsb at 0x7fb6a9388a90>,\n",
              " <paramz.optimization.optimization.opt_lbfgsb at 0x7fb6a577b0d0>,\n",
              " <paramz.optimization.optimization.opt_lbfgsb at 0x7fb6a564bee0>,\n",
              " <paramz.optimization.optimization.opt_lbfgsb at 0x7fb6a57d3f40>,\n",
              " <paramz.optimization.optimization.opt_lbfgsb at 0x7fb6a57d2d10>,\n",
              " <paramz.optimization.optimization.opt_lbfgsb at 0x7fb6a567e5c0>,\n",
              " <paramz.optimization.optimization.opt_lbfgsb at 0x7fb6a567e7a0>,\n",
              " <paramz.optimization.optimization.opt_lbfgsb at 0x7fb6a567e6e0>,\n",
              " <paramz.optimization.optimization.opt_lbfgsb at 0x7fb6a56c9cf0>,\n",
              " <paramz.optimization.optimization.opt_lbfgsb at 0x7fb6a56c9060>,\n",
              " <paramz.optimization.optimization.opt_lbfgsb at 0x7fb6a56c82e0>,\n",
              " <paramz.optimization.optimization.opt_lbfgsb at 0x7fb6a56c8220>,\n",
              " <paramz.optimization.optimization.opt_lbfgsb at 0x7fb6a56c8280>,\n",
              " <paramz.optimization.optimization.opt_lbfgsb at 0x7fb6a56c8400>,\n",
              " <paramz.optimization.optimization.opt_lbfgsb at 0x7fb6a56c8610>,\n",
              " <paramz.optimization.optimization.opt_lbfgsb at 0x7fb6a56c95d0>,\n",
              " <paramz.optimization.optimization.opt_lbfgsb at 0x7fb6a57d02b0>,\n",
              " <paramz.optimization.optimization.opt_lbfgsb at 0x7fb6a56c9e70>,\n",
              " <paramz.optimization.optimization.opt_lbfgsb at 0x7fb6a56c9600>,\n",
              " <paramz.optimization.optimization.opt_lbfgsb at 0x7fb6a56c93c0>,\n",
              " <paramz.optimization.optimization.opt_lbfgsb at 0x7fb6a56ca860>,\n",
              " <paramz.optimization.optimization.opt_lbfgsb at 0x7fb6a56c9720>,\n",
              " <paramz.optimization.optimization.opt_lbfgsb at 0x7fb6a56caef0>,\n",
              " <paramz.optimization.optimization.opt_lbfgsb at 0x7fb6a56cb460>,\n",
              " <paramz.optimization.optimization.opt_lbfgsb at 0x7fb6a56cacb0>,\n",
              " <paramz.optimization.optimization.opt_lbfgsb at 0x7fb6a56cbd00>,\n",
              " <paramz.optimization.optimization.opt_lbfgsb at 0x7fb6a56cb9a0>,\n",
              " <paramz.optimization.optimization.opt_lbfgsb at 0x7fb6a56cb730>,\n",
              " <paramz.optimization.optimization.opt_lbfgsb at 0x7fb6a56cb520>,\n",
              " <paramz.optimization.optimization.opt_lbfgsb at 0x7fb6a56ca050>,\n",
              " <paramz.optimization.optimization.opt_lbfgsb at 0x7fb6a56c9f30>,\n",
              " <paramz.optimization.optimization.opt_lbfgsb at 0x7fb6a56c99c0>,\n",
              " <paramz.optimization.optimization.opt_lbfgsb at 0x7fb6a56c9360>,\n",
              " <paramz.optimization.optimization.opt_lbfgsb at 0x7fb6a56ca140>,\n",
              " <paramz.optimization.optimization.opt_lbfgsb at 0x7fb6a56ca0e0>,\n",
              " <paramz.optimization.optimization.opt_lbfgsb at 0x7fb6a56c9240>,\n",
              " <paramz.optimization.optimization.opt_lbfgsb at 0x7fb6a56c8580>,\n",
              " <paramz.optimization.optimization.opt_lbfgsb at 0x7fb6a56c95a0>,\n",
              " <paramz.optimization.optimization.opt_lbfgsb at 0x7fb6a56c9480>,\n",
              " <paramz.optimization.optimization.opt_lbfgsb at 0x7fb6a56cb4c0>,\n",
              " <paramz.optimization.optimization.opt_lbfgsb at 0x7fb6a56c9cc0>,\n",
              " <paramz.optimization.optimization.opt_lbfgsb at 0x7fb6a56cb940>,\n",
              " <paramz.optimization.optimization.opt_lbfgsb at 0x7fb6a56cb910>,\n",
              " <paramz.optimization.optimization.opt_lbfgsb at 0x7fb6a56cb100>,\n",
              " <paramz.optimization.optimization.opt_lbfgsb at 0x7fb6a56c8940>,\n",
              " <paramz.optimization.optimization.opt_lbfgsb at 0x7fb6a56ca530>,\n",
              " <paramz.optimization.optimization.opt_lbfgsb at 0x7fb6a56c8f10>,\n",
              " <paramz.optimization.optimization.opt_lbfgsb at 0x7fb6a57b7a30>,\n",
              " <paramz.optimization.optimization.opt_lbfgsb at 0x7fb6a57b77f0>,\n",
              " <paramz.optimization.optimization.opt_lbfgsb at 0x7fb6a57b7d60>,\n",
              " <paramz.optimization.optimization.opt_lbfgsb at 0x7fb6a57b7a60>,\n",
              " <paramz.optimization.optimization.opt_lbfgsb at 0x7fb6a57d2b60>,\n",
              " <paramz.optimization.optimization.opt_lbfgsb at 0x7fb6a57d0370>,\n",
              " <paramz.optimization.optimization.opt_lbfgsb at 0x7fb6a57d3520>,\n",
              " <paramz.optimization.optimization.opt_lbfgsb at 0x7fb6a57b68f0>,\n",
              " <paramz.optimization.optimization.opt_lbfgsb at 0x7fb6a564bdf0>,\n",
              " <paramz.optimization.optimization.opt_lbfgsb at 0x7fb6a567e710>,\n",
              " <paramz.optimization.optimization.opt_lbfgsb at 0x7fb6a564beb0>,\n",
              " <paramz.optimization.optimization.opt_lbfgsb at 0x7fb6a56ca2c0>,\n",
              " <paramz.optimization.optimization.opt_lbfgsb at 0x7fb6a564bf10>,\n",
              " <paramz.optimization.optimization.opt_lbfgsb at 0x7fb6a56caad0>,\n",
              " <paramz.optimization.optimization.opt_lbfgsb at 0x7fb6a56cba00>,\n",
              " <paramz.optimization.optimization.opt_lbfgsb at 0x7fb6a567e620>,\n",
              " <paramz.optimization.optimization.opt_lbfgsb at 0x7fb6a56c9b10>,\n",
              " <paramz.optimization.optimization.opt_lbfgsb at 0x7fb6a57d2da0>,\n",
              " <paramz.optimization.optimization.opt_lbfgsb at 0x7fb6a56c8040>,\n",
              " <paramz.optimization.optimization.opt_lbfgsb at 0x7fb6a56c8820>,\n",
              " <paramz.optimization.optimization.opt_lbfgsb at 0x7fb6a56c84f0>,\n",
              " <paramz.optimization.optimization.opt_lbfgsb at 0x7fb6a57d2dd0>,\n",
              " <paramz.optimization.optimization.opt_lbfgsb at 0x7fb6a56c94b0>,\n",
              " <paramz.optimization.optimization.opt_lbfgsb at 0x7fb6a56ca110>,\n",
              " <paramz.optimization.optimization.opt_lbfgsb at 0x7fb6a56cb2e0>,\n",
              " <paramz.optimization.optimization.opt_lbfgsb at 0x7fb6a57b7a90>,\n",
              " <paramz.optimization.optimization.opt_lbfgsb at 0x7fb6a56cae00>,\n",
              " <paramz.optimization.optimization.opt_lbfgsb at 0x7fb6a56cb640>,\n",
              " <paramz.optimization.optimization.opt_lbfgsb at 0x7fb6a564bdc0>,\n",
              " <paramz.optimization.optimization.opt_lbfgsb at 0x7fb6a57d2b90>,\n",
              " <paramz.optimization.optimization.opt_lbfgsb at 0x7fb6a56cb2b0>,\n",
              " <paramz.optimization.optimization.opt_lbfgsb at 0x7fb6a57d2aa0>,\n",
              " <paramz.optimization.optimization.opt_lbfgsb at 0x7fb6a56ca170>,\n",
              " <paramz.optimization.optimization.opt_lbfgsb at 0x7fb6a56c9870>,\n",
              " <paramz.optimization.optimization.opt_lbfgsb at 0x7fb6a56c9ea0>,\n",
              " <paramz.optimization.optimization.opt_lbfgsb at 0x7fb6a57d32b0>,\n",
              " <paramz.optimization.optimization.opt_lbfgsb at 0x7fb6a56c9e10>,\n",
              " <paramz.optimization.optimization.opt_lbfgsb at 0x7fb6a56c9f90>,\n",
              " <paramz.optimization.optimization.opt_lbfgsb at 0x7fb6a56c87f0>,\n",
              " <paramz.optimization.optimization.opt_lbfgsb at 0x7fb6a56c9fc0>,\n",
              " <paramz.optimization.optimization.opt_lbfgsb at 0x7fb6a56c8130>,\n",
              " <paramz.optimization.optimization.opt_lbfgsb at 0x7fb6a56c9210>,\n",
              " <paramz.optimization.optimization.opt_lbfgsb at 0x7fb6a56c8790>,\n",
              " <paramz.optimization.optimization.opt_lbfgsb at 0x7fb6a56ca4a0>,\n",
              " <paramz.optimization.optimization.opt_lbfgsb at 0x7fb6a5c797b0>,\n",
              " <paramz.optimization.optimization.opt_lbfgsb at 0x7fb6a56cbe80>,\n",
              " <paramz.optimization.optimization.opt_lbfgsb at 0x7fb6a56cb8b0>,\n",
              " <paramz.optimization.optimization.opt_lbfgsb at 0x7fb6a56ca620>]"
            ]
          },
          "metadata": {},
          "execution_count": 155
        }
      ],
      "source": [
        "## Create standard GP model using only high-fidelity data\n",
        "x_train_DNS=x_train_h\n",
        "y_train_DNS=y_train_h\n",
        "kernelDNS = GPy.kern.ExpQuad(input_dim=2,lengthscale=[100,100],variance=0.0001, ARD=True)\n",
        "kernelDNS.lengthscale.constrain_bounded(0,1000)\n",
        "kernelDNS.variance.constrain_bounded(0,10)\n",
        "high_gp_model = GPy.models.GPRegression(x_train_DNS, y_train_DNS, kernelDNS)\n",
        "high_gp_model.Gaussian_noise.fix(5)\n",
        "\n",
        "## Fit the GP model\n",
        "\n",
        "high_gp_model.optimize_restarts(100)\n"
      ]
    },
    {
      "cell_type": "code",
      "source": [
        "print(high_gp_model.ExpQuad.lengthscale[0])\n",
        "print(high_gp_model.ExpQuad.lengthscale[1])\n",
        "print(high_gp_model.ExpQuad.variance)\n",
        "print(high_gp_model.gradient)\n",
        "# Get the gradients of optimization\n",
        "gradients_dns = high_gp_model.gradient\n",
        "\n",
        "# Get the names of the model's parameters\n",
        "parameter_dns = high_gp_model.parameter_names()\n",
        "\n",
        "# Print the gradients along with the parameter names\n",
        "print(\"Gradients of Optimization:\")\n",
        "for i in range(len(parameter_dns)):\n",
        "    print(f\"Parameter: {parameter_dns[i]} - Gradient: {gradients_dns[i]}\")\n"
      ],
      "metadata": {
        "id": "TVFPtiqBiUjd",
        "colab": {
          "base_uri": "https://localhost:8080/"
        },
        "outputId": "38e40814-374f-4218-8506-88d9c1ca5d4e"
      },
      "execution_count": null,
      "outputs": [
        {
          "output_type": "stream",
          "name": "stdout",
          "text": [
            "19.524723114197343\n",
            "999.9999129284212\n",
            "  \u001b[1mindex\u001b[0;0m  |  GP_regression.ExpQuad.variance  |  constraints  |  priors\n",
            "  \u001b[1m[0]  \u001b[0;0m  |                      9.99999998  |   0.0,10.0    |        \n",
            "[ 3.36490963e+01 -7.93428942e-08  2.21822423e-03  8.39569043e+00]\n",
            "Gradients of Optimization:\n",
            "Parameter: ExpQuad.variance - Gradient: 33.64909633194445\n",
            "Parameter: ExpQuad.lengthscale - Gradient: -7.934289423096866e-08\n",
            "Parameter: Gaussian_noise.variance - Gradient: 0.002218224234293957\n"
          ]
        }
      ]
    },
    {
      "cell_type": "code",
      "execution_count": null,
      "metadata": {
        "id": "yb4i1OXc4YgJ",
        "colab": {
          "base_uri": "https://localhost:8080/"
        },
        "outputId": "2e76108b-56ae-4667-fb23-f6e03792ec15"
      },
      "outputs": [
        {
          "output_type": "stream",
          "name": "stdout",
          "text": [
            "(15, 50)\n"
          ]
        }
      ],
      "source": [
        "## Create standard GP model using only low-fidelity data\n",
        "\n",
        "x_train_RANS= np.array([[70,100],[70,80],[70,30],[70,0],[60,100],[60,80],[60,50],[50,100],[50,50],[50,30],[50,0],[40,100],[40,80],[40,50],[40,0]])\n",
        "\n",
        "y_train_RANS=np.transpose(RANS_test)\n",
        "print(y_train_RANS.shape)"
      ]
    },
    {
      "cell_type": "markdown",
      "source": [],
      "metadata": {
        "id": "XALWdBltXbUS"
      }
    },
    {
      "cell_type": "code",
      "source": [
        "# Perform sensitivity analysis using Sobol indices\n",
        "sensitivity = high_gp_model.input_sensitivity()\n",
        "\n",
        "# Calculate the sum of sensitivity indices\n",
        "sensitivity_sum = sum(sensitivity)\n",
        "\n",
        "# Normalize the sensitivity indices\n",
        "normalized_sensitivity = [index / sensitivity_sum for index in sensitivity]\n",
        "\n",
        "# Calculate the total Sobol indices\n",
        "total_sobol_indices = [index ** 2 for index in normalized_sensitivity]\n",
        "\n",
        "# Normalize the total Sobol indices\n",
        "total_sobol_sum = sum(total_sobol_indices)\n",
        "normalized_total_sobol_indices = [index / total_sobol_sum for index in total_sobol_indices]\n",
        "\n",
        "# Print the normalized total Sobol indices\n",
        "print(\"Normalized Total Sobol Indices:\")\n",
        "for i, sobol_index in enumerate(normalized_total_sobol_indices):\n",
        "    print(f\"Variable {i+1}: {sobol_index}\")\n"
      ],
      "metadata": {
        "colab": {
          "base_uri": "https://localhost:8080/"
        },
        "id": "eiKAA9Ie-BCK",
        "outputId": "47a0c131-978c-414b-9fdd-0c74a58fbed8"
      },
      "execution_count": null,
      "outputs": [
        {
          "output_type": "stream",
          "name": "stdout",
          "text": [
            "Normalized Total Sobol Indices:\n",
            "Variable 1: 0.999999854675237\n",
            "Variable 2: 1.4532476290661406e-07\n"
          ]
        }
      ]
    },
    {
      "cell_type": "code",
      "source": [
        "# Perform sensitivity analysis using Sobol indices\n",
        "sensitivity = high_gp_model.input_sensitivity()\n",
        "\n",
        "# Normalize the sensitivity indices\n",
        "sensitivity_sum = sum(sensitivity)\n",
        "normalized_sensitivity = [index / sensitivity_sum for index in sensitivity]\n",
        "\n",
        "# Print the normalized sensitivity indices\n",
        "print(\"Normalized Sensitivity Indices:\")\n",
        "for i, sensitivity_index in enumerate(normalized_sensitivity):\n",
        "    print(f\"Variable {i+1}: {sensitivity_index}\")"
      ],
      "metadata": {
        "colab": {
          "base_uri": "https://localhost:8080/"
        },
        "id": "FJQEXm0V-Evh",
        "outputId": "4d569676-bd00-4bef-f97d-d45b2aedd01e"
      },
      "execution_count": null,
      "outputs": [
        {
          "output_type": "stream",
          "name": "stdout",
          "text": [
            "Normalized Sensitivity Indices:\n",
            "Variable 1: 0.5000000065572159\n",
            "Variable 2: 0.49999999344278406\n"
          ]
        }
      ]
    },
    {
      "cell_type": "markdown",
      "source": [],
      "metadata": {
        "id": "s67_xv3nXZoi"
      }
    },
    {
      "cell_type": "code",
      "execution_count": null,
      "metadata": {
        "id": "DQrM35nwabE9",
        "colab": {
          "base_uri": "https://localhost:8080/"
        },
        "outputId": "195ed554-50e1-4a67-97be-9d4cff40d2a7"
      },
      "outputs": [
        {
          "output_type": "stream",
          "name": "stderr",
          "text": [
            "WARNING:lengthscale:reconstraining parameters ExpQuad.lengthscale\n",
            "WARNING:variance:reconstraining parameters ExpQuad.variance\n"
          ]
        },
        {
          "output_type": "stream",
          "name": "stdout",
          "text": [
            "Optimization restart 1/100, f = 2231.2985900421763\n",
            "Optimization restart 2/100, f = 2528.7091478715847\n",
            "Optimization restart 3/100, f = 2231.2988308454346\n",
            "Optimization restart 4/100, f = 2528.688461712579\n",
            "Optimization restart 5/100, f = 2528.708920696214\n",
            "Optimization restart 6/100, f = 2231.298614836096\n",
            "Optimization restart 7/100, f = 2528.7308184447916\n",
            "Optimization restart 8/100, f = 2528.709143910077\n",
            "Optimization restart 9/100, f = 2231.2985924519944\n",
            "Optimization restart 10/100, f = 2231.2986846999056\n",
            "Optimization restart 11/100, f = 2528.709149968916\n",
            "Optimization restart 12/100, f = 2528.709144102047\n",
            "Optimization restart 13/100, f = 2231.2985889879574\n",
            "Optimization restart 14/100, f = 2231.29884116555\n",
            "Optimization restart 15/100, f = 2231.2990718317396\n",
            "Optimization restart 16/100, f = 2528.7091535587856\n",
            "Optimization restart 17/100, f = 2528.709150900462\n",
            "Optimization restart 18/100, f = 2528.7091512836114\n",
            "Optimization restart 19/100, f = 2231.298589745776\n",
            "Optimization restart 20/100, f = 2231.2986311575296\n",
            "Optimization restart 21/100, f = 2231.298587754306\n",
            "Optimization restart 22/100, f = 2528.7090656257524\n",
            "Optimization restart 23/100, f = 2528.7091402963415\n",
            "Optimization restart 24/100, f = 2231.298620045651\n",
            "Optimization restart 25/100, f = 2528.7335928350462\n",
            "Optimization restart 26/100, f = 2528.709127319793\n",
            "Optimization restart 27/100, f = 2231.298588881339\n",
            "Optimization restart 28/100, f = 2231.30049164299\n",
            "Optimization restart 29/100, f = 2528.709142377563\n",
            "Optimization restart 30/100, f = 2231.298592103835\n",
            "Optimization restart 31/100, f = 2528.709147800989\n",
            "Optimization restart 32/100, f = 2528.7089713302257\n",
            "Optimization restart 33/100, f = 2528.7091500189854\n",
            "Optimization restart 34/100, f = 2231.29858519916\n",
            "Optimization restart 35/100, f = 2528.7105732690843\n",
            "Optimization restart 36/100, f = 2231.2988407235794\n",
            "Optimization restart 37/100, f = 2231.2985888071994\n",
            "Optimization restart 38/100, f = 2528.707285116018\n",
            "Optimization restart 39/100, f = 2231.3093352564265\n",
            "Optimization restart 40/100, f = 2528.709240508183\n",
            "Optimization restart 41/100, f = 2528.709148058106\n",
            "Optimization restart 42/100, f = 2231.2985893039377\n",
            "Optimization restart 43/100, f = 2528.7082449075506\n",
            "Optimization restart 44/100, f = 2231.298589908536\n",
            "Optimization restart 45/100, f = 2231.2985888508993\n",
            "Optimization restart 46/100, f = 2528.7586948836483\n",
            "Optimization restart 47/100, f = 2527.7994234813937\n",
            "Optimization restart 48/100, f = 2528.709147983881\n",
            "Optimization restart 49/100, f = 2231.298586359194\n",
            "Optimization restart 50/100, f = 2527.7994234809003\n",
            "Optimization restart 51/100, f = 2231.298590075535\n",
            "Optimization restart 52/100, f = 2528.7085421938127\n",
            "Optimization restart 53/100, f = 2231.29858908447\n",
            "Optimization restart 54/100, f = 2528.709152272065\n",
            "Optimization restart 55/100, f = 2231.298600093038\n",
            "Optimization restart 56/100, f = 2231.2985913239086\n",
            "Optimization restart 57/100, f = 2231.29865479562\n",
            "Optimization restart 58/100, f = 2231.298588985007\n",
            "Optimization restart 59/100, f = 2528.709149791167\n",
            "Optimization restart 60/100, f = 2231.298824015908\n",
            "Optimization restart 61/100, f = 2528.7091426962793\n",
            "Optimization restart 62/100, f = 2231.298608769633\n",
            "Optimization restart 63/100, f = 2528.708919275069\n",
            "Optimization restart 64/100, f = 2528.7091421860214\n",
            "Optimization restart 65/100, f = 2231.298592750252\n",
            "Optimization restart 66/100, f = 2231.2986303856655\n",
            "Optimization restart 67/100, f = 2231.2986939067873\n",
            "Optimization restart 68/100, f = 2528.7097240509866\n",
            "Optimization restart 69/100, f = 2528.709145146127\n",
            "Optimization restart 70/100, f = 2231.298591721543\n",
            "Optimization restart 71/100, f = 2528.709130919292\n",
            "Optimization restart 72/100, f = 2231.2986431099757\n",
            "Optimization restart 73/100, f = 2231.2985993857947\n",
            "Optimization restart 74/100, f = 2528.7091492382665\n",
            "Optimization restart 75/100, f = 2528.7091446814984\n",
            "Optimization restart 76/100, f = 2528.709103922439\n",
            "Optimization restart 77/100, f = 2231.2985910749053\n",
            "Optimization restart 78/100, f = 2528.709149699818\n",
            "Optimization restart 79/100, f = 2528.7091433815644\n",
            "Optimization restart 80/100, f = 2528.7091441432376\n",
            "Optimization restart 81/100, f = 2528.71294822441\n",
            "Optimization restart 82/100, f = 2231.298653539171\n",
            "Optimization restart 83/100, f = 2231.2986440903624\n",
            "Optimization restart 84/100, f = 2528.709149808964\n",
            "Optimization restart 85/100, f = 2231.2986495037676\n",
            "Optimization restart 86/100, f = 2528.2517839601187\n",
            "Optimization restart 87/100, f = 2231.298650381152\n",
            "Optimization restart 88/100, f = 2528.332048320686\n",
            "Optimization restart 89/100, f = 2231.2985898767442\n",
            "Optimization restart 90/100, f = 2528.345027456428\n",
            "Optimization restart 91/100, f = 2231.298585220068\n",
            "Optimization restart 92/100, f = 2528.709172891563\n",
            "Optimization restart 93/100, f = 2231.298596582037\n",
            "Optimization restart 94/100, f = 2231.2985856412793\n",
            "Optimization restart 95/100, f = 2231.2987752082963\n",
            "Optimization restart 96/100, f = 2528.7093775876765\n",
            "Optimization restart 97/100, f = 2231.298588267955\n",
            "Optimization restart 98/100, f = 2231.29979292609\n",
            "Optimization restart 99/100, f = 2231.298590622412\n",
            "Optimization restart 100/100, f = 2528.709147160122\n"
          ]
        },
        {
          "output_type": "execute_result",
          "data": {
            "text/plain": [
              "[<paramz.optimization.optimization.opt_lbfgsb at 0x7fb6a5f2ce80>,\n",
              " <paramz.optimization.optimization.opt_lbfgsb at 0x7fb6ab73bd30>,\n",
              " <paramz.optimization.optimization.opt_lbfgsb at 0x7fb6a717f700>,\n",
              " <paramz.optimization.optimization.opt_lbfgsb at 0x7fb6a5f2e4d0>,\n",
              " <paramz.optimization.optimization.opt_lbfgsb at 0x7fb6a5f2f6d0>,\n",
              " <paramz.optimization.optimization.opt_lbfgsb at 0x7fb6a5f2cfa0>,\n",
              " <paramz.optimization.optimization.opt_lbfgsb at 0x7fb6a5f2c490>,\n",
              " <paramz.optimization.optimization.opt_lbfgsb at 0x7fb6a5f2feb0>,\n",
              " <paramz.optimization.optimization.opt_lbfgsb at 0x7fb6a5f2fd90>,\n",
              " <paramz.optimization.optimization.opt_lbfgsb at 0x7fb6a5f2fd00>,\n",
              " <paramz.optimization.optimization.opt_lbfgsb at 0x7fb6a5f2dc30>,\n",
              " <paramz.optimization.optimization.opt_lbfgsb at 0x7fb6a5f2d690>,\n",
              " <paramz.optimization.optimization.opt_lbfgsb at 0x7fb6a5f2fee0>,\n",
              " <paramz.optimization.optimization.opt_lbfgsb at 0x7fb6a5f2d000>,\n",
              " <paramz.optimization.optimization.opt_lbfgsb at 0x7fb6a5f2f880>,\n",
              " <paramz.optimization.optimization.opt_lbfgsb at 0x7fb6a5f2f730>,\n",
              " <paramz.optimization.optimization.opt_lbfgsb at 0x7fb6a5e68a30>,\n",
              " <paramz.optimization.optimization.opt_lbfgsb at 0x7fb6a5f2efb0>,\n",
              " <paramz.optimization.optimization.opt_lbfgsb at 0x7fb6a5fdc190>,\n",
              " <paramz.optimization.optimization.opt_lbfgsb at 0x7fb6a5efb610>,\n",
              " <paramz.optimization.optimization.opt_lbfgsb at 0x7fb6a5f2e830>,\n",
              " <paramz.optimization.optimization.opt_lbfgsb at 0x7fb6a5f2dc00>,\n",
              " <paramz.optimization.optimization.opt_lbfgsb at 0x7fb6a5f1add0>,\n",
              " <paramz.optimization.optimization.opt_lbfgsb at 0x7fb6a5e93ee0>,\n",
              " <paramz.optimization.optimization.opt_lbfgsb at 0x7fb6a5f2eaa0>,\n",
              " <paramz.optimization.optimization.opt_lbfgsb at 0x7fb6a5f2c9a0>,\n",
              " <paramz.optimization.optimization.opt_lbfgsb at 0x7fb6a5efb190>,\n",
              " <paramz.optimization.optimization.opt_lbfgsb at 0x7fb6a5e90c70>,\n",
              " <paramz.optimization.optimization.opt_lbfgsb at 0x7fb6a5f1b730>,\n",
              " <paramz.optimization.optimization.opt_lbfgsb at 0x7fb6a5f1b6d0>,\n",
              " <paramz.optimization.optimization.opt_lbfgsb at 0x7fb6a5f2e800>,\n",
              " <paramz.optimization.optimization.opt_lbfgsb at 0x7fb6a5f1a170>,\n",
              " <paramz.optimization.optimization.opt_lbfgsb at 0x7fb6a5ece740>,\n",
              " <paramz.optimization.optimization.opt_lbfgsb at 0x7fb6a5ece380>,\n",
              " <paramz.optimization.optimization.opt_lbfgsb at 0x7fb6a5ecda80>,\n",
              " <paramz.optimization.optimization.opt_lbfgsb at 0x7fb6a5f19690>,\n",
              " <paramz.optimization.optimization.opt_lbfgsb at 0x7fb6a5f1b880>,\n",
              " <paramz.optimization.optimization.opt_lbfgsb at 0x7fb6a5f1a4a0>,\n",
              " <paramz.optimization.optimization.opt_lbfgsb at 0x7fb6a5ecd8a0>,\n",
              " <paramz.optimization.optimization.opt_lbfgsb at 0x7fb6a5f1b790>,\n",
              " <paramz.optimization.optimization.opt_lbfgsb at 0x7fb6a5f181c0>,\n",
              " <paramz.optimization.optimization.opt_lbfgsb at 0x7fb6a5f197b0>,\n",
              " <paramz.optimization.optimization.opt_lbfgsb at 0x7fb6a5f1a050>,\n",
              " <paramz.optimization.optimization.opt_lbfgsb at 0x7fb6a5f1ae30>,\n",
              " <paramz.optimization.optimization.opt_lbfgsb at 0x7fb6a5eceb90>,\n",
              " <paramz.optimization.optimization.opt_lbfgsb at 0x7fb6a5ecd990>,\n",
              " <paramz.optimization.optimization.opt_lbfgsb at 0x7fb6a5f1aaa0>,\n",
              " <paramz.optimization.optimization.opt_lbfgsb at 0x7fb6a5e93d90>,\n",
              " <paramz.optimization.optimization.opt_lbfgsb at 0x7fb6a5e93c10>,\n",
              " <paramz.optimization.optimization.opt_lbfgsb at 0x7fb6a5f1ac50>,\n",
              " <paramz.optimization.optimization.opt_lbfgsb at 0x7fb6a5f1ab90>,\n",
              " <paramz.optimization.optimization.opt_lbfgsb at 0x7fb6a5e90bb0>,\n",
              " <paramz.optimization.optimization.opt_lbfgsb at 0x7fb6a5f1b5e0>,\n",
              " <paramz.optimization.optimization.opt_lbfgsb at 0x7fb6a5f1b070>,\n",
              " <paramz.optimization.optimization.opt_lbfgsb at 0x7fb6a5f2dff0>,\n",
              " <paramz.optimization.optimization.opt_lbfgsb at 0x7fb6a5f2e530>,\n",
              " <paramz.optimization.optimization.opt_lbfgsb at 0x7fb6a5f2d660>,\n",
              " <paramz.optimization.optimization.opt_lbfgsb at 0x7fb6a5f2df00>,\n",
              " <paramz.optimization.optimization.opt_lbfgsb at 0x7fb6a5f2fc70>,\n",
              " <paramz.optimization.optimization.opt_lbfgsb at 0x7fb6a5f2eb60>,\n",
              " <paramz.optimization.optimization.opt_lbfgsb at 0x7fb6a5d50790>,\n",
              " <paramz.optimization.optimization.opt_lbfgsb at 0x7fb6a5f2fd30>,\n",
              " <paramz.optimization.optimization.opt_lbfgsb at 0x7fb6a5f2f940>,\n",
              " <paramz.optimization.optimization.opt_lbfgsb at 0x7fb6a5f2dba0>,\n",
              " <paramz.optimization.optimization.opt_lbfgsb at 0x7fb6a5f2f8e0>,\n",
              " <paramz.optimization.optimization.opt_lbfgsb at 0x7fb6a5f2f010>,\n",
              " <paramz.optimization.optimization.opt_lbfgsb at 0x7fb6a5f2f7c0>,\n",
              " <paramz.optimization.optimization.opt_lbfgsb at 0x7fb6a5f2e410>,\n",
              " <paramz.optimization.optimization.opt_lbfgsb at 0x7fb6a5f2ed40>,\n",
              " <paramz.optimization.optimization.opt_lbfgsb at 0x7fb6a5f2f1f0>,\n",
              " <paramz.optimization.optimization.opt_lbfgsb at 0x7fb6a5f2e290>,\n",
              " <paramz.optimization.optimization.opt_lbfgsb at 0x7fb6e5b47760>,\n",
              " <paramz.optimization.optimization.opt_lbfgsb at 0x7fb6a5ef9ae0>,\n",
              " <paramz.optimization.optimization.opt_lbfgsb at 0x7fb6a5e93f70>,\n",
              " <paramz.optimization.optimization.opt_lbfgsb at 0x7fb6a5efa2c0>,\n",
              " <paramz.optimization.optimization.opt_lbfgsb at 0x7fb6a5f2ebf0>,\n",
              " <paramz.optimization.optimization.opt_lbfgsb at 0x7fb6a5f1b3a0>,\n",
              " <paramz.optimization.optimization.opt_lbfgsb at 0x7fb6a5ef8580>,\n",
              " <paramz.optimization.optimization.opt_lbfgsb at 0x7fb6a5f2d510>,\n",
              " <paramz.optimization.optimization.opt_lbfgsb at 0x7fb6a5f1bd00>,\n",
              " <paramz.optimization.optimization.opt_lbfgsb at 0x7fb6a5f2edd0>,\n",
              " <paramz.optimization.optimization.opt_lbfgsb at 0x7fb6a5f2c820>,\n",
              " <paramz.optimization.optimization.opt_lbfgsb at 0x7fb6a5f19e70>,\n",
              " <paramz.optimization.optimization.opt_lbfgsb at 0x7fb6a5f1b640>,\n",
              " <paramz.optimization.optimization.opt_lbfgsb at 0x7fb6a5f18130>,\n",
              " <paramz.optimization.optimization.opt_lbfgsb at 0x7fb6a5f19f90>,\n",
              " <paramz.optimization.optimization.opt_lbfgsb at 0x7fb6a5f1a1d0>,\n",
              " <paramz.optimization.optimization.opt_lbfgsb at 0x7fb6a5f19d20>,\n",
              " <paramz.optimization.optimization.opt_lbfgsb at 0x7fb6a5f1a680>,\n",
              " <paramz.optimization.optimization.opt_lbfgsb at 0x7fb6a5f1b910>,\n",
              " <paramz.optimization.optimization.opt_lbfgsb at 0x7fb6a5f1bd90>,\n",
              " <paramz.optimization.optimization.opt_lbfgsb at 0x7fb6a5f1a440>,\n",
              " <paramz.optimization.optimization.opt_lbfgsb at 0x7fb6a5f1b820>,\n",
              " <paramz.optimization.optimization.opt_lbfgsb at 0x7fb6a5f1bdf0>,\n",
              " <paramz.optimization.optimization.opt_lbfgsb at 0x7fb6a5efad10>,\n",
              " <paramz.optimization.optimization.opt_lbfgsb at 0x7fb6a5f183a0>,\n",
              " <paramz.optimization.optimization.opt_lbfgsb at 0x7fb6a5efa470>,\n",
              " <paramz.optimization.optimization.opt_lbfgsb at 0x7fb6a5f1a800>,\n",
              " <paramz.optimization.optimization.opt_lbfgsb at 0x7fb6a5e93d00>,\n",
              " <paramz.optimization.optimization.opt_lbfgsb at 0x7fb6a5f2c550>]"
            ]
          },
          "metadata": {},
          "execution_count": 118
        }
      ],
      "source": [
        "kernelRANS = GPy.kern.ExpQuad(input_dim=2,lengthscale=[10,10],variance=0.05, ARD=True)\n",
        "kernelRANS.lengthscale.constrain_bounded(0,1000)\n",
        "kernelRANS.variance.constrain_bounded(0,10)\n",
        "low_gp_model = GPy.models.GPRegression(x_train_RANS, y_train_RANS, kernelRANS)\n",
        "low_gp_model.Gaussian_noise.fix(10)\n",
        "\n",
        "## Fit the GP model\n",
        "\n",
        "\n",
        "low_gp_model.optimize_restarts(100)"
      ]
    },
    {
      "cell_type": "code",
      "source": [
        "print(low_gp_model.ExpQuad.lengthscale[0])\n",
        "print(low_gp_model.ExpQuad.lengthscale[1])\n",
        "print(low_gp_model.ExpQuad.variance)\n",
        "\n",
        "# Get the gradients of optimization\n",
        "gradients_rans = low_gp_model.gradient\n",
        "\n",
        "# Get the names of the model's parameters\n",
        "parameter_rans = low_gp_model.parameter_names()\n",
        "\n",
        "# Print the gradients along with the parameter names\n",
        "print(\"Gradients of Optimization:\")\n",
        "for i in range(len(parameter_rans)):\n",
        "    print(f\"Parameter: {parameter_rans[i]} - Gradient: {gradients_rans[i]}\")\n"
      ],
      "metadata": {
        "id": "ZvtbDujziXtf",
        "colab": {
          "base_uri": "https://localhost:8080/"
        },
        "outputId": "b9f872df-0ed3-42c5-99c2-0b738e447e6f"
      },
      "execution_count": null,
      "outputs": [
        {
          "output_type": "stream",
          "name": "stdout",
          "text": [
            "18.41124534677884\n",
            "999.9999972929783\n",
            "  \u001b[1mindex\u001b[0;0m  |  GP_regression.ExpQuad.variance  |  constraints  |  priors\n",
            "  \u001b[1m[0]  \u001b[0;0m  |                     10.00000000  |   0.0,10.0    |        \n",
            "Gradients of Optimization:\n",
            "Parameter: ExpQuad.variance - Gradient: 31.00592574561534\n",
            "Parameter: ExpQuad.lengthscale - Gradient: -1.0975202118197371e-07\n",
            "Parameter: Gaussian_noise.variance - Gradient: 0.001138360714646162\n"
          ]
        }
      ]
    },
    {
      "cell_type": "code",
      "source": [
        "# Perform sensitivity analysis using Sobol indices\n",
        "sensitivity = low_gp_model.input_sensitivity()\n",
        "\n",
        "# Normalize the sensitivity indices\n",
        "sensitivity_sum = sum(sensitivity)\n",
        "normalized_sensitivity = [index / sensitivity_sum for index in sensitivity]\n",
        "\n",
        "# Print the normalized sensitivity indices\n",
        "print(\"Normalized Sensitivity Indices:\")\n",
        "for i, sensitivity_index in enumerate(normalized_sensitivity):\n",
        "    print(f\"Variable {i+1}: {sensitivity_index}\")"
      ],
      "metadata": {
        "colab": {
          "base_uri": "https://localhost:8080/"
        },
        "id": "efh0oYHuXtCu",
        "outputId": "466a2462-bf5a-4397-c618-aa6b78c123a7"
      },
      "execution_count": null,
      "outputs": [
        {
          "output_type": "stream",
          "name": "stdout",
          "text": [
            "Normalized Sensitivity Indices:\n",
            "Variable 1: 0.9973525542597376\n",
            "Variable 2: 0.0026474457402624377\n"
          ]
        }
      ]
    },
    {
      "cell_type": "code",
      "source": [
        "# Perform sensitivity analysis using Sobol indices\n",
        "sensitivity = low_gp_model.input_sensitivity()\n",
        "\n",
        "# Calculate the sum of sensitivity indices\n",
        "sensitivity_sum = sum(sensitivity)\n",
        "\n",
        "# Normalize the sensitivity indices\n",
        "normalized_sensitivity = [index / sensitivity_sum for index in sensitivity]\n",
        "\n",
        "# Calculate the total Sobol indices\n",
        "total_sobol_indices = [index ** 2 for index in normalized_sensitivity]\n",
        "\n",
        "# Normalize the total Sobol indices\n",
        "total_sobol_sum = sum(total_sobol_indices)\n",
        "normalized_total_sobol_indices = [index / total_sobol_sum for index in total_sobol_indices]\n",
        "\n",
        "# Print the normalized total Sobol indices\n",
        "print(\"Normalized Total Sobol Indices:\")\n",
        "for i, sobol_index in enumerate(normalized_total_sobol_indices):\n",
        "    print(f\"Variable {i+1}: {sobol_index}\")\n"
      ],
      "metadata": {
        "colab": {
          "base_uri": "https://localhost:8080/"
        },
        "id": "92wClmrSYQmn",
        "outputId": "f21e9984-2c16-4aeb-ec99-8b135bbf801c"
      },
      "execution_count": null,
      "outputs": [
        {
          "output_type": "stream",
          "name": "stdout",
          "text": [
            "Normalized Total Sobol Indices:\n",
            "Variable 1: 0.9999929538210725\n",
            "Variable 2: 7.046178927508641e-06\n"
          ]
        }
      ]
    },
    {
      "cell_type": "code",
      "source": [
        "# Print the interaction terms\n",
        "print(\"Interaction Terms:\")\n",
        "for i in range(len(sensitivity)):\n",
        "    for j in range(i+1, len(sensitivity)):\n",
        "        interaction = sensitivity[i] * sensitivity[j]\n",
        "        print(f\"Variable {i+1} x Variable {j+1}: {interaction}\")\n"
      ],
      "metadata": {
        "colab": {
          "base_uri": "https://localhost:8080/"
        },
        "id": "TckgP3mCZyu8",
        "outputId": "ebb9e909-f065-4d33-8e50-1b6fe5b0f876"
      },
      "execution_count": null,
      "outputs": [
        {
          "output_type": "stream",
          "name": "stdout",
          "text": [
            "Interaction Terms:\n",
            "Variable 1 x Variable 2: 0.0009984569887588816\n"
          ]
        }
      ]
    },
    {
      "cell_type": "code",
      "execution_count": null,
      "metadata": {
        "id": "2ZB6GXYau8ua",
        "colab": {
          "base_uri": "https://localhost:8080/"
        },
        "outputId": "e1d2f46e-1e39-4e69-9c89-44f1b391c92b"
      },
      "outputs": [
        {
          "output_type": "stream",
          "name": "stderr",
          "text": [
            "WARNING:lengthscale:reconstraining parameters ExpQuad.lengthscale\n",
            "WARNING:variance:reconstraining parameters ExpQuad.variance\n",
            "WARNING:lengthscale:reconstraining parameters ExpQuad.lengthscale\n",
            "WARNING:variance:reconstraining parameters ExpQuad.variance\n"
          ]
        },
        {
          "output_type": "stream",
          "name": "stdout",
          "text": [
            "Optimization restart 1/50, f = 3896.8375586800203\n",
            "Optimization restart 2/50, f = 3896.837924282707\n",
            "Optimization restart 3/50, f = 3902.75549248506\n",
            "Optimization restart 4/50, f = 5891.929263629738\n",
            "Optimization restart 5/50, f = 3915.74027582781\n",
            "Optimization restart 6/50, f = 3896.8375649148097\n",
            "Optimization restart 7/50, f = 5630.283553717023\n",
            "Optimization restart 8/50, f = 3897.4062475787928\n"
          ]
        },
        {
          "output_type": "stream",
          "name": "stderr",
          "text": [
            " /usr/local/lib/python3.10/dist-packages/GPy/kern/src/stationary.py:243: RuntimeWarning:invalid value encountered in true_divide\n"
          ]
        },
        {
          "output_type": "stream",
          "name": "stdout",
          "text": [
            "Optimization restart 9/50, f = 5738.770895267962\n",
            "Optimization restart 10/50, f = 3897.410804744577\n",
            "Optimization restart 11/50, f = 3900.785479896206\n",
            "Optimization restart 12/50, f = 3896.8375582651497\n",
            "Optimization restart 13/50, f = 3896.8380429045164\n",
            "Optimization restart 14/50, f = 3922.0268323131468\n",
            "Optimization restart 15/50, f = 3930.0195701959374\n",
            "Optimization restart 16/50, f = 3896.837751713897\n",
            "Optimization restart 17/50, f = 3925.7323677535164\n",
            "Optimization restart 18/50, f = 3897.4132587234494\n",
            "Optimization restart 19/50, f = 3897.4120569687866\n",
            "Optimization restart 20/50, f = 3896.837558288385\n",
            "Optimization restart 21/50, f = 5625.676851410333\n",
            "Optimization restart 22/50, f = 3896.8379462257944\n",
            "Optimization restart 23/50, f = 3900.785476380739\n",
            "Optimization restart 24/50, f = 3963.6200180105507\n",
            "Optimization restart 25/50, f = 3897.4131018187804\n",
            "Optimization restart 26/50, f = 3897.4132679062295\n",
            "Optimization restart 27/50, f = 3897.41379092055\n",
            "Optimization restart 28/50, f = 3897.413260169419\n",
            "Optimization restart 29/50, f = 3896.837747290184\n",
            "Optimization restart 30/50, f = 3897.413259894507\n",
            "Optimization restart 31/50, f = 3915.2317945337268\n",
            "Optimization restart 32/50, f = 3902.7561062071436\n",
            "Optimization restart 33/50, f = 3897.413263902399\n",
            "Optimization restart 34/50, f = 3897.415677857562\n",
            "Optimization restart 35/50, f = 3897.412069033071\n",
            "Optimization restart 36/50, f = 3896.8375585082717\n",
            "Optimization restart 37/50, f = 3897.413264664996\n",
            "Optimization restart 38/50, f = 4280.289194396226\n",
            "Optimization restart 39/50, f = 3922.5912917008727\n",
            "Optimization restart 40/50, f = 3929.474316710124\n",
            "Optimization restart 41/50, f = 3897.4132757295665\n",
            "Optimization restart 42/50, f = 3893.4147339485853\n",
            "Optimization restart 43/50, f = 5872.580471839945\n",
            "Optimization restart 44/50, f = 3897.4132743121636\n",
            "Optimization restart 45/50, f = 3940.5472499167145\n",
            "Optimization restart 46/50, f = 3897.409641417566\n",
            "Optimization restart 47/50, f = 3930.019588167824\n",
            "Optimization restart 48/50, f = 3897.422864523021\n",
            "Optimization restart 49/50, f = 3911.305900535457\n",
            "Optimization restart 50/50, f = 5630.274971987623\n"
          ]
        }
      ],
      "source": [
        "kernels = [GPy.kern.ExpQuad(input_dim=2,lengthscale=[10,10],variance=0.005, ARD=True),GPy.kern.ExpQuad(input_dim=2,lengthscale=[10,10],variance=0.005, ARD=True)]\n",
        "# for kernel in kernels:\n",
        "#     kernel.lengthscale.constrain_bounded(0, 50)\n",
        "#     kernel.variance.constrain_bounded(0, 10)\n",
        "for i, kernel in enumerate(kernels):\n",
        "    if i == 0:  # First fidelity\n",
        "        kernel.lengthscale.constrain_bounded(0,1000)\n",
        "        kernel.variance.constrain_bounded(0, 5)\n",
        "    elif i == 1:  # Second fidelity\n",
        "        kernel.lengthscale.constrain_bounded(0, 1000)\n",
        "        kernel.variance.constrain_bounded(0, 10)\n",
        "lin_mf_kernel = emukit.multi_fidelity.kernels.LinearMultiFidelityKernel(kernels)\n",
        "\n",
        "gpy_lin_mf_model = GPyLinearMultiFidelityModel(X_train, Y_train, lin_mf_kernel, n_fidelities=2)\n",
        "\n",
        "gpy_lin_mf_model.mixed_noise.Gaussian_noise.fix(20)\n",
        "gpy_lin_mf_model.mixed_noise.Gaussian_noise_1.fix(0.1)\n",
        "\n",
        "lin_mf_model =model=GPyMultiOutputWrapper(gpy_lin_mf_model, 2, n_optimization_restarts=50)\n",
        "\n",
        "## Fit the model\n",
        "\n",
        "lin_mf_model.optimize()"
      ]
    },
    {
      "cell_type": "code",
      "source": [
        " print(gpy_lin_mf_model)"
      ],
      "metadata": {
        "colab": {
          "base_uri": "https://localhost:8080/"
        },
        "id": "m3MCFay2iY0K",
        "outputId": "cb06460f-cc2b-4860-d996-87562bd6a55c"
      },
      "execution_count": null,
      "outputs": [
        {
          "output_type": "stream",
          "name": "stdout",
          "text": [
            "\n",
            "Name : gp\n",
            "Objective : 3893.4147339485853\n",
            "Number of Parameters : 9\n",
            "Number of Optimization Parameters : 7\n",
            "Updates : True\n",
            "Parameters:\n",
            "  \u001b[1mgp.                                  \u001b[0;0m  |               value  |  constraints  |  priors\n",
            "  \u001b[1mmultifidelity.ExpQuad.variance       \u001b[0;0m  |                 5.0  |    0.0,5.0    |        \n",
            "  \u001b[1mmultifidelity.ExpQuad.lengthscale    \u001b[0;0m  |                (2,)  |  0.0,1000.0   |        \n",
            "  \u001b[1mmultifidelity.ExpQuad_1.variance     \u001b[0;0m  |   8.023079137933971  |   0.0,10.0    |        \n",
            "  \u001b[1mmultifidelity.ExpQuad_1.lengthscale  \u001b[0;0m  |                (2,)  |  0.0,1000.0   |        \n",
            "  \u001b[1mmultifidelity.scale                  \u001b[0;0m  |  1.5579079072874855  |               |        \n",
            "  \u001b[1mmixed_noise.Gaussian_noise.variance  \u001b[0;0m  |                20.0  |   +ve fixed   |        \n",
            "  \u001b[1mmixed_noise.Gaussian_noise_1.variance\u001b[0;0m  |                 0.1  |   +ve fixed   |        \n"
          ]
        }
      ]
    },
    {
      "cell_type": "code",
      "execution_count": null,
      "metadata": {
        "id": "YCANLkr5aaao",
        "colab": {
          "base_uri": "https://localhost:8080/"
        },
        "outputId": "3476143c-6204-46c5-c0a8-8e43ea33e46b"
      },
      "outputs": [
        {
          "output_type": "stream",
          "name": "stdout",
          "text": [
            "  \u001b[1mindex\u001b[0;0m  |  gp.multifidelity.ExpQuad.variance  |  constraints  |  priors\n",
            "  \u001b[1m[0]  \u001b[0;0m  |                         5.00000000  |    0.0,5.0    |        \n",
            "  \u001b[1mindex\u001b[0;0m  |  gp.multifidelity.ExpQuad_1.variance  |  constraints  |  priors\n",
            "  \u001b[1m[0]  \u001b[0;0m  |                           8.02307914  |   0.0,10.0    |        \n",
            "  \u001b[1mindex\u001b[0;0m  |  gp.multifidelity.ExpQuad.lengthscale  |  constraints  |  priors\n",
            "  \u001b[1m[0]  \u001b[0;0m  |                           18.81933671  |  0.0,1000.0   |        \n",
            "  \u001b[1m[1]  \u001b[0;0m  |                          999.99997837  |  0.0,1000.0   |        \n",
            "  \u001b[1mindex\u001b[0;0m  |  gp.multifidelity.ExpQuad_1.lengthscale  |  constraints  |  priors\n",
            "  \u001b[1m[0]  \u001b[0;0m  |                              0.00000178  |  0.0,1000.0   |        \n",
            "  \u001b[1m[1]  \u001b[0;0m  |                            230.37273292  |  0.0,1000.0   |        \n"
          ]
        }
      ],
      "source": [
        "  print(gpy_lin_mf_model.multifidelity.ExpQuad.variance)\n",
        "  print(gpy_lin_mf_model.multifidelity.ExpQuad_1.variance)\n",
        "  print(gpy_lin_mf_model.multifidelity.ExpQuad.lengthscale)\n",
        "  print(gpy_lin_mf_model.multifidelity.ExpQuad_1.lengthscale)"
      ]
    },
    {
      "cell_type": "code",
      "execution_count": null,
      "metadata": {
        "id": "PgkblPSFxB5b",
        "colab": {
          "base_uri": "https://localhost:8080/"
        },
        "outputId": "6c4cbd46-5dce-4335-9ef5-1349874011e1"
      },
      "outputs": [
        {
          "output_type": "stream",
          "name": "stdout",
          "text": [
            "Gradients of Optimization:\n",
            "Parameter: ExpQuad.variance - Gradient: 87.7743510304802\n",
            "Parameter: ExpQuad.lengthscale - Gradient: -0.42041177368315363\n",
            "Parameter: ExpQuad_1.variance - Gradient: 0.0044016215413452565\n",
            "Parameter: ExpQuad_1.lengthscale - Gradient: -3.948053863949161\n",
            "Parameter: scale - Gradient: -0.0\n"
          ]
        }
      ],
      "source": [
        "# Get the gradients of optimization\n",
        "gradients_mf = gpy_lin_mf_model.multifidelity.gradient\n",
        "\n",
        "# Get the names of the model's parameters\n",
        "parameter_mf = gpy_lin_mf_model.multifidelity.parameter_names()\n",
        "\n",
        "# Print the gradients along with the parameter names\n",
        "print(\"Gradients of Optimization:\")\n",
        "for i in range(len(parameter_mf)):\n",
        "    print(f\"Parameter: {parameter_mf[i]} - Gradient: {gradients_mf[i]}\")"
      ]
    },
    {
      "cell_type": "code",
      "execution_count": null,
      "metadata": {
        "id": "KicGZ-2sqcAJ"
      },
      "outputs": [],
      "source": [
        "\n",
        "#x_plot=np.reshape(x,[10000,2])\n",
        "x_plot=np.array([[70,50],[60,30],[60,0],[50,80],[40,30]])\n",
        "X_plot_l=np.c_[ x_plot, np.zeros(len(x_plot)) ]\n",
        "X_plot_h=np.c_[ x_plot, np.ones(len(x_plot)) ]"
      ]
    },
    {
      "cell_type": "code",
      "execution_count": null,
      "metadata": {
        "id": "bMLsVgQ7qduc",
        "colab": {
          "base_uri": "https://localhost:8080/"
        },
        "outputId": "3d1afef7-b4c2-4d65-a2ad-b68e629967df"
      },
      "outputs": [
        {
          "output_type": "stream",
          "name": "stderr",
          "text": [
            " <ipython-input-165-e5cecfbcc466>:3: RuntimeWarning:invalid value encountered in sqrt\n"
          ]
        }
      ],
      "source": [
        "hf_mean_lin_mf_model, hf_var_lin_mf_model = lin_mf_model.predict(X_plot_h)\n",
        "\n",
        "hf_std_lin_mf_model = np.sqrt(hf_var_lin_mf_model)\n",
        "hf_mean_high_gp_model, hf_var_high_gp_model  = high_gp_model.predict(X_plot_h)\n",
        "lf_mean_low_gp_model, lf_var_low_gp_model  = low_gp_model.predict(X_plot_h)"
      ]
    },
    {
      "cell_type": "markdown",
      "metadata": {
        "id": "OvSIrOpqu-UY"
      },
      "source": []
    },
    {
      "cell_type": "code",
      "execution_count": null,
      "metadata": {
        "id": "n9JAj_hKrUye",
        "colab": {
          "base_uri": "https://localhost:8080/"
        },
        "outputId": "b885af18-344b-43c2-892a-e8a92aa2ec1f"
      },
      "outputs": [
        {
          "output_type": "stream",
          "name": "stdout",
          "text": [
            "[[0.92581976]\n",
            " [0.93438112]\n",
            " [1.02127957]\n",
            " [0.89596271]\n",
            " [       nan]]\n",
            "[[5.06645623]\n",
            " [5.02377175]\n",
            " [5.03254866]\n",
            " [5.0223975 ]\n",
            " [5.06761055]]\n",
            "[[6.67029656]\n",
            " [6.54582864]\n",
            " [6.55267246]\n",
            " [6.52566365]\n",
            " [6.65541432]]\n"
          ]
        },
        {
          "output_type": "stream",
          "name": "stderr",
          "text": [
            " <ipython-input-166-fdaab20bcb5f>:2: RuntimeWarning:invalid value encountered in sqrt\n"
          ]
        }
      ],
      "source": [
        "# print(np.amax(hf_mean_lin_mf_model))\n",
        "print(np.sqrt(hf_var_lin_mf_model)*1.96)\n",
        "print(np.sqrt(hf_var_high_gp_model)*1.96)\n",
        "print(np.sqrt(lf_var_low_gp_model)*1.96)\n",
        "# c=(hf_mean_lin_mf_model.shape)\n",
        "# print(c)\n",
        "\n"
      ]
    },
    {
      "cell_type": "code",
      "execution_count": null,
      "metadata": {
        "id": "MJw-V-_UerG0",
        "colab": {
          "base_uri": "https://localhost:8080/"
        },
        "outputId": "61187c3c-8358-4fb5-e77f-b8f8cecd298e"
      },
      "outputs": [
        {
          "output_type": "stream",
          "name": "stdout",
          "text": [
            "[[ 1.38197865e-01 -1.06858952e+00  1.30114308e+00  6.77826990e-01\n",
            "  -2.00028650e+00 -1.94157195e+00 -2.90830365e+00 -4.30033638e+00\n",
            "  -5.97187445e+00 -7.65932165e+00 -1.02873195e+01 -1.31139509e+01\n",
            "  -1.63237897e+01 -1.98401524e+01 -2.36969269e+01 -2.76887501e+01\n",
            "  -3.17135946e+01 -3.55524566e+01 -3.88625517e+01 -4.13543652e+01\n",
            "  -4.29541363e+01 -4.33202345e+01 -4.19113623e+01 -3.85020899e+01\n",
            "  -3.33587392e+01 -2.69632328e+01 -1.94225425e+01 -1.17798037e+01\n",
            "  -4.71163537e+00  9.16082235e-01  4.08065072e+00  4.59025721e+00\n",
            "   3.47753761e+00  1.52633577e+00 -5.73000455e-01 -1.85979820e+00\n",
            "  -2.36859206e+00 -2.42063191e+00 -2.26868796e+00 -1.99339349e+00\n",
            "  -1.71719965e+00 -1.45599729e+00 -1.21977527e+00 -1.03612961e+00\n",
            "  -8.73145483e-01 -7.32314347e-01 -6.13828769e-01 -5.33140926e-01\n",
            "  -4.02093435e-01 -3.72745981e-01]\n",
            " [ 5.80382418e-02 -6.79647797e-01  6.11878935e-01  1.88151249e-01\n",
            "  -1.41659548e+00 -1.47000646e+00 -2.12176317e+00 -3.02719110e+00\n",
            "  -4.09774002e+00 -5.19921185e+00 -6.86932507e+00 -8.66810854e+00\n",
            "  -1.06655678e+01 -1.28230830e+01 -1.51697535e+01 -1.75159221e+01\n",
            "  -1.97906230e+01 -2.18583298e+01 -2.35252553e+01 -2.46291800e+01\n",
            "  -2.51246973e+01 -2.48975830e+01 -2.36945966e+01 -2.14569496e+01\n",
            "  -1.83908814e+01 -1.47995002e+01 -1.06863786e+01 -6.51881377e+00\n",
            "  -2.65982413e+00  5.91693003e-01  2.80675219e+00  3.80718033e+00\n",
            "   3.88719156e+00  3.41554516e+00  2.41997048e+00  1.37932639e+00\n",
            "   5.74653842e-01  1.34769826e-02 -3.97370378e-01 -6.15574600e-01\n",
            "  -7.16965934e-01 -7.48778525e-01 -7.03006208e-01 -6.23951542e-01\n",
            "  -5.40331798e-01 -4.62558951e-01 -3.91612775e-01 -3.37356586e-01\n",
            "  -2.61934468e-01 -2.31687756e-01]\n",
            " [ 5.84565686e-02 -6.74862537e-01  6.05359679e-01  1.82997963e-01\n",
            "  -1.41255879e+00 -1.46955703e+00 -2.12236298e+00 -3.02845454e+00\n",
            "  -4.10033963e+00 -5.20491708e+00 -6.87546020e+00 -8.67466912e+00\n",
            "  -1.06719448e+01 -1.28285465e+01 -1.51719239e+01 -1.75148528e+01\n",
            "  -1.97860520e+01 -2.18500658e+01 -2.35132425e+01 -2.46143906e+01\n",
            "  -2.51091364e+01 -2.48818277e+01 -2.36794337e+01 -2.14433966e+01\n",
            "  -1.83794139e+01 -1.47890585e+01 -1.06778622e+01 -6.51442548e+00\n",
            "  -2.65897359e+00  5.86356215e-01  2.78901032e+00  3.77302475e+00\n",
            "   3.83924054e+00  3.35585224e+00  2.35558932e+00  1.31826663e+00\n",
            "   5.20451968e-01 -3.27161973e-02 -4.35623026e-01 -6.49529691e-01\n",
            "  -7.47610451e-01 -7.76862474e-01 -7.28925351e-01 -6.47892658e-01\n",
            "  -5.62229985e-01 -4.82392485e-01 -4.09346471e-01 -3.53184053e-01\n",
            "  -2.75855244e-01 -2.44002691e-01]\n",
            " [-1.00428162e-03 -3.80190724e-01  8.87810237e-02 -1.89331854e-01\n",
            "  -1.00704400e+00 -1.19832303e+00 -1.69458903e+00 -2.33296737e+00\n",
            "  -3.08007170e+00 -3.88205563e+00 -4.95821966e+00 -6.10071805e+00\n",
            "  -7.32414819e+00 -8.60425946e+00 -9.91907253e+00 -1.11844433e+01\n",
            "  -1.23485700e+01 -1.33286326e+01 -1.40184362e+01 -1.43598294e+01\n",
            "  -1.43628390e+01 -1.39640040e+01 -1.30562733e+01 -1.16480910e+01\n",
            "  -9.86310323e+00 -7.84945644e+00 -5.63157797e+00 -3.43307153e+00\n",
            "  -1.40190325e+00  3.18396051e-01  1.53339951e+00  2.16269875e+00\n",
            "   2.31916585e+00  2.15501402e+00  1.66332033e+00  1.03978726e+00\n",
            "   4.69552910e-01  2.96642702e-02 -2.96229237e-01 -4.56259438e-01\n",
            "  -5.45130190e-01 -5.79808596e-01 -5.66478486e-01 -5.17232355e-01\n",
            "  -4.53991642e-01 -3.88507478e-01 -3.23467967e-01 -2.65055077e-01\n",
            "  -1.99822343e-01 -1.59402032e-01]\n",
            " [-1.04042762e-02 -2.32134154e-01 -6.72449319e-02 -2.55019547e-01\n",
            "  -7.05905863e-01 -8.76465950e-01 -1.20269746e+00 -1.60236138e+00\n",
            "  -2.05999419e+00 -2.54998203e+00 -3.16757072e+00 -3.80975009e+00\n",
            "  -4.47795147e+00 -5.15796521e+00 -5.82534806e+00 -6.44509635e+00\n",
            "  -6.98537038e+00 -7.40404517e+00 -7.65036602e+00 -7.70791219e+00\n",
            "  -7.59366144e+00 -7.27867044e+00 -6.72357747e+00 -5.94389086e+00\n",
            "  -5.00341121e+00 -3.97017054e+00 -2.85682996e+00 -1.75565826e+00\n",
            "  -7.27715554e-01  1.70340165e-01  8.63745335e-01  1.31976163e+00\n",
            "   1.56519476e+00  1.65266838e+00  1.56830393e+00  1.35535873e+00\n",
            "   1.08542471e+00  8.13502123e-01  5.60338414e-01  3.57588793e-01\n",
            "   1.97742649e-01  7.51403226e-02 -1.09293754e-02 -6.61243457e-02\n",
            "  -1.01327198e-01 -1.23792331e-01 -1.38462825e-01 -1.42117737e-01\n",
            "  -1.34929275e-01 -1.29580646e-01]]\n",
            "[[ 1.29551397e-01 -9.42900576e-01  1.22055393e+00  6.95644270e-01\n",
            "  -1.64168464e+00 -1.47107945e+00 -2.16003478e+00 -3.18541011e+00\n",
            "  -4.40187343e+00 -5.57437395e+00 -7.55459115e+00 -9.69518801e+00\n",
            "  -1.21558471e+01 -1.48798301e+01 -1.79503463e+01 -2.11246907e+01\n",
            "  -2.43300364e+01 -2.73949475e+01 -3.00564054e+01 -3.20598620e+01\n",
            "  -3.33041535e+01 -3.35859273e+01 -3.24931458e+01 -2.98462313e+01\n",
            "  -2.58714293e+01 -2.09873393e+01 -1.52043885e+01 -9.26768849e+00\n",
            "  -3.75938743e+00  7.76981656e-01  3.63157139e+00  4.57232785e+00\n",
            "   4.20516154e+00  3.13445201e+00  1.63293629e+00  4.35669183e-01\n",
            "  -3.15491332e-01 -7.53834047e-01 -1.03325216e+00 -1.05149640e+00\n",
            "  -9.95641882e-01 -8.94339110e-01 -7.65695566e-01 -6.52447833e-01\n",
            "  -5.53073486e-01 -4.69021571e-01 -4.00793488e-01 -3.60524214e-01\n",
            "  -2.85204812e-01 -2.80641814e-01]\n",
            " [ 8.24376673e-02 -7.51806761e-01  8.02563960e-01  3.54724147e-01\n",
            "  -1.45797022e+00 -1.43208048e+00 -2.07464211e+00 -2.98877151e+00\n",
            "  -4.06887368e+00 -5.14605898e+00 -6.84819660e+00 -8.67991345e+00\n",
            "  -1.07452691e+01 -1.29990581e+01 -1.54853624e+01 -1.80124081e+01\n",
            "  -2.05121906e+01 -2.28423657e+01 -2.47934534e+01 -2.61804378e+01\n",
            "  -2.69431306e+01 -2.69320414e+01 -2.58463902e+01 -2.35803024e+01\n",
            "  -2.03311754e+01 -1.64263759e+01 -1.18785996e+01 -7.24229247e+00\n",
            "  -2.94555261e+00  6.21714815e-01  2.94353780e+00  3.83766278e+00\n",
            "   3.71321875e+00  3.01087160e+00  1.88142782e+00  8.65517456e-01\n",
            "   1.46093996e-01 -3.25620821e-01 -6.53975264e-01 -7.61269450e-01\n",
            "  -7.85214958e-01 -7.55461631e-01 -6.81337476e-01 -5.98271205e-01\n",
            "  -5.16999865e-01 -4.43683721e-01 -3.79735432e-01 -3.34788572e-01\n",
            "  -2.63940752e-01 -2.46200991e-01]\n",
            " [ 8.21982343e-02 -7.50291763e-01  8.00128912e-01  3.52950771e-01\n",
            "  -1.45618908e+00 -1.43136911e+00 -2.07392224e+00 -2.98776539e+00\n",
            "  -4.06765040e+00 -5.14507457e+00 -6.84630151e+00 -8.67696183e+00\n",
            "  -1.07408868e+01 -1.29928761e+01 -1.54765084e+01 -1.80008202e+01\n",
            "  -2.04977946e+01 -2.28252041e+01 -2.47737225e+01 -2.61587499e+01\n",
            "  -2.69204932e+01 -2.69091376e+01 -2.58241586e+01 -2.35598485e+01\n",
            "  -2.03133063e+01 -1.64112741e+01 -1.18670135e+01 -7.23491595e+00\n",
            "  -2.94221746e+00  6.20606919e-01  2.93747102e+00  3.82688571e+00\n",
            "   3.69896053e+00  2.99395095e+00  1.86435509e+00  8.50407278e-01\n",
            "   1.33796429e-01 -3.34965115e-01 -6.60425285e-01 -7.66073750e-01\n",
            "  -7.88907933e-01 -7.58438654e-01 -6.83914469e-01 -6.00592508e-01\n",
            "  -5.19058914e-01 -4.45480724e-01 -3.81266772e-01 -3.36062959e-01\n",
            "  -2.64960368e-01 -2.46992213e-01]\n",
            " [ 2.12303295e-02 -4.35705434e-01  2.51328035e-01 -4.25454357e-02\n",
            "  -1.02294431e+00 -1.13750483e+00 -1.61171497e+00 -2.24210999e+00\n",
            "  -2.97985041e+00 -3.74793849e+00 -4.84467286e+00 -6.01302566e+00\n",
            "  -7.28806895e+00 -8.64362079e+00 -1.00785365e+01 -1.14901739e+01\n",
            "  -1.28291450e+01 -1.40096901e+01 -1.49147832e+01 -1.54619844e+01\n",
            "  -1.56412597e+01 -1.53798757e+01 -1.45386887e+01 -1.30967011e+01\n",
            "  -1.11805931e+01 -8.96524152e+00 -6.46386293e+00 -3.94656862e+00\n",
            "  -1.61481074e+00  3.54589561e-01  1.72235758e+00  2.39158140e+00\n",
            "   2.51879207e+00  2.30533030e+00  1.77421648e+00  1.16999947e+00\n",
            "   6.51770923e-01  2.53667740e-01 -5.55747929e-02 -2.28338416e-01\n",
            "  -3.31381645e-01 -3.84934552e-01 -3.91243165e-01 -3.69569524e-01\n",
            "  -3.36627532e-01 -3.01061219e-01 -2.65704638e-01 -2.34425698e-01\n",
            "  -1.89188155e-01 -1.68408736e-01]\n",
            " [-1.38696706e-02 -2.02470115e-01 -7.17778716e-02 -2.36504561e-01\n",
            "  -6.24855987e-01 -7.85232791e-01 -1.08278798e+00 -1.44737868e+00\n",
            "  -1.86688176e+00 -2.32180697e+00 -2.89147664e+00 -3.48644231e+00\n",
            "  -4.10442247e+00 -4.73312885e+00 -5.34908951e+00 -5.91867141e+00\n",
            "  -6.41218029e+00 -6.79027624e+00 -7.00569766e+00 -7.04389932e+00\n",
            "  -6.92151556e+00 -6.61411788e+00 -6.08754721e+00 -5.36134221e+00\n",
            "  -4.49704351e+00 -3.55673369e+00 -2.55289657e+00 -1.56659830e+00\n",
            "  -6.49391522e-01  1.52460785e-01  7.75478246e-01  1.18784540e+00\n",
            "   1.40598043e+00  1.47482122e+00  1.36991776e+00  1.13512196e+00\n",
            "   8.57275964e-01  5.95053863e-01  3.64061164e-01  1.91326100e-01\n",
            "   6.12101492e-02 -3.36483865e-02 -9.36016687e-02 -1.24061725e-01\n",
            "  -1.37675304e-01 -1.41811863e-01 -1.40266710e-01 -1.31715505e-01\n",
            "  -1.15776295e-01 -1.03596453e-01]]\n",
            "[[-4.84831061e-01 -4.95475348e-01 -5.42548611e-01 -6.71444654e-01\n",
            "  -9.02503947e-01 -1.24878129e+00 -1.72551614e+00 -2.33394253e+00\n",
            "  -3.09737955e+00 -4.06938595e+00 -5.34184162e+00 -6.86334953e+00\n",
            "  -8.65200233e+00 -1.07227004e+01 -1.31411495e+01 -1.57417260e+01\n",
            "  -1.84720065e+01 -2.12581702e+01 -2.38662961e+01 -2.60568865e+01\n",
            "  -2.77064624e+01 -2.86255620e+01 -2.82117000e+01 -2.64196196e+01\n",
            "  -2.33814162e+01 -1.91827809e+01 -1.38268611e+01 -8.17387754e+00\n",
            "  -2.60607897e+00  2.25742975e+00  5.03371752e+00  5.24906887e+00\n",
            "   4.45560881e+00  3.00959390e+00  1.10681151e+00 -2.18431776e-01\n",
            "  -1.01628572e+00 -1.38817279e+00 -1.42639422e+00 -1.33656281e+00\n",
            "  -1.27911802e+00 -1.20093139e+00 -1.10978578e+00 -9.20233577e-01\n",
            "  -6.61097636e-01 -3.44421558e-01 -1.82094009e-02  2.77439251e-01\n",
            "   5.00710003e-01  6.66839884e-01]\n",
            " [-5.52075218e-01 -5.62079457e-01 -6.08517297e-01 -7.45314961e-01\n",
            "  -9.95151318e-01 -1.35666881e+00 -1.83536481e+00 -2.42747013e+00\n",
            "  -3.15171143e+00 -4.04849413e+00 -5.18282691e+00 -6.51219340e+00\n",
            "  -8.03752834e+00 -9.77276745e+00 -1.17492762e+01 -1.38396874e+01\n",
            "  -1.59947631e+01 -1.81559707e+01 -2.01134514e+01 -2.17075527e+01\n",
            "  -2.28360972e+01 -2.33638947e+01 -2.28355995e+01 -2.12465896e+01\n",
            "  -1.87219361e+01 -1.53236520e+01 -1.10722055e+01 -6.63942597e+00\n",
            "  -2.07530878e+00  2.07025236e+00  4.34169183e+00  4.43189892e+00\n",
            "   3.92454492e+00  2.99530799e+00  1.54358100e+00  4.57840666e-01\n",
            "  -2.58420290e-01 -6.56548531e-01 -7.97421573e-01 -8.71961185e-01\n",
            "  -1.00533074e+00 -1.12083868e+00 -1.20207263e+00 -1.10595560e+00\n",
            "  -8.94952738e-01 -5.80893145e-01 -2.31019682e-01  1.13704847e-01\n",
            "   3.89417722e-01  6.07290047e-01]\n",
            " [-5.50258589e-01 -5.60693989e-01 -6.07531768e-01 -7.44206869e-01\n",
            "  -9.93234430e-01 -1.35349583e+00 -1.83065608e+00 -2.42104276e+00\n",
            "  -3.14336075e+00 -4.03803842e+00 -5.17013002e+00 -6.49720776e+00\n",
            "  -8.02028983e+00 -9.75333148e+00 -1.17280241e+01 -1.38170870e+01\n",
            "  -1.59712675e+01 -1.81323167e+01 -2.00908375e+01 -2.16870735e+01\n",
            "  -2.28184976e+01 -2.33499956e+01 -2.28261294e+01 -2.12414959e+01\n",
            "  -1.87208754e+01 -1.53261166e+01 -1.10771542e+01 -6.64622988e+00\n",
            "  -2.08364255e+00  2.06015842e+00  4.32823779e+00  4.41373890e+00\n",
            "   3.90290177e+00  2.97203991e+00  1.52116296e+00  4.39326166e-01\n",
            "  -2.72930687e-01 -6.67577176e-01 -8.06312037e-01 -8.80906842e-01\n",
            "  -1.01515210e+00 -1.13202621e+00 -1.21468462e+00 -1.11922812e+00\n",
            "  -9.08087539e-01 -5.93074581e-01 -2.41748331e-01  1.04759642e-01\n",
            "   3.82265792e-01  6.01695309e-01]\n",
            " [-4.15555775e-01 -4.29087716e-01 -4.70944097e-01 -5.79050671e-01\n",
            "  -7.69125145e-01 -1.03734738e+00 -1.38219304e+00 -1.79934635e+00\n",
            "  -2.29954439e+00 -2.90632784e+00 -3.65342276e+00 -4.51439551e+00\n",
            "  -5.48089767e+00 -6.56194525e+00 -7.76085497e+00 -9.00565415e+00\n",
            "  -1.02568231e+01 -1.14832907e+01 -1.25401180e+01 -1.33560681e+01\n",
            "  -1.38727857e+01 -1.40210209e+01 -1.35585127e+01 -1.25113452e+01\n",
            "  -1.09710836e+01 -8.96846735e+00 -6.53617122e+00 -4.02852995e+00\n",
            "  -1.39710550e+00  1.05844244e+00  2.47816203e+00  2.70488135e+00\n",
            "   2.64159460e+00  2.32754684e+00  1.60649532e+00  9.42629020e-01\n",
            "   4.19678114e-01  4.62092724e-02 -1.86827226e-01 -3.57050376e-01\n",
            "  -5.40952451e-01 -6.93707399e-01 -8.01636363e-01 -7.67886217e-01\n",
            "  -6.49864495e-01 -4.57750217e-01 -2.36546478e-01 -9.67712860e-03\n",
            "   1.78790951e-01  3.33679151e-01]\n",
            " [-1.83062125e-01 -2.01131938e-01 -2.36839443e-01 -3.00749003e-01\n",
            "  -3.97755446e-01 -5.31726928e-01 -7.00243286e-01 -9.02381486e-01\n",
            "  -1.14241908e+00 -1.43263087e+00 -1.78882331e+00 -2.19813021e+00\n",
            "  -2.65549895e+00 -3.16459128e+00 -3.72389525e+00 -4.29998497e+00\n",
            "  -4.86735524e+00 -5.41628492e+00 -5.87048402e+00 -6.20233703e+00\n",
            "  -6.39181282e+00 -6.40727832e+00 -6.15438025e+00 -5.65791710e+00\n",
            "  -4.96923719e+00 -4.09841311e+00 -3.07272864e+00 -2.00532731e+00\n",
            "  -9.73141815e-01 -3.37667432e-02  7.05003434e-01  1.14485950e+00\n",
            "   1.37428822e+00  1.40495041e+00  1.23407967e+00  9.32104592e-01\n",
            "   6.15927283e-01  3.23324929e-01  7.79379539e-02 -8.07533618e-02\n",
            "  -1.88305668e-01 -2.51128296e-01 -2.75772318e-01 -2.58770289e-01\n",
            "  -2.23587704e-01 -1.77258016e-01 -1.25449783e-01 -7.04657622e-02\n",
            "  -1.79691019e-02  3.12014839e-02]]\n"
          ]
        }
      ],
      "source": [
        "print(hf_mean_lin_mf_model)\n",
        "print(hf_mean_high_gp_model)\n",
        "print(lf_mean_low_gp_model)"
      ]
    },
    {
      "cell_type": "code",
      "source": [
        "print(ytrain.shape)"
      ],
      "metadata": {
        "colab": {
          "base_uri": "https://localhost:8080/",
          "height": 168
        },
        "id": "y8g_inD1X5II",
        "outputId": "3748fa93-e8ce-457c-e534-445a05b97724"
      },
      "execution_count": null,
      "outputs": [
        {
          "output_type": "error",
          "ename": "NameError",
          "evalue": "ignored",
          "traceback": [
            "\u001b[0;31m---------------------------------------------------------------------------\u001b[0m",
            "\u001b[0;31mNameError\u001b[0m                                 Traceback (most recent call last)",
            "\u001b[0;32m<ipython-input-168-0380d03c0b75>\u001b[0m in \u001b[0;36m<cell line: 1>\u001b[0;34m()\u001b[0m\n\u001b[0;32m----> 1\u001b[0;31m \u001b[0mprint\u001b[0m\u001b[0;34m(\u001b[0m\u001b[0mytrain\u001b[0m\u001b[0;34m.\u001b[0m\u001b[0mshape\u001b[0m\u001b[0;34m)\u001b[0m\u001b[0;34m\u001b[0m\u001b[0;34m\u001b[0m\u001b[0m\n\u001b[0m",
            "\u001b[0;31mNameError\u001b[0m: name 'ytrain' is not defined"
          ]
        }
      ]
    },
    {
      "cell_type": "code",
      "execution_count": null,
      "metadata": {
        "id": "12TfZ5N3ZhyK",
        "colab": {
          "base_uri": "https://localhost:8080/",
          "height": 466
        },
        "outputId": "39903bf6-23d8-46d9-c561-ada8812662a0"
      },
      "outputs": [
        {
          "output_type": "execute_result",
          "data": {
            "text/plain": [
              "<matplotlib.legend.Legend at 0x7fb6a50f8f70>"
            ]
          },
          "metadata": {},
          "execution_count": 201
        },
        {
          "output_type": "display_data",
          "data": {
            "text/plain": [
              "<Figure size 640x480 with 1 Axes>"
            ],
            "image/png": "[encoded data removed]"
          },
          "metadata": {}
        }
      ],
      "source": [
        "import matplotlib.pyplot as plt\n",
        "from matplotlib import colors as mcolors\n",
        "colors = dict(mcolors.BASE_COLORS, **mcolors.CSS4_COLORS)\n",
        "fig,ax=plt.subplots()\n",
        "#DNS_test.shape[0]\n",
        "i=0\n",
        "\n",
        "\n",
        "x_pred = np.linspace(0,49,50).reshape(-1, 1)\n",
        "# Calculate upper and lower confidence bounds\n",
        "confidence = 1.96 # 95% confidence interval (approximate)\n",
        "lower_bound = hf_mean_lin_mf_model[i]- confidence * np.sqrt(hf_var_lin_mf_model[i])\n",
        "upper_bound = hf_mean_lin_mf_model[i]+ confidence * np.sqrt(hf_var_lin_mf_model[i])\n",
        "ax.plot(hf_mean_lin_mf_model[i],color='r',label='Prediction')\n",
        "# ax.fill_between(x_pred.flatten(), lower_bound.flatten(), upper_bound.flatten(), color='red', alpha=0.5, label='C.I-MF')\n",
        "\n",
        "\n",
        "\n",
        "#for i in range(1):\n",
        "#ax.fill_between((hf_mean_lin_mf_model[0] - 1.96*hf_std_lin_mf_model[0]).flatten(),\n",
        "#(hf_mean_lin_mf_model[0] + 1.96*hf_std_lin_mf_model[0]).flatten(), color='r', alpha=0.3)\n",
        "# ax.plot(RANS_test[:,i],color='k',linestyle='dotted',label='RANS')\n",
        "ax.plot(hf_mean_high_gp_model[i],color='black',linestyle='--',label='DNS GP')\n",
        "lower_bound_dns = hf_mean_high_gp_model[i]- confidence * np.sqrt(hf_var_high_gp_model[i])\n",
        "upper_bound_dns = hf_mean_high_gp_model[i]+ confidence * np.sqrt(hf_var_high_gp_model[i])\n",
        "# ax.fill_between(x_pred.flatten(), lower_bound_dns.flatten(), upper_bound_dns.flatten(), color='gray', alpha=0.3, label='C.I-DNS')\n",
        "ax.plot(lf_mean_low_gp_model[i],color='green',label='RANS GP')\n",
        "lower_bound_rans = lf_mean_low_gp_model[i]- confidence * np.sqrt(lf_var_low_gp_model[i])\n",
        "upper_bound_rans = lf_mean_low_gp_model[i]+ confidence * np.sqrt(lf_var_low_gp_model[i])\n",
        "# ax.fill_between(x_pred.flatten(), lower_bound_rans.flatten(), upper_bound_rans.flatten(), color='green', alpha=0.3, label='C.I-RANS')\n",
        "ax.plot(DNS_test[:,i],color='b',linestyle='--',label='TRUTH')\n",
        "ax.set_xlabel('X')\n",
        "ax.set_ylabel('Y')\n",
        "ax.legend()\n",
        "\n",
        "\n",
        "# x_data=x_pred\n",
        "# y_truth=DNS_test[:,i].reshape(-1,1)\n",
        "\n",
        "# print(y_truth.shape)\n",
        "# print(x_data.shape)\n",
        "# write_truth = np.stack((x_data,y_truth), axis = 1).reshape(-1,2)\n",
        "\n",
        "\n",
        "# e= \"streamwise WSS\"\n",
        "# hdrtxt='# xpoints','#ypoints'\n",
        "# np.savetxt('/content/drive/MyDrive/ColabNotebooks/Truth_40_e30Mag.dat', write_truth, delimiter='  ', header='Position\\tMean', comments='' )\n",
        "# np.savetxt('MF_70_e50_dns5_rans_8.dat', zip(write_mf), fmt=['%.3f','%.3f'])\n",
        "# np.savetxt('LF_70_e50_dns5_rans_8.dat', zip(x_data,y_lf), fmt=['%.3f','%.3f'])\n",
        "# np.savetxt('HF_70_e50_dns5_rans_8.dat', zip(x_data,y_hf), fmt=['%.3f','%.3f'])"
      ]
    },
    {
      "cell_type": "code",
      "source": [],
      "metadata": {
        "id": "BUOrNcNzGMoV"
      },
      "execution_count": null,
      "outputs": []
    },
    {
      "cell_type": "code",
      "source": [
        "print(np.sqrt(hf_var_high_gp_model[i]))\n",
        "# print(x_pred)\n",
        "print(lf_var_low_gp_model)\n",
        "print(hf_var_high_gp_model)\n",
        "print(hf_var_lin_mf_model)"
      ],
      "metadata": {
        "id": "8ZjWntuusi4A",
        "colab": {
          "base_uri": "https://localhost:8080/"
        },
        "outputId": "d74e74fe-24aa-4512-92dc-7accab9d9af1"
      },
      "execution_count": null,
      "outputs": [
        {
          "output_type": "stream",
          "name": "stdout",
          "text": [
            "[2.58551559]\n",
            "[[11.58185554]\n",
            " [11.15365279]\n",
            " [11.17698781]\n",
            " [11.08503906]\n",
            " [11.53023214]]\n",
            "[[6.68184578]\n",
            " [6.56973204]\n",
            " [6.59270773]\n",
            " [6.56613825]\n",
            " [6.68489084]]\n",
            "[[ 0.22312115]\n",
            " [ 0.22726678]\n",
            " [ 0.27150457]\n",
            " [ 0.2089622 ]\n",
            " [-0.09209009]]\n"
          ]
        }
      ]
    },
    {
      "cell_type": "code",
      "execution_count": null,
      "metadata": {
        "id": "AQqCjHCOY5fB",
        "colab": {
          "base_uri": "https://localhost:8080/"
        },
        "outputId": "a565c54e-0c6b-4da3-e352-ba9f85427f1f"
      },
      "outputs": [
        {
          "output_type": "stream",
          "name": "stdout",
          "text": [
            "(50, 1)\n",
            "(50, 1)\n",
            "(50, 2)\n"
          ]
        }
      ],
      "source": [
        "# CI = np.ones(c[1])*1.96*hf_std_lin_mf_model[i,:].reshape(-1,1)\n",
        "# CI=CI.T\n",
        "# print(CI.shape)\n",
        "i=4\n",
        "x_data=x_pred\n",
        "y_data=hf_mean_lin_mf_model[i].reshape(-1,1)\n",
        "\n",
        "y_hf=hf_mean_high_gp_model[i].reshape(-1,1)\n",
        "\n",
        "y_lf=lf_mean_low_gp_model[i].reshape(-1,1)\n",
        "\n",
        "print(y_data.shape)\n",
        "print(x_data.shape)\n",
        "write_mf = np.stack((x_data,y_data), axis = 1).reshape(-1,2)\n",
        "write_lf = np.stack((x_data,y_lf), axis = 1).reshape(-1,2)\n",
        "write_hf = np.stack((x_data,y_hf), axis = 1).reshape(-1,2)\n",
        "print(write_hf.shape)\n",
        "\n",
        "e= \"streamwise WSS\"\n",
        "hdrtxt='# xpoints','#ypoints'\n",
        "np.savetxt('/content/drive/MyDrive/ColabNotebooks/MF_40_e30ZL.dat', write_mf, delimiter='  ' )\n",
        "np.savetxt('/content/drive/MyDrive/ColabNotebooks/LF_40_e30ZL.dat', write_lf, delimiter='   ' )\n",
        "np.savetxt('/content/drive/MyDrive/ColabNotebooks/HF_40_e30ZL.dat', write_hf, delimiter='   ')"
      ]
    },
    {
      "cell_type": "code",
      "source": [
        "\n"
      ],
      "metadata": {
        "id": "6A0lcaiJS3VH"
      },
      "execution_count": null,
      "outputs": []
    },
    {
      "cell_type": "code",
      "source": [
        "# # Define the range of x values for prediction\n",
        "# x_pred = np.linspace(0,50, 50).reshape(-1, 1)\n",
        "\n",
        "# # Predict mean and variance at the given x values\n",
        "# mean, var = model.predict(x_pred)\n",
        "\n",
        "# # Calculate upper and lower confidence bounds\n",
        "# confidence = 1.96  # 95% confidence interval (approximate)\n",
        "# lower_bound = mean - confidence * np.sqrt(var)\n",
        "# upper_bound = mean + confidence * np.sqrt(var)\n",
        "\n",
        "# # Plot the data points, mean, and confidence interval\n",
        "# plt.scatter(X_train, Y_train, color='red', label='Training data')\n",
        "# plt.plot(x_pred, mean, color='blue', label='Mean')\n",
        "# plt.fill_between(x_pred.flatten(), lower_bound.flatten(), upper_bound.flatten(), color='gray', alpha=0.3, label='Confidence interval')\n",
        "# plt.xlabel('X')\n",
        "# plt.ylabel('Y')\n",
        "# plt.title('GPy Model Predictions with Confidence Interval')\n",
        "# plt.legend()\n",
        "# plt.show()"
      ],
      "metadata": {
        "id": "KFtgFv9poPvP"
      },
      "execution_count": null,
      "outputs": []
    },
    {
      "cell_type": "code",
      "execution_count": null,
      "metadata": {
        "id": "6V3W84GqrbOw"
      },
      "outputs": [],
      "source": [
        "fig,ax=plt.subplots()\n",
        "for i in range(hf_mean_lin_mf_model.shape[0]):\n",
        "   ax.plot(hf_mean_lin_mf_model[i])\n",
        "ax.set_xlabel('X')\n",
        "ax.set_ylabel('Y')\n"
      ]
    },
    {
      "cell_type": "code",
      "execution_count": null,
      "metadata": {
        "id": "ppTC7kKaSl_L"
      },
      "outputs": [],
      "source": [
        "i=0\n",
        "y_true=DNS_test[:,i].reshape(-1,1)\n",
        "# y_rans=RANS_test[:,i].reshape(-1,1)\n",
        "\n",
        "\n",
        "write_truth = np.stack((x_data,y_true), axis = 1).reshape(-1,2)\n",
        "# write_rans = np.stack((x_data,y_rans), axis = 1).reshape(-1,2)\n",
        "\n",
        "\n",
        "np.savetxt('/content/drive/MyDrive/ColabNotebooks/Truth_70_e50ZL.dat', write_truth, delimiter='  ' )\n",
        "# np.savetxt('/content/drive/MyDrive/ColabNotebooks/RANS_70_e50.dat', write_rans, delimiter='   ' )\n"
      ]
    },
    {
      "cell_type": "code",
      "execution_count": null,
      "metadata": {
        "id": "ceCQ2pjuSmH6"
      },
      "outputs": [],
      "source": [
        "print(lf_var_low_gp_model)\n",
        "print(hf_var_high_gp_model)\n",
        "print(hf_var_lin_mf_model)"
      ]
    },
    {
      "cell_type": "code",
      "execution_count": null,
      "metadata": {
        "id": "lIVZibQJsM1z"
      },
      "outputs": [],
      "source": []
    },
    {
      "cell_type": "code",
      "execution_count": null,
      "metadata": {
        "id": "LD4VvLdztM9h"
      },
      "outputs": [],
      "source": [
        "\n"
      ]
    },
    {
      "cell_type": "code",
      "execution_count": null,
      "metadata": {
        "id": "P3m-eQSDtYWO"
      },
      "outputs": [],
      "source": []
    },
    {
      "cell_type": "code",
      "execution_count": null,
      "metadata": {
        "id": "DNUwug11umCQ"
      },
      "outputs": [],
      "source": [
        "\n"
      ]
    },
    {
      "cell_type": "code",
      "execution_count": null,
      "metadata": {
        "id": "ZM89dI9zdFlu"
      },
      "outputs": [],
      "source": []
    },
    {
      "cell_type": "code",
      "execution_count": null,
      "metadata": {
        "id": "mtIksI4cV5Y2"
      },
      "outputs": [],
      "source": []
    },
    {
      "cell_type": "code",
      "execution_count": null,
      "metadata": {
        "id": "T0XTMYf96PcF"
      },
      "outputs": [],
      "source": [
        "\n",
        "\n",
        "\n"
      ]
    },
    {
      "cell_type": "code",
      "execution_count": null,
      "metadata": {
        "id": "WGel-Hhc7z16"
      },
      "outputs": [],
      "source": [
        "\n"
      ]
    },
    {
      "cell_type": "code",
      "execution_count": null,
      "metadata": {
        "id": "R3i7xgF17tZz"
      },
      "outputs": [],
      "source": []
    },
    {
      "cell_type": "code",
      "execution_count": null,
      "metadata": {
        "id": "IMwvLYWpycQp"
      },
      "outputs": [],
      "source": []
    },
    {
      "cell_type": "code",
      "execution_count": null,
      "metadata": {
        "id": "gqi7yo33zTiI"
      },
      "outputs": [],
      "source": []
    }
  ],
  "metadata": {
    "accelerator": "GPU",
    "colab": {
      "provenance": []
    },
    "gpuClass": "standard",
    "kernelspec": {
      "display_name": "Python 3",
      "name": "python3"
    },
    "language_info": {
      "name": "python"
    }
  },
  "nbformat": 4,
  "nbformat_minor": 0
}