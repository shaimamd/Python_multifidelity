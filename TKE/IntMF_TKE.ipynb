{
  "cells": [
    {
      "cell_type": "code",
      "execution_count": null,
      "id": "f100648f",
      "metadata": {
        "id": "f100648f"
      },
      "outputs": [],
      "source": []
    },
    {
      "cell_type": "code",
      "source": [
        "pip install GPy"
      ],
      "metadata": {
        "colab": {
          "base_uri": "https://localhost:8080/"
        },
        "id": "bgob3LqTl3Qg",
        "outputId": "95446aea-92f0-4a8e-d136-23013590ac1a"
      },
      "id": "bgob3LqTl3Qg",
      "execution_count": null,
      "outputs": [
        {
          "output_type": "stream",
          "name": "stdout",
          "text": [
            "Collecting GPy\n",
            "  Downloading GPy-1.10.0.tar.gz (959 kB)\n",
            "\u001b[2K     \u001b[90m━━━━━━━━━━━━━━━━━━━━━━━━━━━━━━━━━━━━━━\u001b[0m \u001b[32m959.4/959.4 kB\u001b[0m \u001b[31m11.4 MB/s\u001b[0m eta \u001b[36m0:00:00\u001b[0m\n",
            "\u001b[?25h  Preparing metadata (setup.py) ... \u001b[?25l\u001b[?25hdone\n",
            "Requirement already satisfied: numpy>=1.7 in /usr/local/lib/python3.10/dist-packages (from GPy) (1.22.4)\n",
            "Requirement already satisfied: six in /usr/local/lib/python3.10/dist-packages (from GPy) (1.16.0)\n",
            "Collecting paramz>=0.9.0 (from GPy)\n",
            "  Downloading paramz-0.9.5.tar.gz (71 kB)\n",
            "\u001b[2K     \u001b[90m━━━━━━━━━━━━━━━━━━━━━━━━━━━━━━━━━━━━━━━━\u001b[0m \u001b[32m71.3/71.3 kB\u001b[0m \u001b[31m8.6 MB/s\u001b[0m eta \u001b[36m0:00:00\u001b[0m\n",
            "\u001b[?25h  Preparing metadata (setup.py) ... \u001b[?25l\u001b[?25hdone\n",
            "Requirement already satisfied: cython>=0.29 in /usr/local/lib/python3.10/dist-packages (from GPy) (0.29.36)\n",
            "Requirement already satisfied: scipy>=1.3.0 in /usr/local/lib/python3.10/dist-packages (from GPy) (1.10.1)\n",
            "Requirement already satisfied: decorator>=4.0.10 in /usr/local/lib/python3.10/dist-packages (from paramz>=0.9.0->GPy) (4.4.2)\n",
            "Building wheels for collected packages: GPy, paramz\n",
            "  Building wheel for GPy (setup.py) ... \u001b[?25l\u001b[?25hdone\n",
            "  Created wheel for GPy: filename=GPy-1.10.0-cp310-cp310-linux_x86_64.whl size=3211222 sha256=396df0fc50eaaea3f0da4572d9bf07fd842b5082f812f84889a3aad3121ae8ed\n",
            "  Stored in directory: /root/.cache/pip/wheels/27/bd/9f/82ab4216eae088cba864ca0dc1d75699bd4bf6823790fb2f77\n",
            "  Building wheel for paramz (setup.py) ... \u001b[?25l\u001b[?25hdone\n",
            "  Created wheel for paramz: filename=paramz-0.9.5-py3-none-any.whl size=102546 sha256=52ec6438a3f6329bdcd891e92ee6cfc406ce09b320d60ce9431cb5a512b43289\n",
            "  Stored in directory: /root/.cache/pip/wheels/d2/ef/9c/da9ceef7d0ff5287c24365844fc394852c2b79ac3fcf33bf8b\n",
            "Successfully built GPy paramz\n",
            "Installing collected packages: paramz, GPy\n",
            "Successfully installed GPy-1.10.0 paramz-0.9.5\n"
          ]
        }
      ]
    },
    {
      "cell_type": "code",
      "execution_count": null,
      "id": "dab3bb7d",
      "metadata": {
        "colab": {
          "base_uri": "https://localhost:8080/"
        },
        "id": "dab3bb7d",
        "outputId": "f4df769d-f09d-4a20-8fc0-fe4d84a022e3"
      },
      "outputs": [
        {
          "output_type": "stream",
          "name": "stdout",
          "text": [
            "Collecting emukit\n",
            "  Downloading emukit-0.4.10.tar.gz (170 kB)\n",
            "\u001b[2K     \u001b[90m━━━━━━━━━━━━━━━━━━━━━━━━━━━━━━━━━━━━━━━\u001b[0m \u001b[32m170.5/170.5 kB\u001b[0m \u001b[31m3.0 MB/s\u001b[0m eta \u001b[36m0:00:00\u001b[0m\n",
            "\u001b[?25h  Installing build dependencies ... \u001b[?25l\u001b[?25hdone\n",
            "  Getting requirements to build wheel ... \u001b[?25l\u001b[?25hdone\n",
            "  Preparing metadata (pyproject.toml) ... \u001b[?25l\u001b[?25hdone\n",
            "Requirement already satisfied: setuptools>=40.8.0 in /usr/local/lib/python3.10/dist-packages (from emukit) (67.7.2)\n",
            "Requirement already satisfied: numpy>=1.14.5 in /usr/local/lib/python3.10/dist-packages (from emukit) (1.22.4)\n",
            "Requirement already satisfied: GPy[plotting]>=1.10.0 in /usr/local/lib/python3.10/dist-packages (from emukit) (1.10.0)\n",
            "Collecting emcee>=2.2.1 (from emukit)\n",
            "  Downloading emcee-3.1.4-py2.py3-none-any.whl (46 kB)\n",
            "\u001b[2K     \u001b[90m━━━━━━━━━━━━━━━━━━━━━━━━━━━━━━━━━━━━━━━━\u001b[0m \u001b[32m46.2/46.2 kB\u001b[0m \u001b[31m5.0 MB/s\u001b[0m eta \u001b[36m0:00:00\u001b[0m\n",
            "\u001b[?25hRequirement already satisfied: scipy>=1.1.0 in /usr/local/lib/python3.10/dist-packages (from emukit) (1.10.1)\n",
            "Requirement already satisfied: six in /usr/local/lib/python3.10/dist-packages (from GPy[plotting]>=1.10.0->emukit) (1.16.0)\n",
            "Requirement already satisfied: paramz>=0.9.0 in /usr/local/lib/python3.10/dist-packages (from GPy[plotting]>=1.10.0->emukit) (0.9.5)\n",
            "Requirement already satisfied: cython>=0.29 in /usr/local/lib/python3.10/dist-packages (from GPy[plotting]>=1.10.0->emukit) (0.29.36)\n",
            "Requirement already satisfied: matplotlib>=3.0 in /usr/local/lib/python3.10/dist-packages (from GPy[plotting]>=1.10.0->emukit) (3.7.1)\n",
            "Requirement already satisfied: plotly>=1.8.6 in /usr/local/lib/python3.10/dist-packages (from GPy[plotting]>=1.10.0->emukit) (5.13.1)\n",
            "Requirement already satisfied: contourpy>=1.0.1 in /usr/local/lib/python3.10/dist-packages (from matplotlib>=3.0->GPy[plotting]>=1.10.0->emukit) (1.1.0)\n",
            "Requirement already satisfied: cycler>=0.10 in /usr/local/lib/python3.10/dist-packages (from matplotlib>=3.0->GPy[plotting]>=1.10.0->emukit) (0.11.0)\n",
            "Requirement already satisfied: fonttools>=4.22.0 in /usr/local/lib/python3.10/dist-packages (from matplotlib>=3.0->GPy[plotting]>=1.10.0->emukit) (4.41.1)\n",
            "Requirement already satisfied: kiwisolver>=1.0.1 in /usr/local/lib/python3.10/dist-packages (from matplotlib>=3.0->GPy[plotting]>=1.10.0->emukit) (1.4.4)\n",
            "Requirement already satisfied: packaging>=20.0 in /usr/local/lib/python3.10/dist-packages (from matplotlib>=3.0->GPy[plotting]>=1.10.0->emukit) (23.1)\n",
            "Requirement already satisfied: pillow>=6.2.0 in /usr/local/lib/python3.10/dist-packages (from matplotlib>=3.0->GPy[plotting]>=1.10.0->emukit) (9.4.0)\n",
            "Requirement already satisfied: pyparsing>=2.3.1 in /usr/local/lib/python3.10/dist-packages (from matplotlib>=3.0->GPy[plotting]>=1.10.0->emukit) (3.1.0)\n",
            "Requirement already satisfied: python-dateutil>=2.7 in /usr/local/lib/python3.10/dist-packages (from matplotlib>=3.0->GPy[plotting]>=1.10.0->emukit) (2.8.2)\n",
            "Requirement already satisfied: decorator>=4.0.10 in /usr/local/lib/python3.10/dist-packages (from paramz>=0.9.0->GPy[plotting]>=1.10.0->emukit) (4.4.2)\n",
            "Requirement already satisfied: tenacity>=6.2.0 in /usr/local/lib/python3.10/dist-packages (from plotly>=1.8.6->GPy[plotting]>=1.10.0->emukit) (8.2.2)\n",
            "Building wheels for collected packages: emukit\n",
            "  Building wheel for emukit (pyproject.toml) ... \u001b[?25l\u001b[?25hdone\n",
            "  Created wheel for emukit: filename=emukit-0.4.10-py3-none-any.whl size=257055 sha256=3e87bfb25ae4632828ab2cd4a4915c13ff9dbb1570f21b5757a0b74384fcc4ce\n",
            "  Stored in directory: /root/.cache/pip/wheels/30/d1/af/64ddede19b5eb77bd70362edebf9d393bf77dc34d354c11292\n",
            "Successfully built emukit\n",
            "Installing collected packages: emcee, emukit\n",
            "Successfully installed emcee-3.1.4 emukit-0.4.10\n"
          ]
        }
      ],
      "source": [
        "pip install emukit\n"
      ]
    },
    {
      "cell_type": "code",
      "execution_count": null,
      "id": "4a232731",
      "metadata": {
        "id": "4a232731"
      },
      "outputs": [],
      "source": [
        "import GPy\n",
        "import emukit.multi_fidelity\n",
        "import emukit.test_functions\n",
        "from emukit.model_wrappers.gpy_model_wrappers import GPyMultiOutputWrapper\n",
        "from emukit.multi_fidelity.models import GPyLinearMultiFidelityModel\n",
        "import numpy as np\n",
        "import matplotlib.pyplot as plt\n",
        "from matplotlib import colors as mcolors\n",
        "colors = dict(mcolors.BASE_COLORS, **mcolors.CSS4_COLORS)\n",
        "%matplotlib inline\n",
        "\n",
        "## Generate samples from the Forrester function\n",
        "\n",
        "\n",
        "\n",
        "\n",
        "x_train_l =  np.array([[70,100],[70,80],[70,50],[70,30],[70,0],[60,100],[60,80],[60,50],[60,30],[60,0],[50,100],[50,80],[50,50],[50,30],[50,0],[40,100],[40,80],[40,50],[40,30],[40,0]])\n",
        "# x_train_h = np.array([[70,100],[70,0],[40,0],[40,100],[50,50],[60,80]])\n",
        "\n",
        "# y_train_l =  np.array([4.5608,3.9654,3.7805,3.5478,2.5223,2.333,2.1315,1.4417,1.1671,1.0813,0.99393,0.82499,0.75554,0.63434,0.49856])\n",
        "# y_train_h = np.array([ 4.7628,3.5457,0.6215,0.88475,1.2605,2.4286])\n",
        "\n",
        "\n",
        "\n",
        "\n",
        "\n",
        "\n",
        "# x_train_l =  np.array([[70,100],[70,80],[70,30],[70,0],[60,100],[60,80],[60,50],[50,100],[50,50],[50,30],[50,0],[40,100],[40,80],[40,50],[40,0]])\n",
        "x_train_h = np.array([[70,100],[70,0],[60,80],[50,50],[40,100],[40,0],])\n",
        "\n",
        "y_train_l =  np.array([1.1136,\t1.1448,\t1.1498,\t1.1135,\t1.1212,\t0.65429,\t0.66409,\t0.66862\t,0.72869,\t0.71305,\t0.42707,\t0.42697,\t0.44437,\t0.46222,\t0.44513\t,0.29355,\t0.2906,\t0.28378,\t0.28449,\t0.24059]).reshape(-1,1)\n",
        "y_train_h = np.array([[0.37108,0.26649,0.13965,0.044063,0.019681,0]]).reshape(-1,1)"
      ]
    },
    {
      "cell_type": "code",
      "source": [],
      "metadata": {
        "id": "xQdlakM-5McZ"
      },
      "id": "xQdlakM-5McZ",
      "execution_count": null,
      "outputs": []
    },
    {
      "cell_type": "code",
      "execution_count": null,
      "id": "283df994",
      "metadata": {
        "id": "283df994"
      },
      "outputs": [],
      "source": []
    },
    {
      "cell_type": "code",
      "execution_count": null,
      "id": "34b36efc",
      "metadata": {
        "id": "34b36efc"
      },
      "outputs": [],
      "source": []
    },
    {
      "cell_type": "code",
      "execution_count": null,
      "id": "fce65d63",
      "metadata": {
        "colab": {
          "base_uri": "https://localhost:8080/"
        },
        "id": "fce65d63",
        "outputId": "a566c922-2438-498f-eec6-961f032880d1"
      },
      "outputs": [
        {
          "output_type": "stream",
          "name": "stdout",
          "text": [
            "(26, 3)\n",
            "(26, 1)\n"
          ]
        }
      ],
      "source": [
        "from emukit.multi_fidelity.convert_lists_to_array import convert_x_list_to_array, convert_xy_lists_to_arrays\n",
        "\n",
        "Y_train=np.append(y_train_l,y_train_h,axis=0)\n",
        "X_train, Y_train = convert_xy_lists_to_arrays([x_train_l, x_train_h], [y_train_l, y_train_h])\n",
        "print(X_train.shape)\n",
        "print(Y_train.shape)"
      ]
    },
    {
      "cell_type": "code",
      "execution_count": null,
      "id": "a55545a5",
      "metadata": {
        "colab": {
          "base_uri": "https://localhost:8080/"
        },
        "id": "a55545a5",
        "outputId": "34c4a4e0-627d-4d05-be63-26d7bc80f80e"
      },
      "outputs": [
        {
          "output_type": "stream",
          "name": "stdout",
          "text": [
            "[[ 70. 100.   0.]\n",
            " [ 70.  80.   0.]\n",
            " [ 70.  50.   0.]\n",
            " [ 70.  30.   0.]\n",
            " [ 70.   0.   0.]\n",
            " [ 60. 100.   0.]\n",
            " [ 60.  80.   0.]\n",
            " [ 60.  50.   0.]\n",
            " [ 60.  30.   0.]\n",
            " [ 60.   0.   0.]\n",
            " [ 50. 100.   0.]\n",
            " [ 50.  80.   0.]\n",
            " [ 50.  50.   0.]\n",
            " [ 50.  30.   0.]\n",
            " [ 50.   0.   0.]\n",
            " [ 40. 100.   0.]\n",
            " [ 40.  80.   0.]\n",
            " [ 40.  50.   0.]\n",
            " [ 40.  30.   0.]\n",
            " [ 40.   0.   0.]\n",
            " [ 70. 100.   1.]\n",
            " [ 70.   0.   1.]\n",
            " [ 60.  80.   1.]\n",
            " [ 50.  50.   1.]\n",
            " [ 40. 100.   1.]\n",
            " [ 40.   0.   1.]]\n",
            "[[1.1136  ]\n",
            " [1.1448  ]\n",
            " [1.1498  ]\n",
            " [1.1135  ]\n",
            " [1.1212  ]\n",
            " [0.65429 ]\n",
            " [0.66409 ]\n",
            " [0.66862 ]\n",
            " [0.72869 ]\n",
            " [0.71305 ]\n",
            " [0.42707 ]\n",
            " [0.42697 ]\n",
            " [0.44437 ]\n",
            " [0.46222 ]\n",
            " [0.44513 ]\n",
            " [0.29355 ]\n",
            " [0.2906  ]\n",
            " [0.28378 ]\n",
            " [0.28449 ]\n",
            " [0.24059 ]\n",
            " [0.37108 ]\n",
            " [0.26649 ]\n",
            " [0.13965 ]\n",
            " [0.044063]\n",
            " [0.019681]\n",
            " [0.      ]]\n"
          ]
        }
      ],
      "source": [
        "print(X_train)\n",
        "Y_train=np.reshape(Y_train,(len(X_train),1))\n",
        "print(Y_train)"
      ]
    },
    {
      "cell_type": "code",
      "execution_count": null,
      "id": "926d9628",
      "metadata": {
        "colab": {
          "base_uri": "https://localhost:8080/"
        },
        "id": "926d9628",
        "outputId": "14c81f94-638b-426d-97b9-a7087e34caf7"
      },
      "outputs": [
        {
          "output_type": "stream",
          "name": "stdout",
          "text": [
            "Optimization restart 1/20, f = 515986741.9750522\n"
          ]
        },
        {
          "output_type": "stream",
          "name": "stderr",
          "text": [
            " /usr/local/lib/python3.10/dist-packages/GPy/core/gp.py:85: UserWarning:Your kernel has a different input dimension 2 then the given X dimension 3. Be very sure this is what you want and you have not forgotten to set the right input dimenion in your kernel\n",
            " /usr/local/lib/python3.10/dist-packages/GPy/kern/src/stationary.py:199: RuntimeWarning:invalid value encountered in true_divide\n",
            " /usr/local/lib/python3.10/dist-packages/paramz/transformations.py:111: RuntimeWarning:divide by zero encountered in log\n"
          ]
        },
        {
          "output_type": "stream",
          "name": "stdout",
          "text": [
            "Optimization restart 2/20, f = 698231.1672541777\n",
            "Optimization restart 3/20, f = 698231.1672631714\n",
            "Optimization restart 4/20, f = 698231.1672522387\n",
            "Optimization restart 5/20, f = 698232.6273865942\n",
            "Optimization restart 6/20, f = 698231.2141225117\n",
            "Optimization restart 7/20, f = 698231.1676121871\n",
            "Optimization restart 8/20, f = 698237.3959355594\n",
            "Optimization restart 9/20, f = 698231.2010567118\n",
            "Optimization restart 10/20, f = 698231.1676518557\n",
            "Optimization restart 11/20, f = 698233.919120774\n",
            "Optimization restart 12/20, f = 698231.1676440213\n",
            "Optimization restart 13/20, f = 698231.1676649995\n",
            "Optimization restart 14/20, f = 698231.2271501718\n",
            "Optimization restart 15/20, f = 698231.164235002\n",
            "Optimization restart 16/20, f = 698231.1654061363\n",
            "Optimization restart 17/20, f = 698231.1676442781\n",
            "Optimization restart 18/20, f = 698231.1675808788\n",
            "Optimization restart 19/20, f = 698231.1653702046\n",
            "Optimization restart 20/20, f = 698236.2896904702\n"
          ]
        }
      ],
      "source": [
        "kernels = [GPy.kern.ExpQuad(input_dim=1,lengthscale=10,variance=0),GPy.kern.ExpQuad(input_dim=1,lengthscale=10,variance=0)]\n",
        "\n",
        "lin_mf_kernel = emukit.multi_fidelity.kernels.LinearMultiFidelityKernel(kernels)\n",
        "\n",
        "gpy_lin_mf_model = GPyLinearMultiFidelityModel(X_train, Y_train, lin_mf_kernel, n_fidelities=2)\n",
        "\n",
        "gpy_lin_mf_model.mixed_noise.Gaussian_noise.fix(0)\n",
        "gpy_lin_mf_model.mixed_noise.Gaussian_noise_1.fix(0)\n",
        "\n",
        "\n",
        "lin_mf_model =model=GPyMultiOutputWrapper(gpy_lin_mf_model, 2, n_optimization_restarts=20)\n",
        "\n",
        "## Fit the model\n",
        "\n",
        "lin_mf_model.optimize()\n"
      ]
    },
    {
      "cell_type": "code",
      "source": [
        "\n",
        " print(gpy_lin_mf_model)\n",
        " # Get the gradients of optimization\n",
        "gradients_mf = gpy_lin_mf_model.multifidelity.gradient\n",
        "\n",
        "# Get the names of the model's parameters\n",
        "parameter_mf = gpy_lin_mf_model.multifidelity.parameter_names()\n",
        "\n",
        "# Print the gradients along with the parameter names\n",
        "print(\"Gradients of Optimization:\")\n",
        "for i in range(len(parameter_mf)):\n",
        "    print(f\"Parameter: {parameter_mf[i]} - Gradient: {gradients_mf[i]}\")"
      ],
      "metadata": {
        "colab": {
          "base_uri": "https://localhost:8080/"
        },
        "id": "YecqjbeQhT2Q",
        "outputId": "2ef62f5f-ce6f-40d1-c428-55c051ee2081"
      },
      "id": "YecqjbeQhT2Q",
      "execution_count": null,
      "outputs": [
        {
          "output_type": "stream",
          "name": "stdout",
          "text": [
            "\n",
            "Name : gp\n",
            "Objective : 698231.164235002\n",
            "Number of Parameters : 7\n",
            "Number of Optimization Parameters : 5\n",
            "Updates : True\n",
            "Parameters:\n",
            "  \u001b[1mgp.                                  \u001b[0;0m  |                  value  |  constraints  |  priors\n",
            "  \u001b[1mmultifidelity.ExpQuad.variance       \u001b[0;0m  |     0.5078702966651367  |      +ve      |        \n",
            "  \u001b[1mmultifidelity.ExpQuad.lengthscale    \u001b[0;0m  |      0.306470275308313  |      +ve      |        \n",
            "  \u001b[1mmultifidelity.ExpQuad_1.variance     \u001b[0;0m  |  0.0025136929587968307  |      +ve      |        \n",
            "  \u001b[1mmultifidelity.ExpQuad_1.lengthscale  \u001b[0;0m  |     0.6961138141134784  |      +ve      |        \n",
            "  \u001b[1mmultifidelity.scale                  \u001b[0;0m  |     0.2369477612539968  |               |        \n",
            "  \u001b[1mmixed_noise.Gaussian_noise.variance  \u001b[0;0m  |                    0.0  |   +ve fixed   |        \n",
            "  \u001b[1mmixed_noise.Gaussian_noise_1.variance\u001b[0;0m  |                    0.0  |   +ve fixed   |        \n",
            "Gradients of Optimization:\n",
            "Parameter: ExpQuad.variance - Gradient: -0.027982842777781833\n",
            "Parameter: ExpQuad.lengthscale - Gradient: 5.2368291620137534e-228\n",
            "Parameter: ExpQuad_1.variance - Gradient: -6.53255647615005\n",
            "Parameter: ExpQuad_1.lengthscale - Gradient: 6.5543244744412445e-43\n",
            "Parameter: scale - Gradient: -0.0047711823135614395\n"
          ]
        }
      ]
    },
    {
      "cell_type": "code",
      "execution_count": null,
      "id": "d06a40a8",
      "metadata": {
        "colab": {
          "base_uri": "https://localhost:8080/"
        },
        "id": "d06a40a8",
        "outputId": "ac6e2193-5783-43a8-b54b-25264663b14d"
      },
      "outputs": [
        {
          "output_type": "stream",
          "name": "stdout",
          "text": [
            "[[70 50]\n",
            " [60  0]\n",
            " [60 30]\n",
            " [50 80]\n",
            " [40 30]]\n"
          ]
        }
      ],
      "source": [
        "## Compute mean and variance predictions\n",
        "#testx = np.linspace(40,70, 100, endpoint=True)\n",
        "\n",
        "#testy= np.linspace(0,100, 100, endpoint=True)\n",
        "\n",
        "\n",
        "#x = [(a, b) for a in testx for b in testy]\n",
        "#x=np.array([x])\n",
        "#x_plot=np.reshape(x,[10000,2])\n",
        "x_plot=np.array([[70,50],[60,0],[60,30],[50,80],[40,30]])\n",
        "X_plot_h=np.c_[ x_plot, np.ones(len(x_plot)) ]\n",
        "X_plot_l=np.c_[ x_plot, np.zeros(len(x_plot)) ]\n",
        "\n",
        "print(x_plot)"
      ]
    },
    {
      "cell_type": "code",
      "execution_count": null,
      "id": "db623716",
      "metadata": {
        "id": "db623716"
      },
      "outputs": [],
      "source": [
        "\n",
        "\n",
        "## Compute mean predictions and associated variance\n",
        "\n",
        "## Compute mean predictions and associated variance\n",
        "\n",
        "lf_mean_lin_mf_model, lf_var_lin_mf_model = lin_mf_model.predict(X_plot_l)\n",
        "\n",
        "\n",
        "hf_mean_lin_mf_model, hf_var_lin_mf_model = lin_mf_model.predict(X_plot_h)\n",
        "\n",
        "\n",
        "\n",
        "\n"
      ]
    },
    {
      "cell_type": "code",
      "execution_count": null,
      "id": "21c16ea4",
      "metadata": {
        "colab": {
          "base_uri": "https://localhost:8080/"
        },
        "id": "21c16ea4",
        "outputId": "7b04fa6c-7eca-44db-9ba4-efd69a5d435b"
      },
      "outputs": [
        {
          "output_type": "stream",
          "name": "stdout",
          "text": [
            "[[1.12858001]\n",
            " [0.68574799]\n",
            " [0.68574799]\n",
            " [0.44115199]\n",
            " [0.27860199]]\n"
          ]
        }
      ],
      "source": [
        "print(lf_mean_lin_mf_model)"
      ]
    },
    {
      "cell_type": "code",
      "execution_count": null,
      "id": "ee2507b4",
      "metadata": {
        "colab": {
          "base_uri": "https://localhost:8080/"
        },
        "id": "ee2507b4",
        "outputId": "2d4fc4ef-35c3-480a-e74b-8c7a86ec7b3c"
      },
      "outputs": [
        {
          "output_type": "stream",
          "name": "stdout",
          "text": [
            "[[0.3187849 ]\n",
            " [0.13965009]\n",
            " [0.13965009]\n",
            " [0.04406324]\n",
            " [0.00984061]]\n"
          ]
        }
      ],
      "source": [
        "print(hf_mean_lin_mf_model)"
      ]
    },
    {
      "cell_type": "code",
      "source": [
        "print(hf_var_lin_mf_model)"
      ],
      "metadata": {
        "colab": {
          "base_uri": "https://localhost:8080/"
        },
        "id": "IBRjk-QROxzn",
        "outputId": "1ee4edd6-beb9-45a8-a604-bef2fab5a062"
      },
      "id": "IBRjk-QROxzn",
      "execution_count": null,
      "outputs": [
        {
          "output_type": "stream",
          "name": "stdout",
          "text": [
            "[[4.99999006e-09]\n",
            " [9.99996022e-09]\n",
            " [9.99996022e-09]\n",
            " [9.99996022e-09]\n",
            " [4.99999005e-09]]\n"
          ]
        }
      ]
    },
    {
      "cell_type": "code",
      "source": [
        "print(np.sqrt((hf_var_lin_mf_model))*1.96)"
      ],
      "metadata": {
        "colab": {
          "base_uri": "https://localhost:8080/"
        },
        "id": "X0Uz7BWNPAOx",
        "outputId": "c8bef9fe-8bbd-4d0c-9cb3-2272467aa314"
      },
      "id": "X0Uz7BWNPAOx",
      "execution_count": null,
      "outputs": [
        {
          "output_type": "stream",
          "name": "stdout",
          "text": [
            "[[0.00013859]\n",
            " [0.000196  ]\n",
            " [0.000196  ]\n",
            " [0.000196  ]\n",
            " [0.00013859]]\n"
          ]
        }
      ]
    },
    {
      "cell_type": "code",
      "source": [],
      "metadata": {
        "id": "eieAgaNtSVRv"
      },
      "id": "eieAgaNtSVRv",
      "execution_count": null,
      "outputs": []
    },
    {
      "cell_type": "code",
      "execution_count": null,
      "id": "20a38513",
      "metadata": {
        "id": "20a38513",
        "colab": {
          "base_uri": "https://localhost:8080/"
        },
        "outputId": "cfbc2f96-12f6-4f1a-9384-77d4225b7144"
      },
      "outputs": [
        {
          "output_type": "stream",
          "name": "stderr",
          "text": [
            "WARNING:lengthscale:reconstraining parameters ExpQuad.lengthscale\n",
            "WARNING:variance:reconstraining parameters ExpQuad.variance\n"
          ]
        },
        {
          "output_type": "stream",
          "name": "stdout",
          "text": [
            "Optimization restart 1/5, f = -7.902085938590226\n",
            "Optimization restart 2/5, f = -7.90208593847989\n",
            "Optimization restart 3/5, f = -7.902085938592535\n",
            "Optimization restart 4/5, f = -7.902085938591318\n",
            "Optimization restart 5/5, f = -7.902085938587144\n"
          ]
        },
        {
          "output_type": "execute_result",
          "data": {
            "text/plain": [
              "[<paramz.optimization.optimization.opt_lbfgsb at 0x787e25b809a0>,\n",
              " <paramz.optimization.optimization.opt_lbfgsb at 0x787e25b819f0>,\n",
              " <paramz.optimization.optimization.opt_lbfgsb at 0x787e25b81d80>,\n",
              " <paramz.optimization.optimization.opt_lbfgsb at 0x787e25b377f0>,\n",
              " <paramz.optimization.optimization.opt_lbfgsb at 0x787e25b37940>]"
            ]
          },
          "metadata": {},
          "execution_count": 14
        }
      ],
      "source": [
        "## Create standard GP model using only high-fidelity data\n",
        "x_train_DNS=np.array([[70,100],[70,50],[70,0],[60,80],[60,30],[60,0],[50,80],[50,50],[40,100],[40,30],[40,0]])\n",
        "y_train_DNS=np.array([0.37108,\t0.29883,\t0.26649,\t0.13965,\t0.20899,\t0.080584,\t0.045048,\t0.044063,\t0.019681,\t0.017602,\t6.30E-09])\n",
        "\n",
        "\n",
        "x_train_DNS=np.c_[ x_train_DNS, np.ones(len(x_train_DNS)) ]\n",
        "y_train_DNS=np.reshape(y_train_DNS,(len(x_train_DNS),1))\n",
        "\n",
        "\n",
        "kernelDNS = GPy.kern.ExpQuad(input_dim=2,lengthscale=[10,10],variance=0.1, ARD=True)\n",
        "kernelDNS.lengthscale.constrain_bounded(0,1000)\n",
        "kernelDNS.variance.constrain_bounded(0,10)\n",
        "high_gp_model = GPy.models.GPRegression(x_train_DNS, y_train_DNS, kernelDNS)\n",
        "high_gp_model.Gaussian_noise.fix(0)\n",
        "\n",
        "## Fit the GP model\n",
        "\n",
        "high_gp_model.optimize_restarts(5)"
      ]
    },
    {
      "cell_type": "code",
      "execution_count": null,
      "id": "94a2bb92",
      "metadata": {
        "id": "94a2bb92"
      },
      "outputs": [],
      "source": []
    },
    {
      "cell_type": "code",
      "execution_count": null,
      "id": "43ccdd52",
      "metadata": {
        "id": "43ccdd52"
      },
      "outputs": [],
      "source": [
        "hf_mean_high_gp_model, hf_var_high_gp_model  = high_gp_model.predict(x_plot)\n"
      ]
    },
    {
      "cell_type": "code",
      "execution_count": null,
      "id": "dc8490e4",
      "metadata": {
        "colab": {
          "base_uri": "https://localhost:8080/"
        },
        "id": "dc8490e4",
        "outputId": "a30d33e5-439f-4f89-c8b1-38a4182076d4"
      },
      "outputs": [
        {
          "output_type": "stream",
          "name": "stdout",
          "text": [
            "[[0.3187849 ]\n",
            " [0.13965009]\n",
            " [0.13965009]\n",
            " [0.04406324]\n",
            " [0.00984061]]\n",
            "[[7.07106078e-05]\n",
            " [9.99998011e-05]\n",
            " [9.99998011e-05]\n",
            " [9.99998011e-05]\n",
            " [7.07106078e-05]]\n",
            "[[0.29883   ]\n",
            " [0.08058433]\n",
            " [0.20898973]\n",
            " [0.04504766]\n",
            " [0.01760203]]\n"
          ]
        }
      ],
      "source": [
        "# print(hf_mean_high_gp_model)\n",
        "print(hf_mean_lin_mf_model)\n",
        "print((np.sqrt(hf_var_lin_mf_model)))\n",
        "print(hf_mean_high_gp_model)\n"
      ]
    },
    {
      "cell_type": "code",
      "execution_count": null,
      "id": "77fd6ae5",
      "metadata": {
        "colab": {
          "base_uri": "https://localhost:8080/",
          "height": 1000
        },
        "id": "77fd6ae5",
        "outputId": "3d5a82f7-efae-48ad-8cc3-1739df0ee9d9"
      },
      "outputs": [
        {
          "output_type": "display_data",
          "data": {
            "text/plain": [
              "<Figure size 1200x1200 with 1 Axes>"
            ],
            "image/png": "[encoded data removed]"
          },
          "metadata": {}
        }
      ],
      "source": [
        "plt.figure(figsize=(12, 12))\n",
        "plt.scatter( hf_mean_high_gp_model,hf_mean_lin_mf_model, c='black')\n",
        "min_max = [hf_mean_high_gp_model.min(),hf_mean_high_gp_model.max()]\n",
        "plt.plot(min_max, min_max, color='r')\n",
        "plt.xlabel('Truth')\n",
        "plt.ylabel('Prediction');"
      ]
    },
    {
      "cell_type": "code",
      "source": [
        "truth=np.array([[0.29883,0.10899,0.10584,0.045048,0.017602]]).reshape(-1,1)\n",
        "\n"
      ],
      "metadata": {
        "id": "RGrUd7xe9lSd"
      },
      "id": "RGrUd7xe9lSd",
      "execution_count": null,
      "outputs": []
    },
    {
      "cell_type": "code",
      "execution_count": null,
      "id": "a8e61a10",
      "metadata": {
        "colab": {
          "base_uri": "https://localhost:8080/",
          "height": 1000
        },
        "id": "a8e61a10",
        "outputId": "250db067-a050-4e03-c041-c31516ebd93e"
      },
      "outputs": [
        {
          "output_type": "stream",
          "name": "stderr",
          "text": [
            "WARNING:matplotlib.font_manager:findfont: Font family 'family' not found.\n",
            "WARNING:matplotlib.font_manager:findfont: Font family 'size' not found.\n",
            "WARNING:matplotlib.font_manager:findfont: Font family 'family' not found.\n",
            "WARNING:matplotlib.font_manager:findfont: Font family 'size' not found.\n",
            "WARNING:matplotlib.font_manager:findfont: Font family 'family' not found.\n",
            "WARNING:matplotlib.font_manager:findfont: Font family 'size' not found.\n",
            "WARNING:matplotlib.font_manager:findfont: Font family 'family' not found.\n",
            "WARNING:matplotlib.font_manager:findfont: Font family 'size' not found.\n",
            "WARNING:matplotlib.font_manager:findfont: Font family 'family' not found.\n",
            "WARNING:matplotlib.font_manager:findfont: Font family 'size' not found.\n",
            "WARNING:matplotlib.font_manager:findfont: Font family 'family' not found.\n",
            "WARNING:matplotlib.font_manager:findfont: Font family 'size' not found.\n",
            "WARNING:matplotlib.font_manager:findfont: Font family 'family' not found.\n",
            "WARNING:matplotlib.font_manager:findfont: Font family 'size' not found.\n",
            "WARNING:matplotlib.font_manager:findfont: Font family 'family' not found.\n",
            "WARNING:matplotlib.font_manager:findfont: Font family 'size' not found.\n",
            "WARNING:matplotlib.font_manager:findfont: Font family 'family' not found.\n",
            "WARNING:matplotlib.font_manager:findfont: Font family 'size' not found.\n",
            "WARNING:matplotlib.font_manager:findfont: Font family 'family' not found.\n",
            "WARNING:matplotlib.font_manager:findfont: Font family 'size' not found.\n",
            " /usr/local/lib/python3.10/dist-packages/seaborn/axisgrid.py:1826: UserWarning:\n",
            "\n",
            "`shade_lowest` has been replaced by `thresh`; setting `thresh=0.05.\n",
            "This will become an error in seaborn v0.13.0; please update your code.\n",
            "\n",
            " /usr/local/lib/python3.10/dist-packages/seaborn/axisgrid.py:1826: FutureWarning:\n",
            "\n",
            "`shade` is now deprecated in favor of `fill`; setting `fill=True`.\n",
            "This will become an error in seaborn v0.14.0; please update your code.\n",
            "\n",
            "WARNING:matplotlib.font_manager:findfont: Font family 'family' not found.\n",
            "WARNING:matplotlib.font_manager:findfont: Font family 'size' not found.\n",
            "WARNING:matplotlib.font_manager:findfont: Font family 'family' not found.\n",
            "WARNING:matplotlib.font_manager:findfont: Font family 'size' not found.\n",
            "WARNING:matplotlib.font_manager:findfont: Font family 'family' not found.\n",
            "WARNING:matplotlib.font_manager:findfont: Font family 'size' not found.\n",
            "WARNING:matplotlib.font_manager:findfont: Font family 'family' not found.\n",
            "WARNING:matplotlib.font_manager:findfont: Font family 'size' not found.\n",
            "WARNING:matplotlib.font_manager:findfont: Font family 'family' not found.\n",
            "WARNING:matplotlib.font_manager:findfont: Font family 'size' not found.\n",
            "WARNING:matplotlib.font_manager:findfont: Font family 'family' not found.\n",
            "WARNING:matplotlib.font_manager:findfont: Font family 'size' not found.\n",
            "WARNING:matplotlib.font_manager:findfont: Font family 'family' not found.\n",
            "WARNING:matplotlib.font_manager:findfont: Font family 'size' not found.\n",
            "WARNING:matplotlib.font_manager:findfont: Font family 'family' not found.\n",
            "WARNING:matplotlib.font_manager:findfont: Font family 'size' not found.\n",
            "WARNING:matplotlib.font_manager:findfont: Font family 'family' not found.\n",
            "WARNING:matplotlib.font_manager:findfont: Font family 'size' not found.\n",
            "WARNING:matplotlib.font_manager:findfont: Font family 'family' not found.\n",
            "WARNING:matplotlib.font_manager:findfont: Font family 'size' not found.\n",
            "WARNING:matplotlib.font_manager:findfont: Font family 'family' not found.\n",
            "WARNING:matplotlib.font_manager:findfont: Font family 'size' not found.\n",
            "WARNING:matplotlib.font_manager:findfont: Font family 'family' not found.\n",
            "WARNING:matplotlib.font_manager:findfont: Font family 'size' not found.\n",
            "WARNING:matplotlib.font_manager:findfont: Font family 'family' not found.\n",
            "WARNING:matplotlib.font_manager:findfont: Font family 'size' not found.\n",
            "WARNING:matplotlib.font_manager:findfont: Font family 'family' not found.\n",
            "WARNING:matplotlib.font_manager:findfont: Font family 'size' not found.\n",
            "WARNING:matplotlib.font_manager:findfont: Font family 'family' not found.\n",
            "WARNING:matplotlib.font_manager:findfont: Font family 'size' not found.\n",
            "WARNING:matplotlib.font_manager:findfont: Font family 'family' not found.\n",
            "WARNING:matplotlib.font_manager:findfont: Font family 'size' not found.\n",
            "WARNING:matplotlib.font_manager:findfont: Font family 'family' not found.\n",
            "WARNING:matplotlib.font_manager:findfont: Font family 'size' not found.\n",
            "WARNING:matplotlib.font_manager:findfont: Font family 'family' not found.\n",
            "WARNING:matplotlib.font_manager:findfont: Font family 'size' not found.\n",
            "WARNING:matplotlib.font_manager:findfont: Font family 'family' not found.\n",
            "WARNING:matplotlib.font_manager:findfont: Font family 'size' not found.\n",
            "WARNING:matplotlib.font_manager:findfont: Font family 'family' not found.\n",
            "WARNING:matplotlib.font_manager:findfont: Font family 'size' not found.\n",
            "WARNING:matplotlib.font_manager:findfont: Font family 'family' not found.\n",
            "WARNING:matplotlib.font_manager:findfont: Font family 'size' not found.\n",
            "WARNING:matplotlib.font_manager:findfont: Font family 'family' not found.\n",
            "WARNING:matplotlib.font_manager:findfont: Font family 'size' not found.\n",
            "WARNING:matplotlib.font_manager:findfont: Font family 'family' not found.\n",
            "WARNING:matplotlib.font_manager:findfont: Font family 'size' not found.\n",
            "WARNING:matplotlib.font_manager:findfont: Font family 'family' not found.\n",
            "WARNING:matplotlib.font_manager:findfont: Font family 'size' not found.\n",
            "WARNING:matplotlib.font_manager:findfont: Font family 'family' not found.\n",
            "WARNING:matplotlib.font_manager:findfont: Font family 'size' not found.\n",
            "WARNING:matplotlib.font_manager:findfont: Font family 'family' not found.\n",
            "WARNING:matplotlib.font_manager:findfont: Font family 'size' not found.\n",
            "WARNING:matplotlib.font_manager:findfont: Font family 'family' not found.\n",
            "WARNING:matplotlib.font_manager:findfont: Font family 'size' not found.\n",
            "WARNING:matplotlib.font_manager:findfont: Font family 'family' not found.\n",
            "WARNING:matplotlib.font_manager:findfont: Font family 'size' not found.\n",
            "WARNING:matplotlib.font_manager:findfont: Font family 'family' not found.\n",
            "WARNING:matplotlib.font_manager:findfont: Font family 'size' not found.\n",
            "WARNING:matplotlib.font_manager:findfont: Font family 'family' not found.\n",
            "WARNING:matplotlib.font_manager:findfont: Font family 'size' not found.\n",
            "WARNING:matplotlib.font_manager:findfont: Font family 'family' not found.\n",
            "WARNING:matplotlib.font_manager:findfont: Font family 'size' not found.\n",
            "WARNING:matplotlib.font_manager:findfont: Font family 'family' not found.\n",
            "WARNING:matplotlib.font_manager:findfont: Font family 'size' not found.\n",
            "WARNING:matplotlib.font_manager:findfont: Font family 'family' not found.\n",
            "WARNING:matplotlib.font_manager:findfont: Font family 'size' not found.\n",
            "WARNING:matplotlib.font_manager:findfont: Font family 'family' not found.\n",
            "WARNING:matplotlib.font_manager:findfont: Font family 'size' not found.\n",
            "WARNING:matplotlib.font_manager:findfont: Font family 'family' not found.\n",
            "WARNING:matplotlib.font_manager:findfont: Font family 'size' not found.\n",
            "WARNING:matplotlib.font_manager:findfont: Font family 'family' not found.\n",
            "WARNING:matplotlib.font_manager:findfont: Font family 'size' not found.\n",
            "WARNING:matplotlib.font_manager:findfont: Font family 'family' not found.\n",
            "WARNING:matplotlib.font_manager:findfont: Font family 'size' not found.\n",
            "WARNING:matplotlib.font_manager:findfont: Font family 'family' not found.\n",
            "WARNING:matplotlib.font_manager:findfont: Font family 'size' not found.\n",
            "WARNING:matplotlib.font_manager:findfont: Font family 'family' not found.\n",
            "WARNING:matplotlib.font_manager:findfont: Font family 'size' not found.\n",
            "WARNING:matplotlib.font_manager:findfont: Font family 'family' not found.\n",
            "WARNING:matplotlib.font_manager:findfont: Font family 'size' not found.\n",
            "WARNING:matplotlib.font_manager:findfont: Font family 'family' not found.\n",
            "WARNING:matplotlib.font_manager:findfont: Font family 'size' not found.\n",
            "WARNING:matplotlib.font_manager:findfont: Font family 'family' not found.\n",
            "WARNING:matplotlib.font_manager:findfont: Font family 'size' not found.\n",
            "WARNING:matplotlib.font_manager:findfont: Font family 'family' not found.\n",
            "WARNING:matplotlib.font_manager:findfont: Font family 'size' not found.\n",
            "WARNING:matplotlib.font_manager:findfont: Font family 'family' not found.\n",
            "WARNING:matplotlib.font_manager:findfont: Font family 'size' not found.\n",
            "WARNING:matplotlib.font_manager:findfont: Font family 'family' not found.\n",
            "WARNING:matplotlib.font_manager:findfont: Font family 'size' not found.\n",
            "WARNING:matplotlib.font_manager:findfont: Font family 'family' not found.\n",
            "WARNING:matplotlib.font_manager:findfont: Font family 'size' not found.\n",
            "WARNING:matplotlib.font_manager:findfont: Font family 'family' not found.\n",
            "WARNING:matplotlib.font_manager:findfont: Font family 'size' not found.\n",
            "WARNING:matplotlib.font_manager:findfont: Font family 'family' not found.\n",
            "WARNING:matplotlib.font_manager:findfont: Font family 'size' not found.\n",
            "WARNING:matplotlib.font_manager:findfont: Font family 'family' not found.\n",
            "WARNING:matplotlib.font_manager:findfont: Font family 'size' not found.\n",
            "WARNING:matplotlib.font_manager:findfont: Font family 'family' not found.\n",
            "WARNING:matplotlib.font_manager:findfont: Font family 'size' not found.\n"
          ]
        },
        {
          "output_type": "display_data",
          "data": {
            "text/plain": [
              "<Figure size 600x600 with 4 Axes>"
            ],
            "image/png": "[encoded data removed]"
          },
          "metadata": {}
        }
      ],
      "source": [
        "import pandas as pd\n",
        "import seaborn as sns\n",
        "\n",
        "df=pd.DataFrame({'Truth': truth.flatten(),'Prediction':hf_mean_lin_mf_model.flatten()})\n",
        "# sns.set(font={'family':'serif', 'size':12})\n",
        "sns.set(font={'family':'serif', 'size':12}, rc={'axes.facecolor':'white', 'figure.facecolor':'white', 'axes.edgecolor':'black', 'axes.labelcolor':'black', 'xtick.color':'black', 'ytick.color':'black', 'grid.color':'lightgray'})\n",
        "\n",
        "rel=sns.jointplot(x=\"Truth\", y=\"Prediction\", kind = \"kde\",data = df, fill=True, n_levels = 5, shade = True, cbar = True, shade_lowest = False, cbar_kws={\"location\":   \"top\"})\n",
        "#rel.fig.suptitle(\"k=0.96\")\n",
        "\n",
        "plt.show()\n"
      ]
    },
    {
      "cell_type": "code",
      "source": [],
      "metadata": {
        "id": "YMUkDzH6uip6"
      },
      "id": "YMUkDzH6uip6",
      "execution_count": null,
      "outputs": []
    },
    {
      "cell_type": "code",
      "source": [
        "\n"
      ],
      "metadata": {
        "id": "A4s9_IxNvJbL"
      },
      "id": "A4s9_IxNvJbL",
      "execution_count": null,
      "outputs": []
    },
    {
      "cell_type": "code",
      "source": [
        "import pandas as pd\n",
        "import seaborn as sns\n",
        "import matplotlib.pyplot as plt\n",
        "\n",
        "# Sample data\n",
        "df = pd.DataFrame({'Truth': truth.flatten(), 'Prediction': hf_mean_lin_mf_model.flatten()})\n",
        "\n",
        "# Set seaborn and matplotlib font settings\n",
        "sns.set(font_scale=1.0, style=\"whitegrid\", rc={\n",
        "    'font.family': 'serif',\n",
        "    'font.size': 14,\n",
        "    'axes.facecolor': 'white',\n",
        "    'figure.facecolor': 'white',\n",
        "    'axes.edgecolor': 'black',\n",
        "    'axes.labelcolor': 'black',\n",
        "    'xtick.color': 'black',\n",
        "    'ytick.color': 'black',\n",
        "    'grid.color': 'lightgray'\n",
        "})\n",
        "\n",
        "# Create the jointplot\n",
        "rel = sns.jointplot(x=\"Truth\", y=\"Prediction\", kind=\"kde\", data=df, fill=True, n_levels=5, shade=True, cbar=True, shade_lowest=False, cbar_kws={\"location\": \"top\"})\n",
        "rel.set_axis_labels(\"Truth\", \"Prediction\", fontsize=14)\n",
        "\n",
        "# Calculate the minimum and maximum values for the 45-degree line\n",
        "min_val = min(-0.2,-0.2)\n",
        "max_val = max(0.5,0.5)\n",
        "x = [min_val, max_val]\n",
        "y = [min_val, max_val]\n",
        "\n",
        "# Plot the 45-degree line\n",
        "rel.ax_joint.plot(x, y, linestyle='dashed', color='black')\n",
        "\n",
        "# Show the plot\n",
        "plt.show()\n",
        "\n"
      ],
      "metadata": {
        "colab": {
          "base_uri": "https://localhost:8080/",
          "height": 775
        },
        "id": "plUC3dt1wMRg",
        "outputId": "c894e0c2-518b-41b5-d54b-012b164de6d4"
      },
      "id": "plUC3dt1wMRg",
      "execution_count": null,
      "outputs": [
        {
          "output_type": "stream",
          "name": "stderr",
          "text": [
            " /usr/local/lib/python3.10/dist-packages/seaborn/axisgrid.py:1826: UserWarning:\n",
            "\n",
            "`shade_lowest` has been replaced by `thresh`; setting `thresh=0.05.\n",
            "This will become an error in seaborn v0.13.0; please update your code.\n",
            "\n",
            " /usr/local/lib/python3.10/dist-packages/seaborn/axisgrid.py:1826: FutureWarning:\n",
            "\n",
            "`shade` is now deprecated in favor of `fill`; setting `fill=True`.\n",
            "This will become an error in seaborn v0.14.0; please update your code.\n",
            "\n"
          ]
        },
        {
          "output_type": "display_data",
          "data": {
            "text/plain": [
              "<Figure size 600x600 with 4 Axes>"
            ],
            "image/png": "[encoded data removed]"
          },
          "metadata": {}
        }
      ]
    },
    {
      "cell_type": "code",
      "execution_count": null,
      "id": "aa45a305",
      "metadata": {
        "id": "aa45a305",
        "colab": {
          "base_uri": "https://localhost:8080/"
        },
        "outputId": "1d176642-e6c3-4a69-df19-9a121dceda87"
      },
      "outputs": [
        {
          "output_type": "stream",
          "name": "stdout",
          "text": [
            "(5, 2)\n",
            "(5, 2)\n",
            "Drive already mounted at /content/drive; to attempt to forcibly remount, call drive.mount(\"/content/drive\", force_remount=True).\n"
          ]
        }
      ],
      "source": [
        "y_data=hf_mean_lin_mf_model.reshape(-1,1)\n",
        "y_hf=truth.reshape(-1,1)\n",
        "\n",
        "\n",
        "ci96=np.sqrt(hf_var_lin_mf_model)*1.96\n",
        "ci=ci96.reshape(-1,1)\n",
        "write_mf = np.stack((y_data,y_hf), axis = 1).reshape(-1,2)\n",
        "write_hf = np.stack((y_hf,y_hf), axis = 1).reshape(-1,2)\n",
        "print(write_hf.shape)\n",
        "print(write_mf.shape)\n",
        "\n",
        "from google.colab import drive\n",
        "drive.mount('/content/drive')\n",
        "import pandas as pd\n",
        "np.savetxt('/content/drive/MyDrive/ColabNotebooks/MFintTKE.dat', write_mf, delimiter=' ,' )\n",
        "\n",
        "np.savetxt('/content/drive/MyDrive/ColabNotebooks/HFintTKE.dat', write_hf, delimiter=' ,' )"
      ]
    },
    {
      "cell_type": "code",
      "execution_count": null,
      "id": "3be2dc52",
      "metadata": {
        "id": "3be2dc52",
        "colab": {
          "base_uri": "https://localhost:8080/",
          "height": 614
        },
        "outputId": "864e0231-75c3-41bc-c27d-f88a6058d0a2"
      },
      "outputs": [
        {
          "output_type": "stream",
          "name": "stdout",
          "text": [
            "Drive already mounted at /content/drive; to attempt to forcibly remount, call drive.mount(\"/content/drive\", force_remount=True).\n"
          ]
        },
        {
          "output_type": "display_data",
          "data": {
            "text/plain": [
              "<Figure size 600x600 with 4 Axes>"
            ],
            "image/png": "[encoded data removed]"
          },
          "metadata": {}
        }
      ],
      "source": [
        "import pandas as pd\n",
        "import seaborn as sns\n",
        "import matplotlib.pyplot as plt\n",
        "\n",
        "# Sample data\n",
        "df = pd.DataFrame({'Truth': truth.flatten(), 'Prediction': hf_mean_lin_mf_model.flatten()})\n",
        "\n",
        "# Set seaborn and matplotlib font settings\n",
        "sns.set(font_scale=1.0, style=\"whitegrid\", rc={\n",
        "    'font.family': 'serif',\n",
        "    'font.size': 14,\n",
        "    'axes.facecolor': 'white',\n",
        "    'figure.facecolor': 'white',\n",
        "    'axes.edgecolor': 'black',\n",
        "    'axes.labelcolor': 'black',\n",
        "    'xtick.color': 'black',\n",
        "    'ytick.color': 'black',\n",
        "    'grid.color': 'lightgray'\n",
        "})\n",
        "\n",
        "# Create the jointplot with custom contour levels\n",
        "rel = sns.jointplot(x=\"Truth\", y=\"Prediction\", kind=\"kde\", data=df, fill=True, n_levels=5, thresh=0.05, cbar=True, cbar_kws={\"location\": \"top\"})\n",
        "rel.set_axis_labels(\"Truth\", \"Prediction\", fontsize=14)\n",
        "\n",
        "# Calculate the minimum and maximum values for the 45-degree line\n",
        "min_val = min(-0.2, -0.2)\n",
        "max_val = max(0.5, 0.5)\n",
        "x = [min_val, max_val]\n",
        "y = [min_val, max_val]\n",
        "\n",
        "# Plot the 45-degree line\n",
        "rel.ax_joint.plot(x, y, linestyle='dashed', color='black')\n",
        "\n",
        "# Adjust the size and position of the colorbar\n",
        "cbar_ax = rel.fig.axes[-1]\n",
        "cbar_ax.set_position([.25, .68, .5, .02])  # [left, bottom, width, height]\n",
        "\n",
        "\n",
        "\n",
        "from google.colab import drive\n",
        "drive.mount('/content/drive')\n",
        "\n",
        "plt.savefig('/content/drive/MyDrive/my_figure.pdf', bbox_inches='tight')\n",
        "\n",
        "# Show the plot\n",
        "plt.show()"
      ]
    },
    {
      "cell_type": "code",
      "source": [
        "import pandas as pd\n",
        "import seaborn as sns\n",
        "import matplotlib.pyplot as plt\n",
        "\n",
        "# Sample data\n",
        "df = pd.DataFrame({'Truth': truth.flatten(), 'Prediction': hf_mean_lin_mf_model.flatten()})\n",
        "\n",
        "# Set seaborn and matplotlib font settings\n",
        "sns.set(font_scale=1.5, style=\"whitegrid\", rc={\n",
        "    'font.family': 'serif',\n",
        "    'font.size': 12,\n",
        "    'axes.facecolor': 'white',\n",
        "    'figure.facecolor': 'white',\n",
        "    'axes.edgecolor': 'black',\n",
        "    'axes.labelcolor': 'black',\n",
        "    'xtick.color': 'black',\n",
        "    'ytick.color': 'black',\n",
        "    'grid.color': 'lightgray'\n",
        "})\n",
        "\n",
        "# Create the jointplot with adjusted KDE range\n",
        "rel = sns.jointplot(x=\"Truth\", y=\"Prediction\", kind=\"kde\", data=df, fill=True, n_levels=5, shade=True, cbar=True, shade_lowest=False, cbar_kws={\"location\": \"top\"}, bw_method=0.1)\n",
        "rel.set_axis_labels(\"Truth\", \"Prediction\", fontsize=12)\n",
        "\n",
        "# Adjust tick length and make them Times font\n",
        "for tick in rel.ax_joint.xaxis.get_major_ticks():\n",
        "    tick.tick1line.set_visible(True)\n",
        "    tick.tick1line.set_markersize(5)\n",
        "    tick.tick1line.set_markeredgewidth(1)\n",
        "    tick.label1.set_fontname('Times New Roman')\n",
        "for tick in rel.ax_joint.yaxis.get_major_ticks():\n",
        "    tick.tick1line.set_visible(True)\n",
        "    tick.tick1line.set_markersize(5)\n",
        "    tick.tick1line.set_markeredgewidth(1)\n",
        "    tick.label1.set_fontname('Times New Roman')\n",
        "\n",
        "rel.ax_joint.collections[0].set_label(\"Density\")\n",
        "rel.ax_joint.legend(fontsize=12)\n",
        "\n",
        "# Add a dashed line at 45 degrees\n",
        "import numpy as np\n",
        "x = np.linspace(min(df['Truth'].min(), df['Prediction'].min()), max(df['Truth'].max(), df['Prediction'].max()), 100)\n",
        "rel.ax_joint.plot(x, x, linestyle='dashed', color='black')\n",
        "\n",
        "# Save the plot as PDF\n",
        "plt.savefig('my_figure.pdf', bbox_inches='tight')\n",
        "\n",
        "# Show the plot\n",
        "plt.show()\n"
      ],
      "metadata": {
        "id": "iERpgUfcw6nL"
      },
      "id": "iERpgUfcw6nL",
      "execution_count": null,
      "outputs": []
    },
    {
      "cell_type": "code",
      "source": [
        "import pandas as pd\n",
        "import seaborn as sns\n",
        "import matplotlib.pyplot as plt\n",
        "import numpy as np\n",
        "\n",
        "# Sample data\n",
        "df = pd.DataFrame({'Truth': truth.flatten(), 'Prediction': hf_mean_lin_mf_model.flatten()})\n",
        "\n",
        "# Set seaborn and matplotlib font settings\n",
        "sns.set(font_scale=1.0, style=\"whitegrid\", rc={\n",
        "    'font.family': 'times',\n",
        "    'font.size': 12,\n",
        "    'axes.facecolor': 'white',\n",
        "    'figure.facecolor': 'white',\n",
        "    'axes.edgecolor': 'black',\n",
        "    'axes.labelcolor': 'black',\n",
        "    'xtick.color': 'black',\n",
        "    'ytick.color': 'black',\n",
        "    'grid.color': 'lightgray'\n",
        "})\n",
        "\n",
        "# Custom contour levels\n",
        "contour_levels = [0.01, 0.05, 0.1, 0.2, 0.3]\n",
        "\n",
        "# Create the jointplot with custom contour levels\n",
        "rel = sns.jointplot(x=\"Truth\", y=\"Prediction\", kind=\"kde\", data=df, fill=True, n_levels=len(contour_levels), levels=contour_levels, cbar=True, shade_lowest=False, cbar_kws={\"location\": \"top\"})\n",
        "rel.set_axis_labels(\"Truth\", \"Prediction\", fontsize=12)\n",
        "\n",
        "# Adjust tick length and make them Times font\n",
        "for tick in rel.ax_joint.xaxis.get_major_ticks():\n",
        "    tick.tick1line.set_visible(True)\n",
        "    tick.tick1line.set_markersize(5)\n",
        "    tick.tick1line.set_markeredgewidth(1)\n",
        "    tick.label1.set_fontname('Times New Roman')\n",
        "for tick in rel.ax_joint.yaxis.get_major_ticks():\n",
        "    tick.tick1line.set_visible(True)\n",
        "    tick.tick1line.set_markersize(5)\n",
        "    tick.tick1line.set_markeredgewidth(1)\n",
        "    tick.label1.set_fontname('Times New Roman')\n",
        "\n",
        "rel.ax_joint.collections[0].set_label(\"Density\")\n",
        "rel.ax_joint.legend(fontsize=12)\n",
        "\n",
        "# Calculate the minimum and maximum values for the 45-degree line\n",
        "min_val = min(-0.2, -0.2)\n",
        "max_val = max(0.5,0.5)\n",
        "x = np.linspace(min_val, max_val, 100)\n",
        "\n",
        "# Plot the 45-degree line\n",
        "rel.ax_joint.plot(x, x, linestyle='dashed', color='black')\n",
        "\n",
        "# Save the plot as PDF\n",
        "plt.savefig('my_figure.pdf', bbox_inches='tight')\n",
        "\n",
        "# Show the plot\n",
        "plt.show()\n",
        "\n"
      ],
      "metadata": {
        "id": "W0AtLYVuxOS6"
      },
      "id": "W0AtLYVuxOS6",
      "execution_count": null,
      "outputs": []
    },
    {
      "cell_type": "code",
      "source": [],
      "metadata": {
        "id": "RJeYMOGhxhe7"
      },
      "id": "RJeYMOGhxhe7",
      "execution_count": null,
      "outputs": []
    }
  ],
  "metadata": {
    "kernelspec": {
      "display_name": "Python 3 (ipykernel)",
      "language": "python",
      "name": "python3"
    },
    "language_info": {
      "codemirror_mode": {
        "name": "ipython",
        "version": 3
      },
      "file_extension": ".py",
      "mimetype": "text/x-python",
      "name": "python",
      "nbconvert_exporter": "python",
      "pygments_lexer": "ipython3",
      "version": "3.9.2"
    },
    "colab": {
      "provenance": []
    }
  },
  "nbformat": 4,
  "nbformat_minor": 5
}