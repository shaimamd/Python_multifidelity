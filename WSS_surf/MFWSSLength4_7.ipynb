{
  "cells": [
    {
      "cell_type": "code",
      "execution_count": 1,
      "metadata": {
        "colab": {
          "base_uri": "https://localhost:8080/"
        },
        "id": "QmVmR7ij2FEd",
        "outputId": "7dceb1bd-0262-4bb1-d446-bbb5d9a24b0f"
      },
      "outputs": [
        {
          "output_type": "stream",
          "name": "stdout",
          "text": [
            "Collecting GPy\n",
            "  Downloading GPy-1.10.0.tar.gz (959 kB)\n",
            "\u001b[2K     \u001b[90m━━━━━━━━━━━━━━━━━━━━━━━━━━━━━━━━━━━━━━━\u001b[0m \u001b[32m959.4/959.4 kB\u001b[0m \u001b[31m8.9 MB/s\u001b[0m eta \u001b[36m0:00:00\u001b[0m\n",
            "\u001b[?25h  Preparing metadata (setup.py) ... \u001b[?25l\u001b[?25hdone\n",
            "Requirement already satisfied: numpy>=1.7 in /usr/local/lib/python3.10/dist-packages (from GPy) (1.23.5)\n",
            "Requirement already satisfied: six in /usr/local/lib/python3.10/dist-packages (from GPy) (1.16.0)\n",
            "Collecting paramz>=0.9.0 (from GPy)\n",
            "  Downloading paramz-0.9.5.tar.gz (71 kB)\n",
            "\u001b[2K     \u001b[90m━━━━━━━━━━━━━━━━━━━━━━━━━━━━━━━━━━━━━━━━\u001b[0m \u001b[32m71.3/71.3 kB\u001b[0m \u001b[31m9.6 MB/s\u001b[0m eta \u001b[36m0:00:00\u001b[0m\n",
            "\u001b[?25h  Preparing metadata (setup.py) ... \u001b[?25l\u001b[?25hdone\n",
            "Requirement already satisfied: cython>=0.29 in /usr/local/lib/python3.10/dist-packages (from GPy) (3.0.2)\n",
            "Requirement already satisfied: scipy>=1.3.0 in /usr/local/lib/python3.10/dist-packages (from GPy) (1.11.3)\n",
            "Requirement already satisfied: decorator>=4.0.10 in /usr/local/lib/python3.10/dist-packages (from paramz>=0.9.0->GPy) (4.4.2)\n",
            "Building wheels for collected packages: GPy, paramz\n",
            "  Building wheel for GPy (setup.py) ... \u001b[?25l\u001b[?25hdone\n",
            "  Created wheel for GPy: filename=GPy-1.10.0-cp310-cp310-linux_x86_64.whl size=3410106 sha256=a69f020b739c6e74cf925dc852f797b671a588a3f8321823ef4c7c553cc32f39\n",
            "  Stored in directory: /root/.cache/pip/wheels/27/bd/9f/82ab4216eae088cba864ca0dc1d75699bd4bf6823790fb2f77\n",
            "  Building wheel for paramz (setup.py) ... \u001b[?25l\u001b[?25hdone\n",
            "  Created wheel for paramz: filename=paramz-0.9.5-py3-none-any.whl size=102544 sha256=b56bce9158fb733bee6e27bc4f23d01bd1060aa70146f3fd01b8bb3730df758f\n",
            "  Stored in directory: /root/.cache/pip/wheels/d2/ef/9c/da9ceef7d0ff5287c24365844fc394852c2b79ac3fcf33bf8b\n",
            "Successfully built GPy paramz\n",
            "Installing collected packages: paramz, GPy\n",
            "Successfully installed GPy-1.10.0 paramz-0.9.5\n"
          ]
        }
      ],
      "source": [
        "pip install GPy\n"
      ]
    },
    {
      "cell_type": "code",
      "execution_count": 2,
      "metadata": {
        "colab": {
          "base_uri": "https://localhost:8080/"
        },
        "id": "6RFNvBKin9Z2",
        "outputId": "76043331-d862-4d72-db47-0ec3d60c36b8"
      },
      "outputs": [
        {
          "output_type": "stream",
          "name": "stdout",
          "text": [
            "Collecting emukit\n",
            "  Downloading emukit-0.4.10.tar.gz (170 kB)\n",
            "\u001b[?25l     \u001b[90m━━━━━━━━━━━━━━━━━━━━━━━━━━━━━━━━━━━━━━━━\u001b[0m \u001b[32m0.0/170.5 kB\u001b[0m \u001b[31m?\u001b[0m eta \u001b[36m-:--:--\u001b[0m\r\u001b[2K     \u001b[91m━━━━━━━━━━━━━━━━\u001b[0m\u001b[91m╸\u001b[0m\u001b[90m━━━━━━━━━━━━━━━━━━━━━━━\u001b[0m \u001b[32m71.7/170.5 kB\u001b[0m \u001b[31m1.8 MB/s\u001b[0m eta \u001b[36m0:00:01\u001b[0m\r\u001b[2K     \u001b[90m━━━━━━━━━━━━━━━━━━━━━━━━━━━━━━━━━━━━━━━\u001b[0m \u001b[32m170.5/170.5 kB\u001b[0m \u001b[31m3.3 MB/s\u001b[0m eta \u001b[36m0:00:00\u001b[0m\n",
            "\u001b[?25h  Installing build dependencies ... \u001b[?25l\u001b[?25hdone\n",
            "  Getting requirements to build wheel ... \u001b[?25l\u001b[?25hdone\n",
            "  Preparing metadata (pyproject.toml) ... \u001b[?25l\u001b[?25hdone\n",
            "Requirement already satisfied: setuptools>=40.8.0 in /usr/local/lib/python3.10/dist-packages (from emukit) (67.7.2)\n",
            "Requirement already satisfied: numpy>=1.14.5 in /usr/local/lib/python3.10/dist-packages (from emukit) (1.23.5)\n",
            "Requirement already satisfied: GPy[plotting]>=1.10.0 in /usr/local/lib/python3.10/dist-packages (from emukit) (1.10.0)\n",
            "Collecting emcee>=2.2.1 (from emukit)\n",
            "  Downloading emcee-3.1.4-py2.py3-none-any.whl (46 kB)\n",
            "\u001b[2K     \u001b[90m━━━━━━━━━━━━━━━━━━━━━━━━━━━━━━━━━━━━━━━━\u001b[0m \u001b[32m46.2/46.2 kB\u001b[0m \u001b[31m2.1 MB/s\u001b[0m eta \u001b[36m0:00:00\u001b[0m\n",
            "\u001b[?25hRequirement already satisfied: scipy>=1.1.0 in /usr/local/lib/python3.10/dist-packages (from emukit) (1.11.3)\n",
            "Requirement already satisfied: six in /usr/local/lib/python3.10/dist-packages (from GPy[plotting]>=1.10.0->emukit) (1.16.0)\n",
            "Requirement already satisfied: paramz>=0.9.0 in /usr/local/lib/python3.10/dist-packages (from GPy[plotting]>=1.10.0->emukit) (0.9.5)\n",
            "Requirement already satisfied: cython>=0.29 in /usr/local/lib/python3.10/dist-packages (from GPy[plotting]>=1.10.0->emukit) (3.0.2)\n",
            "Requirement already satisfied: matplotlib>=3.0 in /usr/local/lib/python3.10/dist-packages (from GPy[plotting]>=1.10.0->emukit) (3.7.1)\n",
            "Requirement already satisfied: plotly>=1.8.6 in /usr/local/lib/python3.10/dist-packages (from GPy[plotting]>=1.10.0->emukit) (5.15.0)\n",
            "Requirement already satisfied: contourpy>=1.0.1 in /usr/local/lib/python3.10/dist-packages (from matplotlib>=3.0->GPy[plotting]>=1.10.0->emukit) (1.1.1)\n",
            "Requirement already satisfied: cycler>=0.10 in /usr/local/lib/python3.10/dist-packages (from matplotlib>=3.0->GPy[plotting]>=1.10.0->emukit) (0.12.0)\n",
            "Requirement already satisfied: fonttools>=4.22.0 in /usr/local/lib/python3.10/dist-packages (from matplotlib>=3.0->GPy[plotting]>=1.10.0->emukit) (4.43.0)\n",
            "Requirement already satisfied: kiwisolver>=1.0.1 in /usr/local/lib/python3.10/dist-packages (from matplotlib>=3.0->GPy[plotting]>=1.10.0->emukit) (1.4.5)\n",
            "Requirement already satisfied: packaging>=20.0 in /usr/local/lib/python3.10/dist-packages (from matplotlib>=3.0->GPy[plotting]>=1.10.0->emukit) (23.2)\n",
            "Requirement already satisfied: pillow>=6.2.0 in /usr/local/lib/python3.10/dist-packages (from matplotlib>=3.0->GPy[plotting]>=1.10.0->emukit) (9.4.0)\n",
            "Requirement already satisfied: pyparsing>=2.3.1 in /usr/local/lib/python3.10/dist-packages (from matplotlib>=3.0->GPy[plotting]>=1.10.0->emukit) (3.1.1)\n",
            "Requirement already satisfied: python-dateutil>=2.7 in /usr/local/lib/python3.10/dist-packages (from matplotlib>=3.0->GPy[plotting]>=1.10.0->emukit) (2.8.2)\n",
            "Requirement already satisfied: decorator>=4.0.10 in /usr/local/lib/python3.10/dist-packages (from paramz>=0.9.0->GPy[plotting]>=1.10.0->emukit) (4.4.2)\n",
            "Requirement already satisfied: tenacity>=6.2.0 in /usr/local/lib/python3.10/dist-packages (from plotly>=1.8.6->GPy[plotting]>=1.10.0->emukit) (8.2.3)\n",
            "Building wheels for collected packages: emukit\n",
            "  Building wheel for emukit (pyproject.toml) ... \u001b[?25l\u001b[?25hdone\n",
            "  Created wheel for emukit: filename=emukit-0.4.10-py3-none-any.whl size=257051 sha256=14427054a62a0123f6080c423ac0f36db91adaab2f18a535e2b98b4cc545ad30\n",
            "  Stored in directory: /root/.cache/pip/wheels/30/d1/af/64ddede19b5eb77bd70362edebf9d393bf77dc34d354c11292\n",
            "Successfully built emukit\n",
            "Installing collected packages: emcee, emukit\n",
            "Successfully installed emcee-3.1.4 emukit-0.4.10\n"
          ]
        }
      ],
      "source": [
        "pip install emukit"
      ]
    },
    {
      "cell_type": "code",
      "execution_count": 3,
      "metadata": {
        "colab": {
          "base_uri": "https://localhost:8080/"
        },
        "id": "1MvA3kin2UOm",
        "outputId": "08cb13c1-0d99-4c35-8e3f-bf23924aeb46"
      },
      "outputs": [
        {
          "output_type": "stream",
          "name": "stdout",
          "text": [
            "Collecting pyDOE\n",
            "  Downloading pyDOE-0.3.8.zip (22 kB)\n",
            "  Preparing metadata (setup.py) ... \u001b[?25l\u001b[?25hdone\n",
            "Requirement already satisfied: numpy in /usr/local/lib/python3.10/dist-packages (from pyDOE) (1.23.5)\n",
            "Requirement already satisfied: scipy in /usr/local/lib/python3.10/dist-packages (from pyDOE) (1.11.3)\n",
            "Building wheels for collected packages: pyDOE\n",
            "  Building wheel for pyDOE (setup.py) ... \u001b[?25l\u001b[?25hdone\n",
            "  Created wheel for pyDOE: filename=pyDOE-0.3.8-py3-none-any.whl size=18168 sha256=84385832543f99bd56e3437f27f653462625528fe3bf6c30f8ae556144eaf7c6\n",
            "  Stored in directory: /root/.cache/pip/wheels/ce/b6/d7/c6b64746dba6433c593e471e0ac3acf4f36040456d1d160d17\n",
            "Successfully built pyDOE\n",
            "Installing collected packages: pyDOE\n",
            "Successfully installed pyDOE-0.3.8\n"
          ]
        }
      ],
      "source": [
        "pip install pyDOE"
      ]
    },
    {
      "cell_type": "code",
      "execution_count": 4,
      "metadata": {
        "id": "R9uF1xLm21-Y"
      },
      "outputs": [],
      "source": [
        "import GPy\n",
        "import numpy as np\n",
        "from pyDOE import lhs\n"
      ]
    },
    {
      "cell_type": "markdown",
      "source": [
        "Read the data"
      ],
      "metadata": {
        "id": "EC9xDn-zFoVG"
      }
    },
    {
      "cell_type": "code",
      "execution_count": 5,
      "metadata": {
        "colab": {
          "base_uri": "https://localhost:8080/"
        },
        "id": "VIi6rllS25E2",
        "outputId": "d0a942a6-1725-47c8-f23f-0fe7cf5f47b5"
      },
      "outputs": [
        {
          "output_type": "stream",
          "name": "stdout",
          "text": [
            "Mounted at /content/drive\n"
          ]
        }
      ],
      "source": [
        "from google.colab import drive\n",
        "drive.mount('/content/drive')\n",
        "import pandas as pd\n",
        "\n",
        "\n",
        "ALL_xdata=pd.read_csv('/content/drive/MyDrive/ColabNotebooks/position_vector_normalized.csv', header=None)\n",
        "# Full length\n",
        "# DNS_ydata=pd.read_csv('/content/drive/MyDrive/ColabNotebooks/scaled_wss_dns11data.csv', header=None)\n",
        "\n",
        "DNS_ydata=pd.read_csv('/content/drive/MyDrive/ColabNotebooks/DNS_data_4_7.csv', header=None)\n",
        "RANS_ydata=pd.read_csv('/content/drive/MyDrive/ColabNotebooks/RANS_data_4_7.csv',header=None)"
      ]
    },
    {
      "cell_type": "code",
      "execution_count": 7,
      "metadata": {
        "colab": {
          "base_uri": "https://localhost:8080/"
        },
        "id": "NNd0zZdZ1FLW",
        "outputId": "5d900a92-816a-438c-c307-14ffc535c2fc"
      },
      "outputs": [
        {
          "output_type": "stream",
          "name": "stdout",
          "text": [
            "(6, 3600)\n",
            "(20, 3600)\n",
            "(3600, 2)\n",
            "3600\n",
            "(5, 3600)\n"
          ]
        }
      ],
      "source": [
        "import numpy as np\n",
        "\n",
        "# Generate sample data\n",
        "x_train_l = np.array([[70, 100], [70, 80], [70, 50], [70, 30], [70, 0], [60, 100], [60, 80], [60, 50], [60, 30], [60, 0], [50, 100], [50, 80], [50, 50], [50, 30], [50, 0], [40, 100], [40, 80], [40, 50], [40, 30], [40, 0]])\n",
        "x_train_h = np.array([[70, 100], [70, 0], [60, 80], [50, 50], [40, 100], [40, 0]])\n",
        "\n",
        "DNS_full = DNS_ydata.dropna(axis=1)\n",
        "DNS_full = DNS_full.values\n",
        "DNS = DNS_full[:, [0, 2, 3, 7, 8, 10]]\n",
        "\n",
        "DNS_test = DNS_full[:, [1, 4, 5, 6, 9]]\n",
        "DNS_test = np.transpose(DNS_test)\n",
        "RANS = RANS_ydata.dropna(axis=1)\n",
        "RANS_full = RANS.values\n",
        "RANS_test = RANS_full[:, [0, 1, 3, 4, 5, 6, 7, 10, 12, 13, 14, 15, 16, 17, 19]]\n",
        "\n",
        "y_train_h = np.transpose(DNS)\n",
        "y_train_l = np.transpose(RANS)\n",
        "\n",
        "# Convert y_train_l to a NumPy array\n",
        "y_train_l = np.array(y_train_l)\n",
        "\n",
        "# Perform slicing on y_train_l using NumPy indexing\n",
        "\n",
        "\n",
        "print(np.shape(y_train_h))\n",
        "print(np.shape(y_train_l))\n",
        "xdatap = ALL_xdata.values\n",
        "xdata = xdatap[:, [0, 1]]\n",
        "print(xdata.shape)\n",
        "print(len(xdata))\n",
        "print(DNS_test.shape)\n"
      ]
    },
    {
      "cell_type": "code",
      "execution_count": 8,
      "metadata": {
        "colab": {
          "base_uri": "https://localhost:8080/"
        },
        "id": "GjPi617agflI",
        "outputId": "cd07f757-e65f-4118-98a2-8b1e485c7aa6"
      },
      "outputs": [
        {
          "output_type": "stream",
          "name": "stdout",
          "text": [
            "(3600, 2)\n"
          ]
        }
      ],
      "source": [
        "print(xdata.shape)"
      ]
    },
    {
      "cell_type": "markdown",
      "source": [
        "Select points within the domain to use GPR to get the full recosnstruction"
      ],
      "metadata": {
        "id": "BdT-M36uF0HG"
      }
    },
    {
      "cell_type": "code",
      "execution_count": 10,
      "metadata": {
        "id": "cerPtrrM60fc",
        "colab": {
          "base_uri": "https://localhost:8080/"
        },
        "outputId": "b8359e59-cb8e-457c-c037-cc15937cc01a"
      },
      "outputs": [
        {
          "output_type": "stream",
          "name": "stdout",
          "text": [
            "[[ 239]\n",
            " [ 168]\n",
            " [2072]]\n"
          ]
        }
      ],
      "source": [
        "# from scipy.stats import qmc\n",
        "# np.random.seed(123)\n",
        "\n",
        "\n",
        "\n",
        "# # Set the dimension and number of points\n",
        "# dimension = 1\n",
        "# num_points =1024\n",
        "# # Generate Sobol sequence\n",
        "# sobol_seq = qmc.Sobol(d=dimension, scramble=True).random(num_points)\n",
        "\n",
        "# # Access the points in the sequence\n",
        "# points = sobol_seq.T\n",
        "\n",
        "\n",
        "\n",
        "# # Select indices based on the design points\n",
        "# selected_indices = np.floor(points * len(xdata)).astype(int)\n",
        "\n",
        "# Select points from xdata using the selected indices\n",
        "np.random.seed(123)\n",
        "num_points =2000# Number of points to select\n",
        "\n",
        "# Generate Latin Hypercube Design\n",
        "design = lhs(1, samples=num_points, criterion='maximin')\n",
        "\n",
        "# Select indices based on the design points\n",
        "selected_indices = np.floor(design * len(xdata)).astype(int)\n",
        "\n"
      ]
    },
    {
      "cell_type": "markdown",
      "source": [
        "High Accuracy (DNS)"
      ],
      "metadata": {
        "id": "3MQunnRhGKHA"
      }
    },
    {
      "cell_type": "code",
      "execution_count": 11,
      "metadata": {
        "id": "rrh_7NX164KH"
      },
      "outputs": [],
      "source": [
        "# Select corresponding values from ydata\n",
        "y_train_h =y_train_h[:,selected_indices.flatten()]\n",
        "\n"
      ]
    },
    {
      "cell_type": "markdown",
      "source": [
        "Low accuracy (RANS)"
      ],
      "metadata": {
        "id": "VgpNvWjPGJIP"
      }
    },
    {
      "cell_type": "code",
      "execution_count": 12,
      "metadata": {
        "id": "SQd7kNNbxhk-"
      },
      "outputs": [],
      "source": [
        "y_train_l =y_train_l[:,selected_indices.flatten()]\n"
      ]
    },
    {
      "cell_type": "code",
      "execution_count": 13,
      "metadata": {
        "colab": {
          "base_uri": "https://localhost:8080/"
        },
        "id": "u56oP_S_n7_g",
        "outputId": "d5e8faa4-5d75-4cf0-a11d-dd7fe62f1afd"
      },
      "outputs": [
        {
          "output_type": "stream",
          "name": "stdout",
          "text": [
            "[[2439]\n",
            " [1103]\n",
            " [ 547]\n",
            " ...\n",
            " [2866]\n",
            " [2754]\n",
            " [2733]]\n",
            "(6, 2000)\n",
            "(20, 2000)\n"
          ]
        }
      ],
      "source": [
        "print(selected_indices)\n",
        "print(y_train_h.shape)\n",
        "print(y_train_l.shape)"
      ]
    },
    {
      "cell_type": "code",
      "execution_count": 14,
      "metadata": {
        "colab": {
          "base_uri": "https://localhost:8080/"
        },
        "id": "b2V-p_F8zGOt",
        "outputId": "a42ef0bb-2d73-4911-d505-9af42e4347b4"
      },
      "outputs": [
        {
          "output_type": "stream",
          "name": "stdout",
          "text": [
            "(26, 3)\n",
            "(26, 2000)\n",
            "[[ 70. 100.   0.]\n",
            " [ 70.  80.   0.]\n",
            " [ 70.  50.   0.]\n",
            " [ 70.  30.   0.]\n",
            " [ 70.   0.   0.]\n",
            " [ 60. 100.   0.]\n",
            " [ 60.  80.   0.]\n",
            " [ 60.  50.   0.]\n",
            " [ 60.  30.   0.]\n",
            " [ 60.   0.   0.]\n",
            " [ 50. 100.   0.]\n",
            " [ 50.  80.   0.]\n",
            " [ 50.  50.   0.]\n",
            " [ 50.  30.   0.]\n",
            " [ 50.   0.   0.]\n",
            " [ 40. 100.   0.]\n",
            " [ 40.  80.   0.]\n",
            " [ 40.  50.   0.]\n",
            " [ 40.  30.   0.]\n",
            " [ 40.   0.   0.]\n",
            " [ 70. 100.   1.]\n",
            " [ 70.   0.   1.]\n",
            " [ 60.  80.   1.]\n",
            " [ 50.  50.   1.]\n",
            " [ 40. 100.   1.]\n",
            " [ 40.   0.   1.]]\n"
          ]
        }
      ],
      "source": [
        "# x_train_l=np.c_[ x_train_l, np.zeros(len(x_train_l)) ]\n",
        "# x_train_h=np.c_[ x_train_h, np.ones(len(x_train_h)) ]\n",
        "# X_train=np.append(x_train_l,x_train_h,axis=0)\n",
        "#\n",
        "from emukit.multi_fidelity.convert_lists_to_array import convert_x_list_to_array, convert_xy_lists_to_arrays\n",
        "\n",
        "# Y_train=np.append(y_train_h,y_train_l,axis=0)\n",
        "X_train, Y_train = convert_xy_lists_to_arrays([x_train_l, x_train_h], [y_train_l, y_train_h])\n",
        "print(X_train.shape)\n",
        "print(Y_train.shape)\n",
        "\n",
        "print(X_train)"
      ]
    },
    {
      "cell_type": "code",
      "execution_count": 15,
      "metadata": {
        "id": "uvVIDVt-n6Ln"
      },
      "outputs": [],
      "source": [
        "import GPy\n",
        "import emukit.multi_fidelity\n",
        "import emukit.test_functions\n",
        "from emukit.model_wrappers.gpy_model_wrappers import GPyMultiOutputWrapper\n",
        "from emukit.multi_fidelity.models import GPyLinearMultiFidelityModel\n",
        "import numpy as np\n",
        "import matplotlib.pyplot as plt\n",
        "from matplotlib import colors as mcolors\n",
        "colors = dict(mcolors.BASE_COLORS, **mcolors.CSS4_COLORS)\n",
        "%matplotlib inline"
      ]
    },
    {
      "cell_type": "code",
      "execution_count": 16,
      "metadata": {
        "colab": {
          "base_uri": "https://localhost:8080/"
        },
        "id": "gKwlvy31qGq3",
        "outputId": "08bbc2e2-c4bc-457e-cc48-be9fed827343"
      },
      "outputs": [
        {
          "output_type": "stream",
          "name": "stderr",
          "text": [
            "WARNING:lengthscale:reconstraining parameters Mat32.lengthscale\n",
            "WARNING:variance:reconstraining parameters Mat32.variance\n",
            "WARNING:lengthscale:reconstraining parameters Mat32.lengthscale\n",
            "WARNING:variance:reconstraining parameters Mat32.variance\n"
          ]
        },
        {
          "output_type": "stream",
          "name": "stdout",
          "text": [
            "Optimization restart 1/200, f = -125460.1796624472\n",
            "Optimization restart 2/200, f = -123410.79772593512\n",
            "Optimization restart 3/200, f = -123410.75888933893\n",
            "Optimization restart 4/200, f = -123410.75105499139\n",
            "Optimization restart 5/200, f = -125460.18280193795\n"
          ]
        },
        {
          "output_type": "stream",
          "name": "stderr",
          "text": [
            " /usr/local/lib/python3.10/dist-packages/GPy/kern/src/stationary.py:243: RuntimeWarning:invalid value encountered in divide\n"
          ]
        },
        {
          "output_type": "stream",
          "name": "stdout",
          "text": [
            "Optimization restart 6/200, f = -120197.81154503812\n",
            "Optimization restart 7/200, f = -123410.85416856394\n",
            "Optimization restart 8/200, f = -123410.75118516512\n",
            "Optimization restart 9/200, f = -123423.06260378729\n",
            "Optimization restart 10/200, f = -123423.06257481752\n",
            "Optimization restart 11/200, f = -120367.04124683874\n",
            "Optimization restart 12/200, f = -123410.75296437678\n",
            "Optimization restart 13/200, f = -125460.1828019066\n",
            "Optimization restart 14/200, f = -123410.88414529155\n",
            "Optimization restart 15/200, f = -125460.18280160232\n",
            "Optimization restart 16/200, f = -123410.76340746501\n",
            "Optimization restart 17/200, f = -123410.75092483014\n",
            "Optimization restart 18/200, f = -123410.76857497205\n",
            "Optimization restart 19/200, f = -111492.58380377393\n",
            "Optimization restart 20/200, f = -125460.18279905237\n",
            "Optimization restart 21/200, f = -123422.89121173756\n",
            "Optimization restart 22/200, f = -123279.86889816678\n",
            "Optimization restart 23/200, f = -125460.18278349823\n",
            "Optimization restart 24/200, f = -123411.10239396602\n",
            "Optimization restart 25/200, f = -122815.2722795519\n",
            "Optimization restart 26/200, f = -123410.80865081256\n",
            "Optimization restart 27/200, f = -123410.75105443256\n",
            "Optimization restart 28/200, f = -120367.04191877785\n",
            "Optimization restart 29/200, f = -123423.06260378305\n",
            "Optimization restart 30/200, f = -123410.75091071053\n",
            "Optimization restart 31/200, f = -123410.75085212394\n",
            "Optimization restart 32/200, f = -122814.74319856551\n",
            "Optimization restart 33/200, f = -123410.82774543138\n",
            "Optimization restart 34/200, f = -123423.06219757229\n",
            "Optimization restart 35/200, f = -123423.06260281899\n",
            "Optimization restart 36/200, f = -123410.75418375907\n",
            "Optimization restart 37/200, f = -123410.75140244543\n",
            "Optimization restart 38/200, f = -125460.18254817174\n",
            "Optimization restart 39/200, f = -125460.18280239151\n",
            "Optimization restart 40/200, f = -123410.75989797282\n",
            "Optimization restart 41/200, f = -120366.96775096444\n",
            "Optimization restart 42/200, f = -123410.75109927064\n",
            "Optimization restart 43/200, f = -125460.18280236883\n",
            "Optimization restart 44/200, f = -123423.06209771226\n",
            "Optimization restart 45/200, f = -123410.75231930947\n",
            "Optimization restart 46/200, f = -111492.64651759612\n",
            "Optimization restart 47/200, f = -125460.18278502513\n",
            "Optimization restart 48/200, f = -125460.18280235202\n",
            "Optimization restart 49/200, f = -123410.86242392276\n",
            "Optimization restart 50/200, f = -111492.64052115947\n",
            "Optimization restart 51/200, f = -120367.04209479707\n",
            "Optimization restart 52/200, f = -125460.18279997041\n",
            "Optimization restart 53/200, f = -125460.1827888824\n",
            "Optimization restart 54/200, f = -123410.75040086624\n",
            "Optimization restart 55/200, f = -123410.76271472019\n",
            "Optimization restart 56/200, f = -122815.16519862157\n",
            "Optimization restart 57/200, f = -123410.74845723924\n",
            "Optimization restart 58/200, f = -123423.06230954037\n",
            "Optimization restart 59/200, f = -120367.04083740161\n",
            "Optimization restart 60/200, f = -125460.14021685717\n",
            "Optimization restart 61/200, f = -125460.18258597534\n",
            "Optimization restart 62/200, f = -123423.06260320346\n",
            "Optimization restart 63/200, f = -123410.86677192143\n",
            "Optimization restart 64/200, f = -123410.75109059538\n",
            "Optimization restart 65/200, f = -125460.18278851811\n",
            "Optimization restart 66/200, f = -120367.04215922927\n",
            "Optimization restart 67/200, f = -123410.86323787768\n",
            "Optimization restart 68/200, f = -120367.04222093638\n",
            "Optimization restart 69/200, f = -123319.89881038431\n",
            "Optimization restart 70/200, f = -123423.06258941602\n",
            "Optimization restart 71/200, f = -123410.74784943886\n",
            "Optimization restart 72/200, f = -125460.1821709661\n",
            "Optimization restart 73/200, f = -123410.7615539227\n",
            "Optimization restart 74/200, f = -123410.75113864857\n",
            "Optimization restart 75/200, f = -125460.18280254383\n",
            "Optimization restart 76/200, f = -123410.7507602909\n",
            "Optimization restart 77/200, f = -123410.75082925614\n",
            "Optimization restart 78/200, f = -123410.75045870796\n",
            "Optimization restart 79/200, f = -123410.8746724219\n",
            "Optimization restart 80/200, f = -125460.18280254104\n",
            "Optimization restart 81/200, f = -125460.18256263784\n",
            "Optimization restart 82/200, f = -122814.79296365449\n",
            "Optimization restart 83/200, f = -123423.06260115124\n",
            "Optimization restart 84/200, f = -123410.75086227615\n",
            "Optimization restart 85/200, f = -125460.18280224163\n",
            "Optimization restart 86/200, f = -123410.80971857178\n",
            "Optimization restart 87/200, f = -123410.7043108628\n",
            "Optimization restart 88/200, f = -123411.09739979098\n",
            "Optimization restart 89/200, f = -123410.75699194537\n",
            "Optimization restart 90/200, f = -125460.18280248338\n",
            "Optimization restart 91/200, f = -120367.04197926604\n",
            "Optimization restart 92/200, f = -123423.06259632864\n",
            "Optimization restart 93/200, f = -123410.75180671482\n",
            "Optimization restart 94/200, f = -125460.18181441833\n",
            "Optimization restart 95/200, f = -125460.18280255086\n",
            "Optimization restart 96/200, f = -123423.06260377524\n",
            "Optimization restart 97/200, f = -125460.18280253933\n",
            "Optimization restart 98/200, f = -121584.96315035224\n",
            "Optimization restart 99/200, f = -125460.18280108232\n",
            "Optimization restart 100/200, f = -123423.06259493544\n",
            "Optimization restart 101/200, f = -123410.75128111057\n",
            "Optimization restart 102/200, f = -125460.18265416884\n",
            "Optimization restart 103/200, f = -125460.18280121082\n",
            "Optimization restart 104/200, f = -125460.18123502123\n",
            "Optimization restart 105/200, f = -125460.18280248358\n",
            "Optimization restart 106/200, f = -125460.1828025505\n",
            "Optimization restart 107/200, f = -123410.75126884403\n",
            "Optimization restart 108/200, f = -123410.7676688848\n",
            "Optimization restart 109/200, f = -123260.63815620591\n",
            "Optimization restart 110/200, f = -123410.85017442437\n",
            "Optimization restart 111/200, f = -123423.05950091365\n",
            "Optimization restart 112/200, f = -122814.60573494417\n",
            "Optimization restart 113/200, f = -123423.06260202492\n",
            "Optimization restart 114/200, f = -120367.0421670839\n",
            "Optimization restart 115/200, f = -125460.18280237255\n",
            "Optimization restart 116/200, f = -123423.06260233364\n",
            "Optimization restart 117/200, f = -125460.18280237507\n",
            "Optimization restart 118/200, f = -125460.18171617585\n",
            "Optimization restart 119/200, f = -123410.75121835408\n",
            "Optimization restart 120/200, f = -123410.75702181798\n",
            "Optimization restart 121/200, f = -125460.08573057098\n",
            "Optimization restart 122/200, f = -123410.75099145173\n",
            "Optimization restart 123/200, f = -123410.74906983839\n",
            "Optimization restart 124/200, f = -123410.86664687685\n",
            "Optimization restart 125/200, f = -111492.58377243938\n",
            "Optimization restart 126/200, f = -123410.75023169686\n",
            "Optimization restart 127/200, f = -123410.96854918925\n",
            "Optimization restart 128/200, f = -123410.75183349417\n",
            "Optimization restart 129/200, f = -123410.7512405075\n",
            "Optimization restart 130/200, f = -123410.75121799583\n",
            "Optimization restart 131/200, f = -123423.06260315968\n",
            "Optimization restart 132/200, f = -120367.04213358721\n",
            "Optimization restart 133/200, f = -123410.75121775683\n",
            "Optimization restart 134/200, f = -125460.1828017026\n",
            "Optimization restart 135/200, f = -123410.74977384032\n",
            "Optimization restart 136/200, f = -111492.64270264313\n",
            "Optimization restart 137/200, f = -125460.18280201581\n",
            "Optimization restart 138/200, f = -123423.06260121788\n",
            "Optimization restart 139/200, f = -123410.75095381368\n",
            "Optimization restart 140/200, f = -123410.75243978282\n",
            "Optimization restart 141/200, f = -125460.18280227922\n",
            "Optimization restart 142/200, f = -111492.58380380359\n",
            "Optimization restart 143/200, f = -123410.56250225406\n",
            "Optimization restart 144/200, f = -125460.18240073408\n",
            "Optimization restart 145/200, f = -123285.13098473634\n",
            "Optimization restart 146/200, f = -123410.82245640275\n",
            "Optimization restart 147/200, f = -123410.76101104106\n",
            "Optimization restart 148/200, f = -125460.1826797749\n",
            "Optimization restart 149/200, f = -123423.06260266941\n",
            "Optimization restart 150/200, f = -123410.7509991921\n",
            "Optimization restart 151/200, f = -123410.79159415944\n",
            "Optimization restart 152/200, f = -123410.75044329079\n",
            "Optimization restart 153/200, f = -123410.75121874349\n",
            "Optimization restart 154/200, f = -116352.66224989008\n",
            "Optimization restart 155/200, f = -123411.10024249501\n",
            "Optimization restart 156/200, f = -123410.7613758319\n",
            "Optimization restart 157/200, f = -125460.18278434702\n",
            "Optimization restart 158/200, f = -123410.76556090002\n",
            "Optimization restart 159/200, f = -123410.75037808724\n",
            "Optimization restart 160/200, f = -125460.18279920604\n",
            "Optimization restart 161/200, f = -123423.06260359068\n",
            "Optimization restart 162/200, f = -123423.06258755749\n",
            "Optimization restart 163/200, f = -125460.13602105681\n",
            "Optimization restart 164/200, f = -125460.18280244872\n",
            "Optimization restart 165/200, f = -123411.32083275156\n",
            "Optimization restart 166/200, f = -123410.83426410727\n",
            "Optimization restart 167/200, f = -123423.06242425813\n",
            "Optimization restart 168/200, f = -120367.04213670087\n",
            "Optimization restart 169/200, f = -123251.6997462355\n",
            "Optimization restart 170/200, f = -123410.82242679659\n",
            "Optimization restart 171/200, f = -123423.06260369194\n",
            "Optimization restart 172/200, f = -125460.18280074107\n",
            "Optimization restart 173/200, f = -122814.62281023122\n",
            "Optimization restart 174/200, f = -123410.75223383433\n",
            "Optimization restart 175/200, f = -125460.18275227427\n",
            "Optimization restart 176/200, f = -125460.18241943451\n",
            "Optimization restart 177/200, f = -125460.18280221376\n",
            "Optimization restart 178/200, f = -123410.83131764442\n",
            "Optimization restart 179/200, f = -120367.04219570081\n",
            "Optimization restart 180/200, f = -125460.18280201351\n",
            "Optimization restart 181/200, f = -123410.76711524458\n",
            "Optimization restart 182/200, f = -123423.06260134967\n",
            "Optimization restart 183/200, f = -125460.18280254137\n",
            "Optimization restart 184/200, f = -125460.18260988446\n",
            "Optimization restart 185/200, f = -123410.75892155955\n",
            "Optimization restart 186/200, f = -123410.76740695446\n",
            "Optimization restart 187/200, f = -122814.9437705644\n",
            "Optimization restart 188/200, f = -123410.78402638873\n",
            "Optimization restart 189/200, f = -125460.1827985018\n",
            "Optimization restart 190/200, f = -120366.98685638174\n",
            "Optimization restart 191/200, f = -123410.75092812657\n",
            "Optimization restart 192/200, f = -125460.18280244838\n",
            "Optimization restart 193/200, f = -125460.1827572542\n",
            "Optimization restart 194/200, f = -123410.76080223649\n",
            "Optimization restart 195/200, f = -120367.04122429623\n",
            "Optimization restart 196/200, f = -123411.31098790694\n",
            "Optimization restart 197/200, f = -123410.80724203732\n",
            "Optimization restart 198/200, f = -123410.7538392772\n",
            "Optimization restart 199/200, f = -123410.81680994623\n",
            "Optimization restart 200/200, f = -123410.78998583677\n"
          ]
        }
      ],
      "source": [
        "kernels = [GPy.kern.Matern32(input_dim=2,lengthscale=[10,10],variance=0.005, ARD=True),GPy.kern.Matern32(input_dim=2,lengthscale=[10,10],variance=0.005, ARD=True)]\n",
        "# for kernel in kernels:\n",
        "#     kernel.lengthscale.constrain_bounded(0, 50)\n",
        "#     kernel.variance.constrain_bounded(0, 10)\n",
        "for i, kernel in enumerate(kernels):\n",
        "    if i == 0:  # First fidelity\n",
        "        kernel.lengthscale.constrain_bounded(0,1000)\n",
        "        kernel.variance.constrain_bounded(0, 5)\n",
        "    elif i == 1:  # Second fidelity\n",
        "        kernel.lengthscale.constrain_bounded(0, 1000)\n",
        "        kernel.variance.constrain_bounded(0, 10)\n",
        "lin_mf_kernel = emukit.multi_fidelity.kernels.LinearMultiFidelityKernel(kernels)\n",
        "\n",
        "gpy_lin_mf_model = GPyLinearMultiFidelityModel(X_train, Y_train, lin_mf_kernel, n_fidelities=2)\n",
        "\n",
        "\n",
        "gpy_lin_mf_model.mixed_noise.Gaussian_noise_1.fix(0.01)\n",
        "\n",
        "lin_mf_model =model=GPyMultiOutputWrapper(gpy_lin_mf_model, 2, n_optimization_restarts=200)\n",
        "\n",
        "## Fit the model\n",
        "\n",
        "lin_mf_model.optimize()"
      ]
    },
    {
      "cell_type": "code",
      "execution_count": 17,
      "metadata": {
        "colab": {
          "base_uri": "https://localhost:8080/"
        },
        "id": "IBgELLUcpshP",
        "outputId": "d425d65e-1dfa-4cf5-ca60-9e6c4c5c3744"
      },
      "outputs": [
        {
          "output_type": "stream",
          "name": "stdout",
          "text": [
            "\n",
            "Name : gp\n",
            "Objective : -125460.18280255086\n",
            "Number of Parameters : 9\n",
            "Number of Optimization Parameters : 8\n",
            "Updates : True\n",
            "Parameters:\n",
            "  \u001b[1mgp.                                  \u001b[0;0m  |                   value  |  constraints  |  priors\n",
            "  \u001b[1mmultifidelity.Mat32.variance         \u001b[0;0m  |    0.000505037942113845  |    0.0,5.0    |        \n",
            "  \u001b[1mmultifidelity.Mat32.lengthscale      \u001b[0;0m  |                    (2,)  |  0.0,1000.0   |        \n",
            "  \u001b[1mmultifidelity.Mat32_1.variance       \u001b[0;0m  |  3.7390734172476537e-16  |   0.0,10.0    |        \n",
            "  \u001b[1mmultifidelity.Mat32_1.lengthscale    \u001b[0;0m  |                    (2,)  |  0.0,1000.0   |        \n",
            "  \u001b[1mmultifidelity.scale                  \u001b[0;0m  |      0.1740637015843015  |               |        \n",
            "  \u001b[1mmixed_noise.Gaussian_noise.variance  \u001b[0;0m  |  2.6138727375693548e-45  |      +ve      |        \n",
            "  \u001b[1mmixed_noise.Gaussian_noise_1.variance\u001b[0;0m  |                    0.01  |   +ve fixed   |        \n"
          ]
        }
      ],
      "source": [
        " print(gpy_lin_mf_model)"
      ]
    },
    {
      "cell_type": "code",
      "execution_count": 18,
      "metadata": {
        "id": "uuVF4Ee15kI1"
      },
      "outputs": [],
      "source": [
        "\n",
        "#x_plot=np.reshape(x,[10000,2])\n",
        "x_plot=np.array([[70,50],[60,30],[60,0],[50,80],[40,30]])\n",
        "X_plot_l=np.c_[ x_plot, np.zeros(len(x_plot)) ]\n",
        "X_plot_h=np.c_[ x_plot, np.ones(len(x_plot)) ]"
      ]
    },
    {
      "cell_type": "code",
      "execution_count": 19,
      "metadata": {
        "id": "h1t9KHLf0BTj"
      },
      "outputs": [],
      "source": [
        "hf_mean_lin_mf_model, hf_var_lin_mf_model = lin_mf_model.predict(X_plot_h)\n"
      ]
    },
    {
      "cell_type": "code",
      "execution_count": 20,
      "metadata": {
        "id": "xMByEtnf1JYN"
      },
      "outputs": [],
      "source": [
        "xdatap=ALL_xdata.values\n",
        "xcp=xdatap[:,[0,1]]\n",
        "xtdata=xcp[selected_indices.flatten()]\n",
        "ind_pr=0"
      ]
    },
    {
      "cell_type": "code",
      "execution_count": 21,
      "metadata": {
        "id": "rgs-ExxjJ9pd"
      },
      "outputs": [],
      "source": [
        "predarray=hf_mean_lin_mf_model[ind_pr,:].reshape(-1, 1)\n",
        "\n"
      ]
    },
    {
      "cell_type": "code",
      "execution_count": 22,
      "metadata": {
        "id": "BQdwwNmt88H0",
        "colab": {
          "base_uri": "https://localhost:8080/",
          "height": 390
        },
        "outputId": "9bcd57e8-2725-456e-e173-31b89f0216d3"
      },
      "outputs": [
        {
          "output_type": "stream",
          "name": "stdout",
          "text": [
            "KeyboardInterrupt caught, calling on_optimization_end() to round things up\n"
          ]
        },
        {
          "output_type": "error",
          "ename": "KeyboardInterrupt",
          "evalue": "ignored",
          "traceback": [
            "\u001b[0;31m---------------------------------------------------------------------------\u001b[0m",
            "\u001b[0;31mKeyboardInterrupt\u001b[0m                         Traceback (most recent call last)",
            "\u001b[0;32m<ipython-input-22-2ed1ab602845>\u001b[0m in \u001b[0;36m<cell line: 14>\u001b[0;34m()\u001b[0m\n\u001b[1;32m     12\u001b[0m \u001b[0;31m# gpr_model.Gaussian_noise.fix(0.01)\u001b[0m\u001b[0;34m\u001b[0m\u001b[0;34m\u001b[0m\u001b[0m\n\u001b[1;32m     13\u001b[0m \u001b[0;31m# Optimize the model parameters  gpr_model.optimize()\u001b[0m\u001b[0;34m\u001b[0m\u001b[0;34m\u001b[0m\u001b[0m\n\u001b[0;32m---> 14\u001b[0;31m \u001b[0mgpr_model\u001b[0m\u001b[0;34m.\u001b[0m\u001b[0moptimize_restarts\u001b[0m\u001b[0;34m(\u001b[0m\u001b[0;36m5\u001b[0m\u001b[0;34m)\u001b[0m\u001b[0;34m\u001b[0m\u001b[0;34m\u001b[0m\u001b[0m\n\u001b[0m\u001b[1;32m     15\u001b[0m \u001b[0;34m\u001b[0m\u001b[0m\n",
            "\u001b[0;32m/usr/local/lib/python3.10/dist-packages/paramz/model.py\u001b[0m in \u001b[0;36moptimize_restarts\u001b[0;34m(self, num_restarts, robust, verbose, parallel, num_processes, **kwargs)\u001b[0m\n\u001b[1;32m    170\u001b[0m                     \u001b[0;32mif\u001b[0m \u001b[0mi\u001b[0m \u001b[0;34m>\u001b[0m \u001b[0;36m0\u001b[0m\u001b[0;34m:\u001b[0m\u001b[0;34m\u001b[0m\u001b[0;34m\u001b[0m\u001b[0m\n\u001b[1;32m    171\u001b[0m                         \u001b[0mself\u001b[0m\u001b[0;34m.\u001b[0m\u001b[0mrandomize\u001b[0m\u001b[0;34m(\u001b[0m\u001b[0;34m)\u001b[0m\u001b[0;34m\u001b[0m\u001b[0;34m\u001b[0m\u001b[0m\n\u001b[0;32m--> 172\u001b[0;31m                     \u001b[0mself\u001b[0m\u001b[0;34m.\u001b[0m\u001b[0moptimize\u001b[0m\u001b[0;34m(\u001b[0m\u001b[0;34m**\u001b[0m\u001b[0mkwargs\u001b[0m\u001b[0;34m)\u001b[0m\u001b[0;34m\u001b[0m\u001b[0;34m\u001b[0m\u001b[0m\n\u001b[0m\u001b[1;32m    173\u001b[0m                 \u001b[0;32melse\u001b[0m\u001b[0;34m:\u001b[0m\u001b[0;31m#pragma: no cover\u001b[0m\u001b[0;34m\u001b[0m\u001b[0;34m\u001b[0m\u001b[0m\n\u001b[1;32m    174\u001b[0m                     \u001b[0mself\u001b[0m\u001b[0;34m.\u001b[0m\u001b[0moptimization_runs\u001b[0m\u001b[0;34m.\u001b[0m\u001b[0mappend\u001b[0m\u001b[0;34m(\u001b[0m\u001b[0mjobs\u001b[0m\u001b[0;34m[\u001b[0m\u001b[0mi\u001b[0m\u001b[0;34m]\u001b[0m\u001b[0;34m)\u001b[0m\u001b[0;34m\u001b[0m\u001b[0;34m\u001b[0m\u001b[0m\n",
            "\u001b[0;32m/usr/local/lib/python3.10/dist-packages/GPy/core/gp.py\u001b[0m in \u001b[0;36moptimize\u001b[0;34m(self, optimizer, start, messages, max_iters, ipython_notebook, clear_after_finish, **kwargs)\u001b[0m\n\u001b[1;32m    673\u001b[0m         \u001b[0mself\u001b[0m\u001b[0;34m.\u001b[0m\u001b[0minference_method\u001b[0m\u001b[0;34m.\u001b[0m\u001b[0mon_optimization_start\u001b[0m\u001b[0;34m(\u001b[0m\u001b[0;34m)\u001b[0m\u001b[0;34m\u001b[0m\u001b[0;34m\u001b[0m\u001b[0m\n\u001b[1;32m    674\u001b[0m         \u001b[0;32mtry\u001b[0m\u001b[0;34m:\u001b[0m\u001b[0;34m\u001b[0m\u001b[0;34m\u001b[0m\u001b[0m\n\u001b[0;32m--> 675\u001b[0;31m             \u001b[0mret\u001b[0m \u001b[0;34m=\u001b[0m \u001b[0msuper\u001b[0m\u001b[0;34m(\u001b[0m\u001b[0mGP\u001b[0m\u001b[0;34m,\u001b[0m \u001b[0mself\u001b[0m\u001b[0;34m)\u001b[0m\u001b[0;34m.\u001b[0m\u001b[0moptimize\u001b[0m\u001b[0;34m(\u001b[0m\u001b[0moptimizer\u001b[0m\u001b[0;34m,\u001b[0m \u001b[0mstart\u001b[0m\u001b[0;34m,\u001b[0m \u001b[0mmessages\u001b[0m\u001b[0;34m,\u001b[0m \u001b[0mmax_iters\u001b[0m\u001b[0;34m,\u001b[0m \u001b[0mipython_notebook\u001b[0m\u001b[0;34m,\u001b[0m \u001b[0mclear_after_finish\u001b[0m\u001b[0;34m,\u001b[0m \u001b[0;34m**\u001b[0m\u001b[0mkwargs\u001b[0m\u001b[0;34m)\u001b[0m\u001b[0;34m\u001b[0m\u001b[0;34m\u001b[0m\u001b[0m\n\u001b[0m\u001b[1;32m    676\u001b[0m         \u001b[0;32mexcept\u001b[0m \u001b[0mKeyboardInterrupt\u001b[0m\u001b[0;34m:\u001b[0m\u001b[0;34m\u001b[0m\u001b[0;34m\u001b[0m\u001b[0m\n\u001b[1;32m    677\u001b[0m             \u001b[0mprint\u001b[0m\u001b[0;34m(\u001b[0m\u001b[0;34m\"KeyboardInterrupt caught, calling on_optimization_end() to round things up\"\u001b[0m\u001b[0;34m)\u001b[0m\u001b[0;34m\u001b[0m\u001b[0;34m\u001b[0m\u001b[0m\n",
            "\u001b[0;32m/usr/local/lib/python3.10/dist-packages/paramz/model.py\u001b[0m in \u001b[0;36moptimize\u001b[0;34m(self, optimizer, start, messages, max_iters, ipython_notebook, clear_after_finish, **kwargs)\u001b[0m\n\u001b[1;32m    111\u001b[0m             \u001b[0mopt\u001b[0m\u001b[0;34m.\u001b[0m\u001b[0mrun\u001b[0m\u001b[0;34m(\u001b[0m\u001b[0mstart\u001b[0m\u001b[0;34m,\u001b[0m \u001b[0mf_fp\u001b[0m\u001b[0;34m=\u001b[0m\u001b[0mself\u001b[0m\u001b[0;34m.\u001b[0m\u001b[0m_objective_grads\u001b[0m\u001b[0;34m,\u001b[0m \u001b[0mf\u001b[0m\u001b[0;34m=\u001b[0m\u001b[0mself\u001b[0m\u001b[0;34m.\u001b[0m\u001b[0m_objective\u001b[0m\u001b[0;34m,\u001b[0m \u001b[0mfp\u001b[0m\u001b[0;34m=\u001b[0m\u001b[0mself\u001b[0m\u001b[0;34m.\u001b[0m\u001b[0m_grads\u001b[0m\u001b[0;34m)\u001b[0m\u001b[0;34m\u001b[0m\u001b[0;34m\u001b[0m\u001b[0m\n\u001b[1;32m    112\u001b[0m \u001b[0;34m\u001b[0m\u001b[0m\n\u001b[0;32m--> 113\u001b[0;31m         \u001b[0mself\u001b[0m\u001b[0;34m.\u001b[0m\u001b[0moptimizer_array\u001b[0m \u001b[0;34m=\u001b[0m \u001b[0mopt\u001b[0m\u001b[0;34m.\u001b[0m\u001b[0mx_opt\u001b[0m\u001b[0;34m\u001b[0m\u001b[0;34m\u001b[0m\u001b[0m\n\u001b[0m\u001b[1;32m    114\u001b[0m \u001b[0;34m\u001b[0m\u001b[0m\n\u001b[1;32m    115\u001b[0m         \u001b[0mself\u001b[0m\u001b[0;34m.\u001b[0m\u001b[0moptimization_runs\u001b[0m\u001b[0;34m.\u001b[0m\u001b[0mappend\u001b[0m\u001b[0;34m(\u001b[0m\u001b[0mopt\u001b[0m\u001b[0;34m)\u001b[0m\u001b[0;34m\u001b[0m\u001b[0;34m\u001b[0m\u001b[0m\n",
            "\u001b[0;32m/usr/local/lib/python3.10/dist-packages/paramz/parameterized.py\u001b[0m in \u001b[0;36m__setattr__\u001b[0;34m(self, name, val)\u001b[0m\n\u001b[1;32m    337\u001b[0m                 \u001b[0mparam\u001b[0m \u001b[0;34m=\u001b[0m \u001b[0mself\u001b[0m\u001b[0;34m.\u001b[0m\u001b[0mparameters\u001b[0m\u001b[0;34m[\u001b[0m\u001b[0mpnames\u001b[0m\u001b[0;34m.\u001b[0m\u001b[0mindex\u001b[0m\u001b[0;34m(\u001b[0m\u001b[0mname\u001b[0m\u001b[0;34m)\u001b[0m\u001b[0;34m]\u001b[0m\u001b[0;34m\u001b[0m\u001b[0;34m\u001b[0m\u001b[0m\n\u001b[1;32m    338\u001b[0m                 \u001b[0mparam\u001b[0m\u001b[0;34m[\u001b[0m\u001b[0;34m:\u001b[0m\u001b[0;34m]\u001b[0m \u001b[0;34m=\u001b[0m \u001b[0mval\u001b[0m\u001b[0;34m;\u001b[0m \u001b[0;32mreturn\u001b[0m\u001b[0;34m\u001b[0m\u001b[0;34m\u001b[0m\u001b[0m\n\u001b[0;32m--> 339\u001b[0;31m         \u001b[0;32mreturn\u001b[0m \u001b[0mobject\u001b[0m\u001b[0;34m.\u001b[0m\u001b[0m__setattr__\u001b[0m\u001b[0;34m(\u001b[0m\u001b[0mself\u001b[0m\u001b[0;34m,\u001b[0m \u001b[0mname\u001b[0m\u001b[0;34m,\u001b[0m \u001b[0mval\u001b[0m\u001b[0;34m)\u001b[0m\u001b[0;34m\u001b[0m\u001b[0;34m\u001b[0m\u001b[0m\n\u001b[0m\u001b[1;32m    340\u001b[0m \u001b[0;34m\u001b[0m\u001b[0m\n\u001b[1;32m    341\u001b[0m     \u001b[0;31m#===========================================================================\u001b[0m\u001b[0;34m\u001b[0m\u001b[0;34m\u001b[0m\u001b[0m\n",
            "\u001b[0;32m/usr/local/lib/python3.10/dist-packages/paramz/core/parameter_core.py\u001b[0m in \u001b[0;36moptimizer_array\u001b[0;34m(self, p)\u001b[0m\n\u001b[1;32m    122\u001b[0m \u001b[0;34m\u001b[0m\u001b[0m\n\u001b[1;32m    123\u001b[0m         \u001b[0mself\u001b[0m\u001b[0;34m.\u001b[0m\u001b[0m_optimizer_copy_transformed\u001b[0m \u001b[0;34m=\u001b[0m \u001b[0;32mFalse\u001b[0m\u001b[0;34m\u001b[0m\u001b[0;34m\u001b[0m\u001b[0m\n\u001b[0;32m--> 124\u001b[0;31m         \u001b[0mself\u001b[0m\u001b[0;34m.\u001b[0m\u001b[0mtrigger_update\u001b[0m\u001b[0;34m(\u001b[0m\u001b[0;34m)\u001b[0m\u001b[0;34m\u001b[0m\u001b[0;34m\u001b[0m\u001b[0m\n\u001b[0m\u001b[1;32m    125\u001b[0m \u001b[0;34m\u001b[0m\u001b[0m\n\u001b[1;32m    126\u001b[0m     \u001b[0;32mdef\u001b[0m \u001b[0m_trigger_params_changed\u001b[0m\u001b[0;34m(\u001b[0m\u001b[0mself\u001b[0m\u001b[0;34m,\u001b[0m \u001b[0mtrigger_parent\u001b[0m\u001b[0;34m=\u001b[0m\u001b[0;32mTrue\u001b[0m\u001b[0;34m)\u001b[0m\u001b[0;34m:\u001b[0m\u001b[0;34m\u001b[0m\u001b[0;34m\u001b[0m\u001b[0m\n",
            "\u001b[0;32m/usr/local/lib/python3.10/dist-packages/paramz/core/updateable.py\u001b[0m in \u001b[0;36mtrigger_update\u001b[0;34m(self, trigger_parent)\u001b[0m\n\u001b[1;32m     77\u001b[0m             \u001b[0;31m#print \"Warning: updates are off, updating the model will do nothing\"\u001b[0m\u001b[0;34m\u001b[0m\u001b[0;34m\u001b[0m\u001b[0m\n\u001b[1;32m     78\u001b[0m             \u001b[0;32mreturn\u001b[0m\u001b[0;34m\u001b[0m\u001b[0;34m\u001b[0m\u001b[0m\n\u001b[0;32m---> 79\u001b[0;31m         \u001b[0mself\u001b[0m\u001b[0;34m.\u001b[0m\u001b[0m_trigger_params_changed\u001b[0m\u001b[0;34m(\u001b[0m\u001b[0mtrigger_parent\u001b[0m\u001b[0;34m)\u001b[0m\u001b[0;34m\u001b[0m\u001b[0;34m\u001b[0m\u001b[0m\n\u001b[0m",
            "\u001b[0;32m/usr/local/lib/python3.10/dist-packages/paramz/core/parameter_core.py\u001b[0m in \u001b[0;36m_trigger_params_changed\u001b[0;34m(self, trigger_parent)\u001b[0m\n\u001b[1;32m    132\u001b[0m         \"\"\"\n\u001b[1;32m    133\u001b[0m         \u001b[0;34m[\u001b[0m\u001b[0mp\u001b[0m\u001b[0;34m.\u001b[0m\u001b[0m_trigger_params_changed\u001b[0m\u001b[0;34m(\u001b[0m\u001b[0mtrigger_parent\u001b[0m\u001b[0;34m=\u001b[0m\u001b[0;32mFalse\u001b[0m\u001b[0;34m)\u001b[0m \u001b[0;32mfor\u001b[0m \u001b[0mp\u001b[0m \u001b[0;32min\u001b[0m \u001b[0mself\u001b[0m\u001b[0;34m.\u001b[0m\u001b[0mparameters\u001b[0m \u001b[0;32mif\u001b[0m \u001b[0;32mnot\u001b[0m \u001b[0mp\u001b[0m\u001b[0;34m.\u001b[0m\u001b[0mis_fixed\u001b[0m\u001b[0;34m]\u001b[0m\u001b[0;34m\u001b[0m\u001b[0;34m\u001b[0m\u001b[0m\n\u001b[0;32m--> 134\u001b[0;31m         \u001b[0mself\u001b[0m\u001b[0;34m.\u001b[0m\u001b[0mnotify_observers\u001b[0m\u001b[0;34m(\u001b[0m\u001b[0;32mNone\u001b[0m\u001b[0;34m,\u001b[0m \u001b[0;32mNone\u001b[0m \u001b[0;32mif\u001b[0m \u001b[0mtrigger_parent\u001b[0m \u001b[0;32melse\u001b[0m \u001b[0;34m-\u001b[0m\u001b[0mnp\u001b[0m\u001b[0;34m.\u001b[0m\u001b[0minf\u001b[0m\u001b[0;34m)\u001b[0m\u001b[0;34m\u001b[0m\u001b[0;34m\u001b[0m\u001b[0m\n\u001b[0m\u001b[1;32m    135\u001b[0m \u001b[0;34m\u001b[0m\u001b[0m\n\u001b[1;32m    136\u001b[0m     \u001b[0;32mdef\u001b[0m \u001b[0m_size_transformed\u001b[0m\u001b[0;34m(\u001b[0m\u001b[0mself\u001b[0m\u001b[0;34m)\u001b[0m\u001b[0;34m:\u001b[0m\u001b[0;34m\u001b[0m\u001b[0;34m\u001b[0m\u001b[0m\n",
            "\u001b[0;32m/usr/local/lib/python3.10/dist-packages/paramz/core/observable.py\u001b[0m in \u001b[0;36mnotify_observers\u001b[0;34m(self, which, min_priority)\u001b[0m\n\u001b[1;32m     89\u001b[0m                 \u001b[0mwhich\u001b[0m \u001b[0;34m=\u001b[0m \u001b[0mself\u001b[0m\u001b[0;34m\u001b[0m\u001b[0;34m\u001b[0m\u001b[0m\n\u001b[1;32m     90\u001b[0m             \u001b[0;32mif\u001b[0m \u001b[0mmin_priority\u001b[0m \u001b[0;32mis\u001b[0m \u001b[0;32mNone\u001b[0m\u001b[0;34m:\u001b[0m\u001b[0;34m\u001b[0m\u001b[0;34m\u001b[0m\u001b[0m\n\u001b[0;32m---> 91\u001b[0;31m                 \u001b[0;34m[\u001b[0m\u001b[0mcallble\u001b[0m\u001b[0;34m(\u001b[0m\u001b[0mself\u001b[0m\u001b[0;34m,\u001b[0m \u001b[0mwhich\u001b[0m\u001b[0;34m=\u001b[0m\u001b[0mwhich\u001b[0m\u001b[0;34m)\u001b[0m \u001b[0;32mfor\u001b[0m \u001b[0m_\u001b[0m\u001b[0;34m,\u001b[0m \u001b[0m_\u001b[0m\u001b[0;34m,\u001b[0m \u001b[0mcallble\u001b[0m \u001b[0;32min\u001b[0m \u001b[0mself\u001b[0m\u001b[0;34m.\u001b[0m\u001b[0mobservers\u001b[0m\u001b[0;34m]\u001b[0m\u001b[0;34m\u001b[0m\u001b[0;34m\u001b[0m\u001b[0m\n\u001b[0m\u001b[1;32m     92\u001b[0m             \u001b[0;32melse\u001b[0m\u001b[0;34m:\u001b[0m\u001b[0;34m\u001b[0m\u001b[0;34m\u001b[0m\u001b[0m\n\u001b[1;32m     93\u001b[0m                 \u001b[0;32mfor\u001b[0m \u001b[0mp\u001b[0m\u001b[0;34m,\u001b[0m \u001b[0m_\u001b[0m\u001b[0;34m,\u001b[0m \u001b[0mcallble\u001b[0m \u001b[0;32min\u001b[0m \u001b[0mself\u001b[0m\u001b[0;34m.\u001b[0m\u001b[0mobservers\u001b[0m\u001b[0;34m:\u001b[0m\u001b[0;34m\u001b[0m\u001b[0;34m\u001b[0m\u001b[0m\n",
            "\u001b[0;32m/usr/local/lib/python3.10/dist-packages/paramz/core/observable.py\u001b[0m in \u001b[0;36m<listcomp>\u001b[0;34m(.0)\u001b[0m\n\u001b[1;32m     89\u001b[0m                 \u001b[0mwhich\u001b[0m \u001b[0;34m=\u001b[0m \u001b[0mself\u001b[0m\u001b[0;34m\u001b[0m\u001b[0;34m\u001b[0m\u001b[0m\n\u001b[1;32m     90\u001b[0m             \u001b[0;32mif\u001b[0m \u001b[0mmin_priority\u001b[0m \u001b[0;32mis\u001b[0m \u001b[0;32mNone\u001b[0m\u001b[0;34m:\u001b[0m\u001b[0;34m\u001b[0m\u001b[0;34m\u001b[0m\u001b[0m\n\u001b[0;32m---> 91\u001b[0;31m                 \u001b[0;34m[\u001b[0m\u001b[0mcallble\u001b[0m\u001b[0;34m(\u001b[0m\u001b[0mself\u001b[0m\u001b[0;34m,\u001b[0m \u001b[0mwhich\u001b[0m\u001b[0;34m=\u001b[0m\u001b[0mwhich\u001b[0m\u001b[0;34m)\u001b[0m \u001b[0;32mfor\u001b[0m \u001b[0m_\u001b[0m\u001b[0;34m,\u001b[0m \u001b[0m_\u001b[0m\u001b[0;34m,\u001b[0m \u001b[0mcallble\u001b[0m \u001b[0;32min\u001b[0m \u001b[0mself\u001b[0m\u001b[0;34m.\u001b[0m\u001b[0mobservers\u001b[0m\u001b[0;34m]\u001b[0m\u001b[0;34m\u001b[0m\u001b[0;34m\u001b[0m\u001b[0m\n\u001b[0m\u001b[1;32m     92\u001b[0m             \u001b[0;32melse\u001b[0m\u001b[0;34m:\u001b[0m\u001b[0;34m\u001b[0m\u001b[0;34m\u001b[0m\u001b[0m\n\u001b[1;32m     93\u001b[0m                 \u001b[0;32mfor\u001b[0m \u001b[0mp\u001b[0m\u001b[0;34m,\u001b[0m \u001b[0m_\u001b[0m\u001b[0;34m,\u001b[0m \u001b[0mcallble\u001b[0m \u001b[0;32min\u001b[0m \u001b[0mself\u001b[0m\u001b[0;34m.\u001b[0m\u001b[0mobservers\u001b[0m\u001b[0;34m:\u001b[0m\u001b[0;34m\u001b[0m\u001b[0;34m\u001b[0m\u001b[0m\n",
            "\u001b[0;32m/usr/local/lib/python3.10/dist-packages/paramz/core/parameter_core.py\u001b[0m in \u001b[0;36m_parameters_changed_notification\u001b[0;34m(self, me, which)\u001b[0m\n\u001b[1;32m    506\u001b[0m         \"\"\"\n\u001b[1;32m    507\u001b[0m         \u001b[0mself\u001b[0m\u001b[0;34m.\u001b[0m\u001b[0m_optimizer_copy_transformed\u001b[0m \u001b[0;34m=\u001b[0m \u001b[0;32mFalse\u001b[0m \u001b[0;31m# tells the optimizer array to update on next request\u001b[0m\u001b[0;34m\u001b[0m\u001b[0;34m\u001b[0m\u001b[0m\n\u001b[0;32m--> 508\u001b[0;31m         \u001b[0mself\u001b[0m\u001b[0;34m.\u001b[0m\u001b[0mparameters_changed\u001b[0m\u001b[0;34m(\u001b[0m\u001b[0;34m)\u001b[0m\u001b[0;34m\u001b[0m\u001b[0;34m\u001b[0m\u001b[0m\n\u001b[0m\u001b[1;32m    509\u001b[0m     \u001b[0;32mdef\u001b[0m \u001b[0m_pass_through_notify_observers\u001b[0m\u001b[0;34m(\u001b[0m\u001b[0mself\u001b[0m\u001b[0;34m,\u001b[0m \u001b[0mme\u001b[0m\u001b[0;34m,\u001b[0m \u001b[0mwhich\u001b[0m\u001b[0;34m=\u001b[0m\u001b[0;32mNone\u001b[0m\u001b[0;34m)\u001b[0m\u001b[0;34m:\u001b[0m\u001b[0;34m\u001b[0m\u001b[0;34m\u001b[0m\u001b[0m\n\u001b[1;32m    510\u001b[0m         \u001b[0mself\u001b[0m\u001b[0;34m.\u001b[0m\u001b[0mnotify_observers\u001b[0m\u001b[0;34m(\u001b[0m\u001b[0mwhich\u001b[0m\u001b[0;34m=\u001b[0m\u001b[0mwhich\u001b[0m\u001b[0;34m)\u001b[0m\u001b[0;34m\u001b[0m\u001b[0;34m\u001b[0m\u001b[0m\n",
            "\u001b[0;32m/usr/local/lib/python3.10/dist-packages/GPy/core/gp.py\u001b[0m in \u001b[0;36mparameters_changed\u001b[0;34m(self)\u001b[0m\n\u001b[1;32m    272\u001b[0m             \u001b[0mthis\u001b[0m \u001b[0mmethod\u001b[0m \u001b[0myourself\u001b[0m\u001b[0;34m,\u001b[0m \u001b[0mthere\u001b[0m \u001b[0mmay\u001b[0m \u001b[0mbe\u001b[0m \u001b[0munexpected\u001b[0m \u001b[0mconsequences\u001b[0m\u001b[0;34m.\u001b[0m\u001b[0;34m\u001b[0m\u001b[0;34m\u001b[0m\u001b[0m\n\u001b[1;32m    273\u001b[0m         \"\"\"\n\u001b[0;32m--> 274\u001b[0;31m         \u001b[0mself\u001b[0m\u001b[0;34m.\u001b[0m\u001b[0mposterior\u001b[0m\u001b[0;34m,\u001b[0m \u001b[0mself\u001b[0m\u001b[0;34m.\u001b[0m\u001b[0m_log_marginal_likelihood\u001b[0m\u001b[0;34m,\u001b[0m \u001b[0mself\u001b[0m\u001b[0;34m.\u001b[0m\u001b[0mgrad_dict\u001b[0m \u001b[0;34m=\u001b[0m \u001b[0mself\u001b[0m\u001b[0;34m.\u001b[0m\u001b[0minference_method\u001b[0m\u001b[0;34m.\u001b[0m\u001b[0minference\u001b[0m\u001b[0;34m(\u001b[0m\u001b[0mself\u001b[0m\u001b[0;34m.\u001b[0m\u001b[0mkern\u001b[0m\u001b[0;34m,\u001b[0m \u001b[0mself\u001b[0m\u001b[0;34m.\u001b[0m\u001b[0mX\u001b[0m\u001b[0;34m,\u001b[0m \u001b[0mself\u001b[0m\u001b[0;34m.\u001b[0m\u001b[0mlikelihood\u001b[0m\u001b[0;34m,\u001b[0m \u001b[0mself\u001b[0m\u001b[0;34m.\u001b[0m\u001b[0mY_normalized\u001b[0m\u001b[0;34m,\u001b[0m \u001b[0mself\u001b[0m\u001b[0;34m.\u001b[0m\u001b[0mmean_function\u001b[0m\u001b[0;34m,\u001b[0m \u001b[0mself\u001b[0m\u001b[0;34m.\u001b[0m\u001b[0mY_metadata\u001b[0m\u001b[0;34m)\u001b[0m\u001b[0;34m\u001b[0m\u001b[0;34m\u001b[0m\u001b[0m\n\u001b[0m\u001b[1;32m    275\u001b[0m         \u001b[0mself\u001b[0m\u001b[0;34m.\u001b[0m\u001b[0mlikelihood\u001b[0m\u001b[0;34m.\u001b[0m\u001b[0mupdate_gradients\u001b[0m\u001b[0;34m(\u001b[0m\u001b[0mself\u001b[0m\u001b[0;34m.\u001b[0m\u001b[0mgrad_dict\u001b[0m\u001b[0;34m[\u001b[0m\u001b[0;34m'dL_dthetaL'\u001b[0m\u001b[0;34m]\u001b[0m\u001b[0;34m)\u001b[0m\u001b[0;34m\u001b[0m\u001b[0;34m\u001b[0m\u001b[0m\n\u001b[1;32m    276\u001b[0m         \u001b[0mself\u001b[0m\u001b[0;34m.\u001b[0m\u001b[0mkern\u001b[0m\u001b[0;34m.\u001b[0m\u001b[0mupdate_gradients_full\u001b[0m\u001b[0;34m(\u001b[0m\u001b[0mself\u001b[0m\u001b[0;34m.\u001b[0m\u001b[0mgrad_dict\u001b[0m\u001b[0;34m[\u001b[0m\u001b[0;34m'dL_dK'\u001b[0m\u001b[0;34m]\u001b[0m\u001b[0;34m,\u001b[0m \u001b[0mself\u001b[0m\u001b[0;34m.\u001b[0m\u001b[0mX\u001b[0m\u001b[0;34m)\u001b[0m\u001b[0;34m\u001b[0m\u001b[0;34m\u001b[0m\u001b[0m\n",
            "\u001b[0;32m/usr/local/lib/python3.10/dist-packages/GPy/inference/latent_function_inference/exact_gaussian_inference.py\u001b[0m in \u001b[0;36minference\u001b[0;34m(self, kern, X, likelihood, Y, mean_function, Y_metadata, K, variance, Z_tilde)\u001b[0m\n\u001b[1;32m     56\u001b[0m         \u001b[0mdiag\u001b[0m\u001b[0;34m.\u001b[0m\u001b[0madd\u001b[0m\u001b[0;34m(\u001b[0m\u001b[0mKy\u001b[0m\u001b[0;34m,\u001b[0m \u001b[0mvariance\u001b[0m\u001b[0;34m+\u001b[0m\u001b[0;36m1e-8\u001b[0m\u001b[0;34m)\u001b[0m\u001b[0;34m\u001b[0m\u001b[0;34m\u001b[0m\u001b[0m\n\u001b[1;32m     57\u001b[0m \u001b[0;34m\u001b[0m\u001b[0m\n\u001b[0;32m---> 58\u001b[0;31m         \u001b[0mWi\u001b[0m\u001b[0;34m,\u001b[0m \u001b[0mLW\u001b[0m\u001b[0;34m,\u001b[0m \u001b[0mLWi\u001b[0m\u001b[0;34m,\u001b[0m \u001b[0mW_logdet\u001b[0m \u001b[0;34m=\u001b[0m \u001b[0mpdinv\u001b[0m\u001b[0;34m(\u001b[0m\u001b[0mKy\u001b[0m\u001b[0;34m)\u001b[0m\u001b[0;34m\u001b[0m\u001b[0;34m\u001b[0m\u001b[0m\n\u001b[0m\u001b[1;32m     59\u001b[0m \u001b[0;34m\u001b[0m\u001b[0m\n\u001b[1;32m     60\u001b[0m         \u001b[0malpha\u001b[0m\u001b[0;34m,\u001b[0m \u001b[0m_\u001b[0m \u001b[0;34m=\u001b[0m \u001b[0mdpotrs\u001b[0m\u001b[0;34m(\u001b[0m\u001b[0mLW\u001b[0m\u001b[0;34m,\u001b[0m \u001b[0mYYT_factor\u001b[0m\u001b[0;34m,\u001b[0m \u001b[0mlower\u001b[0m\u001b[0;34m=\u001b[0m\u001b[0;36m1\u001b[0m\u001b[0;34m)\u001b[0m\u001b[0;34m\u001b[0m\u001b[0;34m\u001b[0m\u001b[0m\n",
            "\u001b[0;32m/usr/local/lib/python3.10/dist-packages/GPy/util/linalg.py\u001b[0m in \u001b[0;36mpdinv\u001b[0;34m(A, *args)\u001b[0m\n\u001b[1;32m    205\u001b[0m \u001b[0;34m\u001b[0m\u001b[0m\n\u001b[1;32m    206\u001b[0m     \"\"\"\n\u001b[0;32m--> 207\u001b[0;31m     \u001b[0mL\u001b[0m \u001b[0;34m=\u001b[0m \u001b[0mjitchol\u001b[0m\u001b[0;34m(\u001b[0m\u001b[0mA\u001b[0m\u001b[0;34m,\u001b[0m \u001b[0;34m*\u001b[0m\u001b[0margs\u001b[0m\u001b[0;34m)\u001b[0m\u001b[0;34m\u001b[0m\u001b[0;34m\u001b[0m\u001b[0m\n\u001b[0m\u001b[1;32m    208\u001b[0m     \u001b[0mlogdet\u001b[0m \u001b[0;34m=\u001b[0m \u001b[0;36m2.\u001b[0m\u001b[0;34m*\u001b[0m\u001b[0mnp\u001b[0m\u001b[0;34m.\u001b[0m\u001b[0msum\u001b[0m\u001b[0;34m(\u001b[0m\u001b[0mnp\u001b[0m\u001b[0;34m.\u001b[0m\u001b[0mlog\u001b[0m\u001b[0;34m(\u001b[0m\u001b[0mnp\u001b[0m\u001b[0;34m.\u001b[0m\u001b[0mdiag\u001b[0m\u001b[0;34m(\u001b[0m\u001b[0mL\u001b[0m\u001b[0;34m)\u001b[0m\u001b[0;34m)\u001b[0m\u001b[0;34m)\u001b[0m\u001b[0;34m\u001b[0m\u001b[0;34m\u001b[0m\u001b[0m\n\u001b[1;32m    209\u001b[0m     \u001b[0mLi\u001b[0m \u001b[0;34m=\u001b[0m \u001b[0mdtrtri\u001b[0m\u001b[0;34m(\u001b[0m\u001b[0mL\u001b[0m\u001b[0;34m)\u001b[0m\u001b[0;34m\u001b[0m\u001b[0;34m\u001b[0m\u001b[0m\n",
            "\u001b[0;32m/usr/local/lib/python3.10/dist-packages/GPy/util/linalg.py\u001b[0m in \u001b[0;36mjitchol\u001b[0;34m(A, maxtries)\u001b[0m\n\u001b[1;32m     56\u001b[0m \u001b[0;32mdef\u001b[0m \u001b[0mjitchol\u001b[0m\u001b[0;34m(\u001b[0m\u001b[0mA\u001b[0m\u001b[0;34m,\u001b[0m \u001b[0mmaxtries\u001b[0m\u001b[0;34m=\u001b[0m\u001b[0;36m5\u001b[0m\u001b[0;34m)\u001b[0m\u001b[0;34m:\u001b[0m\u001b[0;34m\u001b[0m\u001b[0;34m\u001b[0m\u001b[0m\n\u001b[1;32m     57\u001b[0m     \u001b[0mA\u001b[0m \u001b[0;34m=\u001b[0m \u001b[0mnp\u001b[0m\u001b[0;34m.\u001b[0m\u001b[0mascontiguousarray\u001b[0m\u001b[0;34m(\u001b[0m\u001b[0mA\u001b[0m\u001b[0;34m)\u001b[0m\u001b[0;34m\u001b[0m\u001b[0;34m\u001b[0m\u001b[0m\n\u001b[0;32m---> 58\u001b[0;31m     \u001b[0mL\u001b[0m\u001b[0;34m,\u001b[0m \u001b[0minfo\u001b[0m \u001b[0;34m=\u001b[0m \u001b[0mlapack\u001b[0m\u001b[0;34m.\u001b[0m\u001b[0mdpotrf\u001b[0m\u001b[0;34m(\u001b[0m\u001b[0mA\u001b[0m\u001b[0;34m,\u001b[0m \u001b[0mlower\u001b[0m\u001b[0;34m=\u001b[0m\u001b[0;36m1\u001b[0m\u001b[0;34m)\u001b[0m\u001b[0;34m\u001b[0m\u001b[0;34m\u001b[0m\u001b[0m\n\u001b[0m\u001b[1;32m     59\u001b[0m     \u001b[0;32mif\u001b[0m \u001b[0minfo\u001b[0m \u001b[0;34m==\u001b[0m \u001b[0;36m0\u001b[0m\u001b[0;34m:\u001b[0m\u001b[0;34m\u001b[0m\u001b[0;34m\u001b[0m\u001b[0m\n\u001b[1;32m     60\u001b[0m         \u001b[0;32mreturn\u001b[0m \u001b[0mL\u001b[0m\u001b[0;34m\u001b[0m\u001b[0;34m\u001b[0m\u001b[0m\n",
            "\u001b[0;31mKeyboardInterrupt\u001b[0m: "
          ]
        }
      ],
      "source": [
        "\n",
        "\n",
        "# Create a Gaussian Process Regression model\n",
        "kernel1 = GPy.kern.ExpQuad(input_dim=2,lengthscale=[0.1,0.1],variance=0.01,ARD=True)\n",
        "kernel2 = GPy.kern.Matern32(input_dim=2,lengthscale=[0.1,0.1],variance=0.01,ARD=True)\n",
        "kernel3= GPy.kern.Matern52(input_dim=2,lengthscale=[0.1,0.1],variance=0.01,ARD=True)\n",
        "kernel=kernel2\n",
        "# kernel = kernel1*kernel2+kernel2*kernel3+kernel3*kernel1\n",
        "# kernel = kernel1+kernel1*kernel2*kernel3+kernel2+kernel3+kernel1*kernel2+kernel2*kernel3+kernel1*kernel3\n",
        "# kernel.lengthscale.constrain_bounded(lower=[0, 0], upper=[10, 10])\n",
        "# kernel.variance.constrain_bounded(lower=0, upper=1)\n",
        "gpr_model = GPy.models.GPRegression(xtdata,predarray, kernel)\n",
        "\n",
        "# gpr_model.Gaussian_noise.fix(0.01)\n",
        "# Optimize the model parameters  gpr_model.optimize()\n",
        "gpr_model.optimize_restarts(5)\n",
        "\n"
      ]
    },
    {
      "cell_type": "code",
      "execution_count": null,
      "metadata": {
        "id": "uWth4jTM5gCl"
      },
      "outputs": [],
      "source": [
        "# Predict the entire surface\n",
        "grid_resolution =200  # Resolution of the grid for predictions\n",
        "x1 = np.linspace(0,1, grid_resolution)\n",
        "x2 = np.linspace(0,1, grid_resolution)\n",
        "X_pred = np.meshgrid(x1, x2)\n",
        "X_pred = np.vstack((X_pred[0].flatten(), X_pred[1].flatten())).T\n",
        "Y_pred, Y_pred_var = gpr_model.predict(X_pred)\n",
        "\n",
        "# Reshape the predictions into a grid\n",
        "Y_pred_grid = np.reshape(Y_pred, (grid_resolution, grid_resolution))\n"
      ]
    },
    {
      "cell_type": "code",
      "execution_count": null,
      "metadata": {
        "id": "Jhczjas1b-LO"
      },
      "outputs": [],
      "source": [
        "# Predict the entire surface\n",
        "grid_resolution =200  # Resolution of the grid for predictions\n",
        "x1 = np.linspace(0,1, grid_resolution)\n",
        "x2 = np.linspace(0,1, grid_resolution)\n",
        "X_pred = np.meshgrid(x1, x2)\n",
        "X_pred = np.vstack((X_pred[0].flatten(), X_pred[1].flatten())).T\n",
        "Y_pred, _ = gpr_model.predict(X_pred)\n",
        "\n",
        "# Reshape the predictions into a grid\n",
        "Y_pred_grid = np.reshape(Y_pred, (grid_resolution, grid_resolution))"
      ]
    },
    {
      "cell_type": "markdown",
      "metadata": {
        "id": "GOueoI-PrB0j"
      },
      "source": []
    },
    {
      "cell_type": "code",
      "source": [
        "\n",
        "\n",
        "# Define the kernel with kernel2\n",
        "kernel2 = GPy.kern.Matern32(input_dim=2, lengthscale=[0.1, 0.1], variance=0.01, ARD=True)\n",
        "\n",
        "# Define a list of different initial conditions for hyperparameters\n",
        "initial_conditions = [\n",
        "    {\"lengthscale\": [5, 5], \"variance\": 0.02},  # Initial condition 1\n",
        "    {\"lengthscale\": [0.3, 0.3], \"variance\": 0.03},  # Initial condition 2\n",
        "    {\"lengthscale\": [200,200], \"variance\": 0.2},  # Initial condition 3\n",
        "    {\"lengthscale\": [30,30], \"variance\": 0.3},  # Initial condition 4\n",
        "    # Add more initial conditions as needed\n",
        "]\n",
        "\n",
        "# Loop over different initial conditions\n",
        "for i, initial_condition in enumerate(initial_conditions):\n",
        "    # Create a copy of kernel2 to avoid modifying the original kernel\n",
        "    kernel = kernel2.copy()\n",
        "\n",
        "    # Set the initial conditions for hyperparameters\n",
        "    kernel.lengthscale = initial_condition[\"lengthscale\"]\n",
        "    kernel.variance = initial_condition[\"variance\"]\n",
        "    print(kernel.lengthscale)\n",
        "    print(kernel.variance)\n",
        "    try:\n",
        "        # Create the GP regression model with the current kernel\n",
        "        fullgpr_model = GPy.models.GPRegression(xtdata,predarray, kernel)\n",
        "\n",
        "        # Optimize the model parameters\n",
        "        fullgpr_model.optimize_restarts(5)\n",
        "        # Calculate the negative log-likelihood\n",
        "        negative_log_likelihood = -fullgpr_model.log_likelihood()\n",
        "        print(f\"Negative Log-Likelihood: {negative_log_likelihood}\")\n",
        "        # Print the optimized parameters and other relevant information\n",
        "        print(f\"Optimization Run {i+1}:\")\n",
        "        print(\"Optimized Parameters:\")\n",
        "        print(fullgpr_model)\n",
        "        print(\"\\n\")\n",
        "        # Assuming 'high_gp_model' is your GP regression model\n",
        "        kernel_params = fullgpr_model.kern.param_array\n",
        "\n",
        "# # Print kernel parameters\n",
        "#         print(\"Lengthscale (Dimension 0):\", kernel_params[0])\n",
        "#         print(\"Lengthscale (Dimension 1):\", kernel_params[1])\n",
        "\n",
        "# Get the gradients of optimization\n",
        "        gradients=fullgpr_model.gradient\n",
        "\n",
        "# Get the names of the model's parameters\n",
        "        parameter= fullgpr_model.parameter_names()\n",
        "\n",
        "# Print the gradients along with the parameter names\n",
        "        print(\"Gradients of Optimization:\")\n",
        "        for i in range(len(parameter)):\n",
        "          print(f\"Parameter: {parameter[i]} - Gradient: {gradients[i]}\")\n",
        "    except ValueError as e:\n",
        "        print(f\"Error in Optimization Run {i+1}:\")\n",
        "        print(e)\n"
      ],
      "metadata": {
        "id": "6twKPinhRGGb"
      },
      "execution_count": null,
      "outputs": []
    },
    {
      "cell_type": "code",
      "execution_count": null,
      "metadata": {
        "id": "J7j5AUVASJ1e"
      },
      "outputs": [],
      "source": [
        "# # import numpy as np\n",
        "# # # Y values from -π to π\n",
        "\n",
        "\n",
        "# # # Save X and Y to CSV files\n",
        "# # np.savetxt('/content/drive/MyDrive/ColabNotebooks/X_data.csv', X, delimiter=',')\n",
        "# # np.savetxt('/content/drive/MyDrive/ColabNotebooks/Y_data.csv', Y, delimiter=',')\n",
        "# np.savetxt('/content/drive/MyDrive/ColabNotebooks/MATmeanL4_7MFsurfE70_50.csv', Y_pred_grid, delimiter=',')\n",
        "# np.savetxt('/content/drive/MyDrive/ColabNotebooks/MATmeanL4_7RANSGPsurf70_50.csv', rans_pred_grid, delimiter=',')\n",
        "# np.savetxt('/content/drive/MyDrive/ColabNotebooks/MATmeanL4_7DNSGPsurfE70_50.csv', dns_pred_grid, delimiter=',')\n"
      ]
    },
    {
      "cell_type": "code",
      "source": [],
      "metadata": {
        "id": "zBPq9l1LFivu"
      },
      "execution_count": null,
      "outputs": []
    },
    {
      "cell_type": "code",
      "execution_count": null,
      "metadata": {
        "id": "_rmOh96R0RXw"
      },
      "outputs": [],
      "source": []
    }
  ],
  "metadata": {
    "colab": {
      "provenance": []
    },
    "kernelspec": {
      "display_name": "Python 3",
      "name": "python3"
    },
    "language_info": {
      "name": "python"
    }
  },
  "nbformat": 4,
  "nbformat_minor": 0
}